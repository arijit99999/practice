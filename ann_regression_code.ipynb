{
  "nbformat": 4,
  "nbformat_minor": 0,
  "metadata": {
    "colab": {
      "provenance": []
    },
    "kernelspec": {
      "name": "python3",
      "display_name": "Python 3"
    },
    "language_info": {
      "name": "python"
    }
  },
  "cells": [
    {
      "cell_type": "code",
      "source": [
        "import warnings\n",
        "warnings.filterwarnings('ignore')"
      ],
      "metadata": {
        "id": "oCOT4uSJT4yx"
      },
      "execution_count": 1,
      "outputs": []
    },
    {
      "cell_type": "code",
      "execution_count": 2,
      "metadata": {
        "id": "TfmULxuNzUWk"
      },
      "outputs": [],
      "source": [
        "import pandas as pd"
      ]
    },
    {
      "cell_type": "code",
      "source": [
        "data=pd.read_csv('/content/Housing.csv')"
      ],
      "metadata": {
        "id": "fhqJlcLPzbd9"
      },
      "execution_count": 6,
      "outputs": []
    },
    {
      "cell_type": "code",
      "source": [
        "data.head()"
      ],
      "metadata": {
        "colab": {
          "base_uri": "https://localhost:8080/",
          "height": 226
        },
        "id": "MSUXmIenzqt2",
        "outputId": "4ab5d8ff-6039-418c-f7ec-e8170ab4430a"
      },
      "execution_count": 7,
      "outputs": [
        {
          "output_type": "execute_result",
          "data": {
            "text/plain": [
              "      price  area  bedrooms  bathrooms  stories mainroad guestroom basement  \\\n",
              "0  13300000  7420         4          2        3      yes        no       no   \n",
              "1  12250000  8960         4          4        4      yes        no       no   \n",
              "2  12250000  9960         3          2        2      yes        no      yes   \n",
              "3  12215000  7500         4          2        2      yes        no      yes   \n",
              "4  11410000  7420         4          1        2      yes       yes      yes   \n",
              "\n",
              "  hotwaterheating airconditioning  parking prefarea furnishingstatus  \n",
              "0              no             yes        2      yes        furnished  \n",
              "1              no             yes        3       no        furnished  \n",
              "2              no              no        2      yes   semi-furnished  \n",
              "3              no             yes        3      yes        furnished  \n",
              "4              no             yes        2       no        furnished  "
            ],
            "text/html": [
              "\n",
              "  <div id=\"df-f46e0fd7-0a53-4e6a-8b30-ab0a83b8b234\" class=\"colab-df-container\">\n",
              "    <div>\n",
              "<style scoped>\n",
              "    .dataframe tbody tr th:only-of-type {\n",
              "        vertical-align: middle;\n",
              "    }\n",
              "\n",
              "    .dataframe tbody tr th {\n",
              "        vertical-align: top;\n",
              "    }\n",
              "\n",
              "    .dataframe thead th {\n",
              "        text-align: right;\n",
              "    }\n",
              "</style>\n",
              "<table border=\"1\" class=\"dataframe\">\n",
              "  <thead>\n",
              "    <tr style=\"text-align: right;\">\n",
              "      <th></th>\n",
              "      <th>price</th>\n",
              "      <th>area</th>\n",
              "      <th>bedrooms</th>\n",
              "      <th>bathrooms</th>\n",
              "      <th>stories</th>\n",
              "      <th>mainroad</th>\n",
              "      <th>guestroom</th>\n",
              "      <th>basement</th>\n",
              "      <th>hotwaterheating</th>\n",
              "      <th>airconditioning</th>\n",
              "      <th>parking</th>\n",
              "      <th>prefarea</th>\n",
              "      <th>furnishingstatus</th>\n",
              "    </tr>\n",
              "  </thead>\n",
              "  <tbody>\n",
              "    <tr>\n",
              "      <th>0</th>\n",
              "      <td>13300000</td>\n",
              "      <td>7420</td>\n",
              "      <td>4</td>\n",
              "      <td>2</td>\n",
              "      <td>3</td>\n",
              "      <td>yes</td>\n",
              "      <td>no</td>\n",
              "      <td>no</td>\n",
              "      <td>no</td>\n",
              "      <td>yes</td>\n",
              "      <td>2</td>\n",
              "      <td>yes</td>\n",
              "      <td>furnished</td>\n",
              "    </tr>\n",
              "    <tr>\n",
              "      <th>1</th>\n",
              "      <td>12250000</td>\n",
              "      <td>8960</td>\n",
              "      <td>4</td>\n",
              "      <td>4</td>\n",
              "      <td>4</td>\n",
              "      <td>yes</td>\n",
              "      <td>no</td>\n",
              "      <td>no</td>\n",
              "      <td>no</td>\n",
              "      <td>yes</td>\n",
              "      <td>3</td>\n",
              "      <td>no</td>\n",
              "      <td>furnished</td>\n",
              "    </tr>\n",
              "    <tr>\n",
              "      <th>2</th>\n",
              "      <td>12250000</td>\n",
              "      <td>9960</td>\n",
              "      <td>3</td>\n",
              "      <td>2</td>\n",
              "      <td>2</td>\n",
              "      <td>yes</td>\n",
              "      <td>no</td>\n",
              "      <td>yes</td>\n",
              "      <td>no</td>\n",
              "      <td>no</td>\n",
              "      <td>2</td>\n",
              "      <td>yes</td>\n",
              "      <td>semi-furnished</td>\n",
              "    </tr>\n",
              "    <tr>\n",
              "      <th>3</th>\n",
              "      <td>12215000</td>\n",
              "      <td>7500</td>\n",
              "      <td>4</td>\n",
              "      <td>2</td>\n",
              "      <td>2</td>\n",
              "      <td>yes</td>\n",
              "      <td>no</td>\n",
              "      <td>yes</td>\n",
              "      <td>no</td>\n",
              "      <td>yes</td>\n",
              "      <td>3</td>\n",
              "      <td>yes</td>\n",
              "      <td>furnished</td>\n",
              "    </tr>\n",
              "    <tr>\n",
              "      <th>4</th>\n",
              "      <td>11410000</td>\n",
              "      <td>7420</td>\n",
              "      <td>4</td>\n",
              "      <td>1</td>\n",
              "      <td>2</td>\n",
              "      <td>yes</td>\n",
              "      <td>yes</td>\n",
              "      <td>yes</td>\n",
              "      <td>no</td>\n",
              "      <td>yes</td>\n",
              "      <td>2</td>\n",
              "      <td>no</td>\n",
              "      <td>furnished</td>\n",
              "    </tr>\n",
              "  </tbody>\n",
              "</table>\n",
              "</div>\n",
              "    <div class=\"colab-df-buttons\">\n",
              "\n",
              "  <div class=\"colab-df-container\">\n",
              "    <button class=\"colab-df-convert\" onclick=\"convertToInteractive('df-f46e0fd7-0a53-4e6a-8b30-ab0a83b8b234')\"\n",
              "            title=\"Convert this dataframe to an interactive table.\"\n",
              "            style=\"display:none;\">\n",
              "\n",
              "  <svg xmlns=\"http://www.w3.org/2000/svg\" height=\"24px\" viewBox=\"0 -960 960 960\">\n",
              "    <path d=\"M120-120v-720h720v720H120Zm60-500h600v-160H180v160Zm220 220h160v-160H400v160Zm0 220h160v-160H400v160ZM180-400h160v-160H180v160Zm440 0h160v-160H620v160ZM180-180h160v-160H180v160Zm440 0h160v-160H620v160Z\"/>\n",
              "  </svg>\n",
              "    </button>\n",
              "\n",
              "  <style>\n",
              "    .colab-df-container {\n",
              "      display:flex;\n",
              "      gap: 12px;\n",
              "    }\n",
              "\n",
              "    .colab-df-convert {\n",
              "      background-color: #E8F0FE;\n",
              "      border: none;\n",
              "      border-radius: 50%;\n",
              "      cursor: pointer;\n",
              "      display: none;\n",
              "      fill: #1967D2;\n",
              "      height: 32px;\n",
              "      padding: 0 0 0 0;\n",
              "      width: 32px;\n",
              "    }\n",
              "\n",
              "    .colab-df-convert:hover {\n",
              "      background-color: #E2EBFA;\n",
              "      box-shadow: 0px 1px 2px rgba(60, 64, 67, 0.3), 0px 1px 3px 1px rgba(60, 64, 67, 0.15);\n",
              "      fill: #174EA6;\n",
              "    }\n",
              "\n",
              "    .colab-df-buttons div {\n",
              "      margin-bottom: 4px;\n",
              "    }\n",
              "\n",
              "    [theme=dark] .colab-df-convert {\n",
              "      background-color: #3B4455;\n",
              "      fill: #D2E3FC;\n",
              "    }\n",
              "\n",
              "    [theme=dark] .colab-df-convert:hover {\n",
              "      background-color: #434B5C;\n",
              "      box-shadow: 0px 1px 3px 1px rgba(0, 0, 0, 0.15);\n",
              "      filter: drop-shadow(0px 1px 2px rgba(0, 0, 0, 0.3));\n",
              "      fill: #FFFFFF;\n",
              "    }\n",
              "  </style>\n",
              "\n",
              "    <script>\n",
              "      const buttonEl =\n",
              "        document.querySelector('#df-f46e0fd7-0a53-4e6a-8b30-ab0a83b8b234 button.colab-df-convert');\n",
              "      buttonEl.style.display =\n",
              "        google.colab.kernel.accessAllowed ? 'block' : 'none';\n",
              "\n",
              "      async function convertToInteractive(key) {\n",
              "        const element = document.querySelector('#df-f46e0fd7-0a53-4e6a-8b30-ab0a83b8b234');\n",
              "        const dataTable =\n",
              "          await google.colab.kernel.invokeFunction('convertToInteractive',\n",
              "                                                    [key], {});\n",
              "        if (!dataTable) return;\n",
              "\n",
              "        const docLinkHtml = 'Like what you see? Visit the ' +\n",
              "          '<a target=\"_blank\" href=https://colab.research.google.com/notebooks/data_table.ipynb>data table notebook</a>'\n",
              "          + ' to learn more about interactive tables.';\n",
              "        element.innerHTML = '';\n",
              "        dataTable['output_type'] = 'display_data';\n",
              "        await google.colab.output.renderOutput(dataTable, element);\n",
              "        const docLink = document.createElement('div');\n",
              "        docLink.innerHTML = docLinkHtml;\n",
              "        element.appendChild(docLink);\n",
              "      }\n",
              "    </script>\n",
              "  </div>\n",
              "\n",
              "\n",
              "<div id=\"df-fc81d8a1-553b-4bc8-bae3-b7ed35b9095c\">\n",
              "  <button class=\"colab-df-quickchart\" onclick=\"quickchart('df-fc81d8a1-553b-4bc8-bae3-b7ed35b9095c')\"\n",
              "            title=\"Suggest charts\"\n",
              "            style=\"display:none;\">\n",
              "\n",
              "<svg xmlns=\"http://www.w3.org/2000/svg\" height=\"24px\"viewBox=\"0 0 24 24\"\n",
              "     width=\"24px\">\n",
              "    <g>\n",
              "        <path d=\"M19 3H5c-1.1 0-2 .9-2 2v14c0 1.1.9 2 2 2h14c1.1 0 2-.9 2-2V5c0-1.1-.9-2-2-2zM9 17H7v-7h2v7zm4 0h-2V7h2v10zm4 0h-2v-4h2v4z\"/>\n",
              "    </g>\n",
              "</svg>\n",
              "  </button>\n",
              "\n",
              "<style>\n",
              "  .colab-df-quickchart {\n",
              "      --bg-color: #E8F0FE;\n",
              "      --fill-color: #1967D2;\n",
              "      --hover-bg-color: #E2EBFA;\n",
              "      --hover-fill-color: #174EA6;\n",
              "      --disabled-fill-color: #AAA;\n",
              "      --disabled-bg-color: #DDD;\n",
              "  }\n",
              "\n",
              "  [theme=dark] .colab-df-quickchart {\n",
              "      --bg-color: #3B4455;\n",
              "      --fill-color: #D2E3FC;\n",
              "      --hover-bg-color: #434B5C;\n",
              "      --hover-fill-color: #FFFFFF;\n",
              "      --disabled-bg-color: #3B4455;\n",
              "      --disabled-fill-color: #666;\n",
              "  }\n",
              "\n",
              "  .colab-df-quickchart {\n",
              "    background-color: var(--bg-color);\n",
              "    border: none;\n",
              "    border-radius: 50%;\n",
              "    cursor: pointer;\n",
              "    display: none;\n",
              "    fill: var(--fill-color);\n",
              "    height: 32px;\n",
              "    padding: 0;\n",
              "    width: 32px;\n",
              "  }\n",
              "\n",
              "  .colab-df-quickchart:hover {\n",
              "    background-color: var(--hover-bg-color);\n",
              "    box-shadow: 0 1px 2px rgba(60, 64, 67, 0.3), 0 1px 3px 1px rgba(60, 64, 67, 0.15);\n",
              "    fill: var(--button-hover-fill-color);\n",
              "  }\n",
              "\n",
              "  .colab-df-quickchart-complete:disabled,\n",
              "  .colab-df-quickchart-complete:disabled:hover {\n",
              "    background-color: var(--disabled-bg-color);\n",
              "    fill: var(--disabled-fill-color);\n",
              "    box-shadow: none;\n",
              "  }\n",
              "\n",
              "  .colab-df-spinner {\n",
              "    border: 2px solid var(--fill-color);\n",
              "    border-color: transparent;\n",
              "    border-bottom-color: var(--fill-color);\n",
              "    animation:\n",
              "      spin 1s steps(1) infinite;\n",
              "  }\n",
              "\n",
              "  @keyframes spin {\n",
              "    0% {\n",
              "      border-color: transparent;\n",
              "      border-bottom-color: var(--fill-color);\n",
              "      border-left-color: var(--fill-color);\n",
              "    }\n",
              "    20% {\n",
              "      border-color: transparent;\n",
              "      border-left-color: var(--fill-color);\n",
              "      border-top-color: var(--fill-color);\n",
              "    }\n",
              "    30% {\n",
              "      border-color: transparent;\n",
              "      border-left-color: var(--fill-color);\n",
              "      border-top-color: var(--fill-color);\n",
              "      border-right-color: var(--fill-color);\n",
              "    }\n",
              "    40% {\n",
              "      border-color: transparent;\n",
              "      border-right-color: var(--fill-color);\n",
              "      border-top-color: var(--fill-color);\n",
              "    }\n",
              "    60% {\n",
              "      border-color: transparent;\n",
              "      border-right-color: var(--fill-color);\n",
              "    }\n",
              "    80% {\n",
              "      border-color: transparent;\n",
              "      border-right-color: var(--fill-color);\n",
              "      border-bottom-color: var(--fill-color);\n",
              "    }\n",
              "    90% {\n",
              "      border-color: transparent;\n",
              "      border-bottom-color: var(--fill-color);\n",
              "    }\n",
              "  }\n",
              "</style>\n",
              "\n",
              "  <script>\n",
              "    async function quickchart(key) {\n",
              "      const quickchartButtonEl =\n",
              "        document.querySelector('#' + key + ' button');\n",
              "      quickchartButtonEl.disabled = true;  // To prevent multiple clicks.\n",
              "      quickchartButtonEl.classList.add('colab-df-spinner');\n",
              "      try {\n",
              "        const charts = await google.colab.kernel.invokeFunction(\n",
              "            'suggestCharts', [key], {});\n",
              "      } catch (error) {\n",
              "        console.error('Error during call to suggestCharts:', error);\n",
              "      }\n",
              "      quickchartButtonEl.classList.remove('colab-df-spinner');\n",
              "      quickchartButtonEl.classList.add('colab-df-quickchart-complete');\n",
              "    }\n",
              "    (() => {\n",
              "      let quickchartButtonEl =\n",
              "        document.querySelector('#df-fc81d8a1-553b-4bc8-bae3-b7ed35b9095c button');\n",
              "      quickchartButtonEl.style.display =\n",
              "        google.colab.kernel.accessAllowed ? 'block' : 'none';\n",
              "    })();\n",
              "  </script>\n",
              "</div>\n",
              "\n",
              "    </div>\n",
              "  </div>\n"
            ],
            "application/vnd.google.colaboratory.intrinsic+json": {
              "type": "dataframe",
              "variable_name": "data",
              "summary": "{\n  \"name\": \"data\",\n  \"rows\": 545,\n  \"fields\": [\n    {\n      \"column\": \"price\",\n      \"properties\": {\n        \"dtype\": \"number\",\n        \"std\": 1870439,\n        \"min\": 1750000,\n        \"max\": 13300000,\n        \"num_unique_values\": 219,\n        \"samples\": [\n          3773000,\n          5285000,\n          1820000\n        ],\n        \"semantic_type\": \"\",\n        \"description\": \"\"\n      }\n    },\n    {\n      \"column\": \"area\",\n      \"properties\": {\n        \"dtype\": \"number\",\n        \"std\": 2170,\n        \"min\": 1650,\n        \"max\": 16200,\n        \"num_unique_values\": 284,\n        \"samples\": [\n          6000,\n          2684,\n          5360\n        ],\n        \"semantic_type\": \"\",\n        \"description\": \"\"\n      }\n    },\n    {\n      \"column\": \"bedrooms\",\n      \"properties\": {\n        \"dtype\": \"number\",\n        \"std\": 0,\n        \"min\": 1,\n        \"max\": 6,\n        \"num_unique_values\": 6,\n        \"samples\": [\n          4,\n          3,\n          1\n        ],\n        \"semantic_type\": \"\",\n        \"description\": \"\"\n      }\n    },\n    {\n      \"column\": \"bathrooms\",\n      \"properties\": {\n        \"dtype\": \"number\",\n        \"std\": 0,\n        \"min\": 1,\n        \"max\": 4,\n        \"num_unique_values\": 4,\n        \"samples\": [\n          4,\n          3,\n          2\n        ],\n        \"semantic_type\": \"\",\n        \"description\": \"\"\n      }\n    },\n    {\n      \"column\": \"stories\",\n      \"properties\": {\n        \"dtype\": \"number\",\n        \"std\": 0,\n        \"min\": 1,\n        \"max\": 4,\n        \"num_unique_values\": 4,\n        \"samples\": [\n          4,\n          1,\n          3\n        ],\n        \"semantic_type\": \"\",\n        \"description\": \"\"\n      }\n    },\n    {\n      \"column\": \"mainroad\",\n      \"properties\": {\n        \"dtype\": \"category\",\n        \"num_unique_values\": 2,\n        \"samples\": [\n          \"no\",\n          \"yes\"\n        ],\n        \"semantic_type\": \"\",\n        \"description\": \"\"\n      }\n    },\n    {\n      \"column\": \"guestroom\",\n      \"properties\": {\n        \"dtype\": \"category\",\n        \"num_unique_values\": 2,\n        \"samples\": [\n          \"yes\",\n          \"no\"\n        ],\n        \"semantic_type\": \"\",\n        \"description\": \"\"\n      }\n    },\n    {\n      \"column\": \"basement\",\n      \"properties\": {\n        \"dtype\": \"category\",\n        \"num_unique_values\": 2,\n        \"samples\": [\n          \"yes\",\n          \"no\"\n        ],\n        \"semantic_type\": \"\",\n        \"description\": \"\"\n      }\n    },\n    {\n      \"column\": \"hotwaterheating\",\n      \"properties\": {\n        \"dtype\": \"category\",\n        \"num_unique_values\": 2,\n        \"samples\": [\n          \"yes\",\n          \"no\"\n        ],\n        \"semantic_type\": \"\",\n        \"description\": \"\"\n      }\n    },\n    {\n      \"column\": \"airconditioning\",\n      \"properties\": {\n        \"dtype\": \"category\",\n        \"num_unique_values\": 2,\n        \"samples\": [\n          \"no\",\n          \"yes\"\n        ],\n        \"semantic_type\": \"\",\n        \"description\": \"\"\n      }\n    },\n    {\n      \"column\": \"parking\",\n      \"properties\": {\n        \"dtype\": \"number\",\n        \"std\": 0,\n        \"min\": 0,\n        \"max\": 3,\n        \"num_unique_values\": 4,\n        \"samples\": [\n          3,\n          1\n        ],\n        \"semantic_type\": \"\",\n        \"description\": \"\"\n      }\n    },\n    {\n      \"column\": \"prefarea\",\n      \"properties\": {\n        \"dtype\": \"category\",\n        \"num_unique_values\": 2,\n        \"samples\": [\n          \"no\",\n          \"yes\"\n        ],\n        \"semantic_type\": \"\",\n        \"description\": \"\"\n      }\n    },\n    {\n      \"column\": \"furnishingstatus\",\n      \"properties\": {\n        \"dtype\": \"category\",\n        \"num_unique_values\": 3,\n        \"samples\": [\n          \"furnished\",\n          \"semi-furnished\"\n        ],\n        \"semantic_type\": \"\",\n        \"description\": \"\"\n      }\n    }\n  ]\n}"
            }
          },
          "metadata": {},
          "execution_count": 7
        }
      ]
    },
    {
      "cell_type": "code",
      "source": [
        "data.shape"
      ],
      "metadata": {
        "colab": {
          "base_uri": "https://localhost:8080/"
        },
        "id": "hVl1bby56I0r",
        "outputId": "34338216-fc46-498f-c62a-dee8da245d5f"
      },
      "execution_count": 8,
      "outputs": [
        {
          "output_type": "execute_result",
          "data": {
            "text/plain": [
              "(545, 13)"
            ]
          },
          "metadata": {},
          "execution_count": 8
        }
      ]
    },
    {
      "cell_type": "code",
      "source": [
        "data.isnull().sum()"
      ],
      "metadata": {
        "colab": {
          "base_uri": "https://localhost:8080/"
        },
        "id": "ZucuN8p5ztA_",
        "outputId": "715c0ced-7a48-4120-a70b-5d3255863bf6"
      },
      "execution_count": 9,
      "outputs": [
        {
          "output_type": "execute_result",
          "data": {
            "text/plain": [
              "price               0\n",
              "area                0\n",
              "bedrooms            0\n",
              "bathrooms           0\n",
              "stories             0\n",
              "mainroad            0\n",
              "guestroom           0\n",
              "basement            0\n",
              "hotwaterheating     0\n",
              "airconditioning     0\n",
              "parking             0\n",
              "prefarea            0\n",
              "furnishingstatus    0\n",
              "dtype: int64"
            ]
          },
          "metadata": {},
          "execution_count": 9
        }
      ]
    },
    {
      "cell_type": "code",
      "source": [
        "data.info()"
      ],
      "metadata": {
        "colab": {
          "base_uri": "https://localhost:8080/"
        },
        "id": "JAt84g07zxyf",
        "outputId": "42a990eb-ec0f-4b24-81df-2dc50d71dc85"
      },
      "execution_count": 10,
      "outputs": [
        {
          "output_type": "stream",
          "name": "stdout",
          "text": [
            "<class 'pandas.core.frame.DataFrame'>\n",
            "RangeIndex: 545 entries, 0 to 544\n",
            "Data columns (total 13 columns):\n",
            " #   Column            Non-Null Count  Dtype \n",
            "---  ------            --------------  ----- \n",
            " 0   price             545 non-null    int64 \n",
            " 1   area              545 non-null    int64 \n",
            " 2   bedrooms          545 non-null    int64 \n",
            " 3   bathrooms         545 non-null    int64 \n",
            " 4   stories           545 non-null    int64 \n",
            " 5   mainroad          545 non-null    object\n",
            " 6   guestroom         545 non-null    object\n",
            " 7   basement          545 non-null    object\n",
            " 8   hotwaterheating   545 non-null    object\n",
            " 9   airconditioning   545 non-null    object\n",
            " 10  parking           545 non-null    int64 \n",
            " 11  prefarea          545 non-null    object\n",
            " 12  furnishingstatus  545 non-null    object\n",
            "dtypes: int64(6), object(7)\n",
            "memory usage: 55.5+ KB\n"
          ]
        }
      ]
    },
    {
      "cell_type": "code",
      "source": [
        "obj=[]\n",
        "num=[]\n",
        "for i in data.columns:\n",
        "  if data[i].dtype=='object':\n",
        "    obj.append(i)\n",
        "  else:\n",
        "    num.append(i)"
      ],
      "metadata": {
        "id": "I4Tha1uz2PjG"
      },
      "execution_count": 17,
      "outputs": []
    },
    {
      "cell_type": "code",
      "source": [
        "obj"
      ],
      "metadata": {
        "colab": {
          "base_uri": "https://localhost:8080/"
        },
        "id": "ypfT5uBo3Lzy",
        "outputId": "a2bbf9ec-7ee3-4d06-daa2-a8b1e610adaf"
      },
      "execution_count": 18,
      "outputs": [
        {
          "output_type": "execute_result",
          "data": {
            "text/plain": [
              "['mainroad',\n",
              " 'guestroom',\n",
              " 'basement',\n",
              " 'hotwaterheating',\n",
              " 'airconditioning',\n",
              " 'prefarea',\n",
              " 'furnishingstatus']"
            ]
          },
          "metadata": {},
          "execution_count": 18
        }
      ]
    },
    {
      "cell_type": "code",
      "source": [
        "for j in obj:\n",
        "  data[j]=data[j].astype('category').cat.codes"
      ],
      "metadata": {
        "id": "HAqNQroj2SRT"
      },
      "execution_count": 19,
      "outputs": []
    },
    {
      "cell_type": "code",
      "source": [
        "data.info()"
      ],
      "metadata": {
        "colab": {
          "base_uri": "https://localhost:8080/"
        },
        "id": "R66rp0hW2SN1",
        "outputId": "2dde1765-5353-4180-8144-4de98f0db610"
      },
      "execution_count": 20,
      "outputs": [
        {
          "output_type": "stream",
          "name": "stdout",
          "text": [
            "<class 'pandas.core.frame.DataFrame'>\n",
            "RangeIndex: 545 entries, 0 to 544\n",
            "Data columns (total 13 columns):\n",
            " #   Column            Non-Null Count  Dtype\n",
            "---  ------            --------------  -----\n",
            " 0   price             545 non-null    int64\n",
            " 1   area              545 non-null    int64\n",
            " 2   bedrooms          545 non-null    int64\n",
            " 3   bathrooms         545 non-null    int64\n",
            " 4   stories           545 non-null    int64\n",
            " 5   mainroad          545 non-null    int8 \n",
            " 6   guestroom         545 non-null    int8 \n",
            " 7   basement          545 non-null    int8 \n",
            " 8   hotwaterheating   545 non-null    int8 \n",
            " 9   airconditioning   545 non-null    int8 \n",
            " 10  parking           545 non-null    int64\n",
            " 11  prefarea          545 non-null    int8 \n",
            " 12  furnishingstatus  545 non-null    int8 \n",
            "dtypes: int64(6), int8(7)\n",
            "memory usage: 29.4 KB\n"
          ]
        }
      ]
    },
    {
      "cell_type": "code",
      "source": [
        "data.head()"
      ],
      "metadata": {
        "colab": {
          "base_uri": "https://localhost:8080/",
          "height": 226
        },
        "id": "j3vYmRLooi5f",
        "outputId": "2c3ed2fb-f1c5-47af-d01d-a3d3914f3cd2"
      },
      "execution_count": 21,
      "outputs": [
        {
          "output_type": "execute_result",
          "data": {
            "text/plain": [
              "      price  area  bedrooms  bathrooms  stories  mainroad  guestroom  \\\n",
              "0  13300000  7420         4          2        3         1          0   \n",
              "1  12250000  8960         4          4        4         1          0   \n",
              "2  12250000  9960         3          2        2         1          0   \n",
              "3  12215000  7500         4          2        2         1          0   \n",
              "4  11410000  7420         4          1        2         1          1   \n",
              "\n",
              "   basement  hotwaterheating  airconditioning  parking  prefarea  \\\n",
              "0         0                0                1        2         1   \n",
              "1         0                0                1        3         0   \n",
              "2         1                0                0        2         1   \n",
              "3         1                0                1        3         1   \n",
              "4         1                0                1        2         0   \n",
              "\n",
              "   furnishingstatus  \n",
              "0                 0  \n",
              "1                 0  \n",
              "2                 1  \n",
              "3                 0  \n",
              "4                 0  "
            ],
            "text/html": [
              "\n",
              "  <div id=\"df-5a05eae9-dfdc-4836-918e-3e7cb468f538\" class=\"colab-df-container\">\n",
              "    <div>\n",
              "<style scoped>\n",
              "    .dataframe tbody tr th:only-of-type {\n",
              "        vertical-align: middle;\n",
              "    }\n",
              "\n",
              "    .dataframe tbody tr th {\n",
              "        vertical-align: top;\n",
              "    }\n",
              "\n",
              "    .dataframe thead th {\n",
              "        text-align: right;\n",
              "    }\n",
              "</style>\n",
              "<table border=\"1\" class=\"dataframe\">\n",
              "  <thead>\n",
              "    <tr style=\"text-align: right;\">\n",
              "      <th></th>\n",
              "      <th>price</th>\n",
              "      <th>area</th>\n",
              "      <th>bedrooms</th>\n",
              "      <th>bathrooms</th>\n",
              "      <th>stories</th>\n",
              "      <th>mainroad</th>\n",
              "      <th>guestroom</th>\n",
              "      <th>basement</th>\n",
              "      <th>hotwaterheating</th>\n",
              "      <th>airconditioning</th>\n",
              "      <th>parking</th>\n",
              "      <th>prefarea</th>\n",
              "      <th>furnishingstatus</th>\n",
              "    </tr>\n",
              "  </thead>\n",
              "  <tbody>\n",
              "    <tr>\n",
              "      <th>0</th>\n",
              "      <td>13300000</td>\n",
              "      <td>7420</td>\n",
              "      <td>4</td>\n",
              "      <td>2</td>\n",
              "      <td>3</td>\n",
              "      <td>1</td>\n",
              "      <td>0</td>\n",
              "      <td>0</td>\n",
              "      <td>0</td>\n",
              "      <td>1</td>\n",
              "      <td>2</td>\n",
              "      <td>1</td>\n",
              "      <td>0</td>\n",
              "    </tr>\n",
              "    <tr>\n",
              "      <th>1</th>\n",
              "      <td>12250000</td>\n",
              "      <td>8960</td>\n",
              "      <td>4</td>\n",
              "      <td>4</td>\n",
              "      <td>4</td>\n",
              "      <td>1</td>\n",
              "      <td>0</td>\n",
              "      <td>0</td>\n",
              "      <td>0</td>\n",
              "      <td>1</td>\n",
              "      <td>3</td>\n",
              "      <td>0</td>\n",
              "      <td>0</td>\n",
              "    </tr>\n",
              "    <tr>\n",
              "      <th>2</th>\n",
              "      <td>12250000</td>\n",
              "      <td>9960</td>\n",
              "      <td>3</td>\n",
              "      <td>2</td>\n",
              "      <td>2</td>\n",
              "      <td>1</td>\n",
              "      <td>0</td>\n",
              "      <td>1</td>\n",
              "      <td>0</td>\n",
              "      <td>0</td>\n",
              "      <td>2</td>\n",
              "      <td>1</td>\n",
              "      <td>1</td>\n",
              "    </tr>\n",
              "    <tr>\n",
              "      <th>3</th>\n",
              "      <td>12215000</td>\n",
              "      <td>7500</td>\n",
              "      <td>4</td>\n",
              "      <td>2</td>\n",
              "      <td>2</td>\n",
              "      <td>1</td>\n",
              "      <td>0</td>\n",
              "      <td>1</td>\n",
              "      <td>0</td>\n",
              "      <td>1</td>\n",
              "      <td>3</td>\n",
              "      <td>1</td>\n",
              "      <td>0</td>\n",
              "    </tr>\n",
              "    <tr>\n",
              "      <th>4</th>\n",
              "      <td>11410000</td>\n",
              "      <td>7420</td>\n",
              "      <td>4</td>\n",
              "      <td>1</td>\n",
              "      <td>2</td>\n",
              "      <td>1</td>\n",
              "      <td>1</td>\n",
              "      <td>1</td>\n",
              "      <td>0</td>\n",
              "      <td>1</td>\n",
              "      <td>2</td>\n",
              "      <td>0</td>\n",
              "      <td>0</td>\n",
              "    </tr>\n",
              "  </tbody>\n",
              "</table>\n",
              "</div>\n",
              "    <div class=\"colab-df-buttons\">\n",
              "\n",
              "  <div class=\"colab-df-container\">\n",
              "    <button class=\"colab-df-convert\" onclick=\"convertToInteractive('df-5a05eae9-dfdc-4836-918e-3e7cb468f538')\"\n",
              "            title=\"Convert this dataframe to an interactive table.\"\n",
              "            style=\"display:none;\">\n",
              "\n",
              "  <svg xmlns=\"http://www.w3.org/2000/svg\" height=\"24px\" viewBox=\"0 -960 960 960\">\n",
              "    <path d=\"M120-120v-720h720v720H120Zm60-500h600v-160H180v160Zm220 220h160v-160H400v160Zm0 220h160v-160H400v160ZM180-400h160v-160H180v160Zm440 0h160v-160H620v160ZM180-180h160v-160H180v160Zm440 0h160v-160H620v160Z\"/>\n",
              "  </svg>\n",
              "    </button>\n",
              "\n",
              "  <style>\n",
              "    .colab-df-container {\n",
              "      display:flex;\n",
              "      gap: 12px;\n",
              "    }\n",
              "\n",
              "    .colab-df-convert {\n",
              "      background-color: #E8F0FE;\n",
              "      border: none;\n",
              "      border-radius: 50%;\n",
              "      cursor: pointer;\n",
              "      display: none;\n",
              "      fill: #1967D2;\n",
              "      height: 32px;\n",
              "      padding: 0 0 0 0;\n",
              "      width: 32px;\n",
              "    }\n",
              "\n",
              "    .colab-df-convert:hover {\n",
              "      background-color: #E2EBFA;\n",
              "      box-shadow: 0px 1px 2px rgba(60, 64, 67, 0.3), 0px 1px 3px 1px rgba(60, 64, 67, 0.15);\n",
              "      fill: #174EA6;\n",
              "    }\n",
              "\n",
              "    .colab-df-buttons div {\n",
              "      margin-bottom: 4px;\n",
              "    }\n",
              "\n",
              "    [theme=dark] .colab-df-convert {\n",
              "      background-color: #3B4455;\n",
              "      fill: #D2E3FC;\n",
              "    }\n",
              "\n",
              "    [theme=dark] .colab-df-convert:hover {\n",
              "      background-color: #434B5C;\n",
              "      box-shadow: 0px 1px 3px 1px rgba(0, 0, 0, 0.15);\n",
              "      filter: drop-shadow(0px 1px 2px rgba(0, 0, 0, 0.3));\n",
              "      fill: #FFFFFF;\n",
              "    }\n",
              "  </style>\n",
              "\n",
              "    <script>\n",
              "      const buttonEl =\n",
              "        document.querySelector('#df-5a05eae9-dfdc-4836-918e-3e7cb468f538 button.colab-df-convert');\n",
              "      buttonEl.style.display =\n",
              "        google.colab.kernel.accessAllowed ? 'block' : 'none';\n",
              "\n",
              "      async function convertToInteractive(key) {\n",
              "        const element = document.querySelector('#df-5a05eae9-dfdc-4836-918e-3e7cb468f538');\n",
              "        const dataTable =\n",
              "          await google.colab.kernel.invokeFunction('convertToInteractive',\n",
              "                                                    [key], {});\n",
              "        if (!dataTable) return;\n",
              "\n",
              "        const docLinkHtml = 'Like what you see? Visit the ' +\n",
              "          '<a target=\"_blank\" href=https://colab.research.google.com/notebooks/data_table.ipynb>data table notebook</a>'\n",
              "          + ' to learn more about interactive tables.';\n",
              "        element.innerHTML = '';\n",
              "        dataTable['output_type'] = 'display_data';\n",
              "        await google.colab.output.renderOutput(dataTable, element);\n",
              "        const docLink = document.createElement('div');\n",
              "        docLink.innerHTML = docLinkHtml;\n",
              "        element.appendChild(docLink);\n",
              "      }\n",
              "    </script>\n",
              "  </div>\n",
              "\n",
              "\n",
              "<div id=\"df-37e34af7-5baf-4d3b-957a-eaa7dfeffc90\">\n",
              "  <button class=\"colab-df-quickchart\" onclick=\"quickchart('df-37e34af7-5baf-4d3b-957a-eaa7dfeffc90')\"\n",
              "            title=\"Suggest charts\"\n",
              "            style=\"display:none;\">\n",
              "\n",
              "<svg xmlns=\"http://www.w3.org/2000/svg\" height=\"24px\"viewBox=\"0 0 24 24\"\n",
              "     width=\"24px\">\n",
              "    <g>\n",
              "        <path d=\"M19 3H5c-1.1 0-2 .9-2 2v14c0 1.1.9 2 2 2h14c1.1 0 2-.9 2-2V5c0-1.1-.9-2-2-2zM9 17H7v-7h2v7zm4 0h-2V7h2v10zm4 0h-2v-4h2v4z\"/>\n",
              "    </g>\n",
              "</svg>\n",
              "  </button>\n",
              "\n",
              "<style>\n",
              "  .colab-df-quickchart {\n",
              "      --bg-color: #E8F0FE;\n",
              "      --fill-color: #1967D2;\n",
              "      --hover-bg-color: #E2EBFA;\n",
              "      --hover-fill-color: #174EA6;\n",
              "      --disabled-fill-color: #AAA;\n",
              "      --disabled-bg-color: #DDD;\n",
              "  }\n",
              "\n",
              "  [theme=dark] .colab-df-quickchart {\n",
              "      --bg-color: #3B4455;\n",
              "      --fill-color: #D2E3FC;\n",
              "      --hover-bg-color: #434B5C;\n",
              "      --hover-fill-color: #FFFFFF;\n",
              "      --disabled-bg-color: #3B4455;\n",
              "      --disabled-fill-color: #666;\n",
              "  }\n",
              "\n",
              "  .colab-df-quickchart {\n",
              "    background-color: var(--bg-color);\n",
              "    border: none;\n",
              "    border-radius: 50%;\n",
              "    cursor: pointer;\n",
              "    display: none;\n",
              "    fill: var(--fill-color);\n",
              "    height: 32px;\n",
              "    padding: 0;\n",
              "    width: 32px;\n",
              "  }\n",
              "\n",
              "  .colab-df-quickchart:hover {\n",
              "    background-color: var(--hover-bg-color);\n",
              "    box-shadow: 0 1px 2px rgba(60, 64, 67, 0.3), 0 1px 3px 1px rgba(60, 64, 67, 0.15);\n",
              "    fill: var(--button-hover-fill-color);\n",
              "  }\n",
              "\n",
              "  .colab-df-quickchart-complete:disabled,\n",
              "  .colab-df-quickchart-complete:disabled:hover {\n",
              "    background-color: var(--disabled-bg-color);\n",
              "    fill: var(--disabled-fill-color);\n",
              "    box-shadow: none;\n",
              "  }\n",
              "\n",
              "  .colab-df-spinner {\n",
              "    border: 2px solid var(--fill-color);\n",
              "    border-color: transparent;\n",
              "    border-bottom-color: var(--fill-color);\n",
              "    animation:\n",
              "      spin 1s steps(1) infinite;\n",
              "  }\n",
              "\n",
              "  @keyframes spin {\n",
              "    0% {\n",
              "      border-color: transparent;\n",
              "      border-bottom-color: var(--fill-color);\n",
              "      border-left-color: var(--fill-color);\n",
              "    }\n",
              "    20% {\n",
              "      border-color: transparent;\n",
              "      border-left-color: var(--fill-color);\n",
              "      border-top-color: var(--fill-color);\n",
              "    }\n",
              "    30% {\n",
              "      border-color: transparent;\n",
              "      border-left-color: var(--fill-color);\n",
              "      border-top-color: var(--fill-color);\n",
              "      border-right-color: var(--fill-color);\n",
              "    }\n",
              "    40% {\n",
              "      border-color: transparent;\n",
              "      border-right-color: var(--fill-color);\n",
              "      border-top-color: var(--fill-color);\n",
              "    }\n",
              "    60% {\n",
              "      border-color: transparent;\n",
              "      border-right-color: var(--fill-color);\n",
              "    }\n",
              "    80% {\n",
              "      border-color: transparent;\n",
              "      border-right-color: var(--fill-color);\n",
              "      border-bottom-color: var(--fill-color);\n",
              "    }\n",
              "    90% {\n",
              "      border-color: transparent;\n",
              "      border-bottom-color: var(--fill-color);\n",
              "    }\n",
              "  }\n",
              "</style>\n",
              "\n",
              "  <script>\n",
              "    async function quickchart(key) {\n",
              "      const quickchartButtonEl =\n",
              "        document.querySelector('#' + key + ' button');\n",
              "      quickchartButtonEl.disabled = true;  // To prevent multiple clicks.\n",
              "      quickchartButtonEl.classList.add('colab-df-spinner');\n",
              "      try {\n",
              "        const charts = await google.colab.kernel.invokeFunction(\n",
              "            'suggestCharts', [key], {});\n",
              "      } catch (error) {\n",
              "        console.error('Error during call to suggestCharts:', error);\n",
              "      }\n",
              "      quickchartButtonEl.classList.remove('colab-df-spinner');\n",
              "      quickchartButtonEl.classList.add('colab-df-quickchart-complete');\n",
              "    }\n",
              "    (() => {\n",
              "      let quickchartButtonEl =\n",
              "        document.querySelector('#df-37e34af7-5baf-4d3b-957a-eaa7dfeffc90 button');\n",
              "      quickchartButtonEl.style.display =\n",
              "        google.colab.kernel.accessAllowed ? 'block' : 'none';\n",
              "    })();\n",
              "  </script>\n",
              "</div>\n",
              "\n",
              "    </div>\n",
              "  </div>\n"
            ],
            "application/vnd.google.colaboratory.intrinsic+json": {
              "type": "dataframe",
              "variable_name": "data",
              "summary": "{\n  \"name\": \"data\",\n  \"rows\": 545,\n  \"fields\": [\n    {\n      \"column\": \"price\",\n      \"properties\": {\n        \"dtype\": \"number\",\n        \"std\": 1870439,\n        \"min\": 1750000,\n        \"max\": 13300000,\n        \"num_unique_values\": 219,\n        \"samples\": [\n          3773000,\n          5285000,\n          1820000\n        ],\n        \"semantic_type\": \"\",\n        \"description\": \"\"\n      }\n    },\n    {\n      \"column\": \"area\",\n      \"properties\": {\n        \"dtype\": \"number\",\n        \"std\": 2170,\n        \"min\": 1650,\n        \"max\": 16200,\n        \"num_unique_values\": 284,\n        \"samples\": [\n          6000,\n          2684,\n          5360\n        ],\n        \"semantic_type\": \"\",\n        \"description\": \"\"\n      }\n    },\n    {\n      \"column\": \"bedrooms\",\n      \"properties\": {\n        \"dtype\": \"number\",\n        \"std\": 0,\n        \"min\": 1,\n        \"max\": 6,\n        \"num_unique_values\": 6,\n        \"samples\": [\n          4,\n          3,\n          1\n        ],\n        \"semantic_type\": \"\",\n        \"description\": \"\"\n      }\n    },\n    {\n      \"column\": \"bathrooms\",\n      \"properties\": {\n        \"dtype\": \"number\",\n        \"std\": 0,\n        \"min\": 1,\n        \"max\": 4,\n        \"num_unique_values\": 4,\n        \"samples\": [\n          4,\n          3,\n          2\n        ],\n        \"semantic_type\": \"\",\n        \"description\": \"\"\n      }\n    },\n    {\n      \"column\": \"stories\",\n      \"properties\": {\n        \"dtype\": \"number\",\n        \"std\": 0,\n        \"min\": 1,\n        \"max\": 4,\n        \"num_unique_values\": 4,\n        \"samples\": [\n          4,\n          1,\n          3\n        ],\n        \"semantic_type\": \"\",\n        \"description\": \"\"\n      }\n    },\n    {\n      \"column\": \"mainroad\",\n      \"properties\": {\n        \"dtype\": \"int8\",\n        \"num_unique_values\": 2,\n        \"samples\": [\n          0,\n          1\n        ],\n        \"semantic_type\": \"\",\n        \"description\": \"\"\n      }\n    },\n    {\n      \"column\": \"guestroom\",\n      \"properties\": {\n        \"dtype\": \"int8\",\n        \"num_unique_values\": 2,\n        \"samples\": [\n          1,\n          0\n        ],\n        \"semantic_type\": \"\",\n        \"description\": \"\"\n      }\n    },\n    {\n      \"column\": \"basement\",\n      \"properties\": {\n        \"dtype\": \"int8\",\n        \"num_unique_values\": 2,\n        \"samples\": [\n          1,\n          0\n        ],\n        \"semantic_type\": \"\",\n        \"description\": \"\"\n      }\n    },\n    {\n      \"column\": \"hotwaterheating\",\n      \"properties\": {\n        \"dtype\": \"int8\",\n        \"num_unique_values\": 2,\n        \"samples\": [\n          1,\n          0\n        ],\n        \"semantic_type\": \"\",\n        \"description\": \"\"\n      }\n    },\n    {\n      \"column\": \"airconditioning\",\n      \"properties\": {\n        \"dtype\": \"int8\",\n        \"num_unique_values\": 2,\n        \"samples\": [\n          0,\n          1\n        ],\n        \"semantic_type\": \"\",\n        \"description\": \"\"\n      }\n    },\n    {\n      \"column\": \"parking\",\n      \"properties\": {\n        \"dtype\": \"number\",\n        \"std\": 0,\n        \"min\": 0,\n        \"max\": 3,\n        \"num_unique_values\": 4,\n        \"samples\": [\n          3,\n          1\n        ],\n        \"semantic_type\": \"\",\n        \"description\": \"\"\n      }\n    },\n    {\n      \"column\": \"prefarea\",\n      \"properties\": {\n        \"dtype\": \"int8\",\n        \"num_unique_values\": 2,\n        \"samples\": [\n          0,\n          1\n        ],\n        \"semantic_type\": \"\",\n        \"description\": \"\"\n      }\n    },\n    {\n      \"column\": \"furnishingstatus\",\n      \"properties\": {\n        \"dtype\": \"int8\",\n        \"num_unique_values\": 3,\n        \"samples\": [\n          0,\n          1\n        ],\n        \"semantic_type\": \"\",\n        \"description\": \"\"\n      }\n    }\n  ]\n}"
            }
          },
          "metadata": {},
          "execution_count": 21
        }
      ]
    },
    {
      "cell_type": "code",
      "source": [
        "x=data.drop(['price'],axis=1)"
      ],
      "metadata": {
        "id": "GlhwqoR1oi3J"
      },
      "execution_count": 22,
      "outputs": []
    },
    {
      "cell_type": "code",
      "source": [
        "x.shape"
      ],
      "metadata": {
        "colab": {
          "base_uri": "https://localhost:8080/"
        },
        "id": "-hWvN8_loiv1",
        "outputId": "5217a069-8784-42ac-937a-6fd47a67ec42"
      },
      "execution_count": 23,
      "outputs": [
        {
          "output_type": "execute_result",
          "data": {
            "text/plain": [
              "(545, 12)"
            ]
          },
          "metadata": {},
          "execution_count": 23
        }
      ]
    },
    {
      "cell_type": "code",
      "source": [
        "y=data['price']"
      ],
      "metadata": {
        "id": "NCRQyaR6oitK"
      },
      "execution_count": 24,
      "outputs": []
    },
    {
      "cell_type": "code",
      "source": [
        "from sklearn.model_selection import train_test_split"
      ],
      "metadata": {
        "id": "DwfoCB68qYFm"
      },
      "execution_count": 25,
      "outputs": []
    },
    {
      "cell_type": "code",
      "source": [
        "x_train,x_test,y_train,y_test=train_test_split(x,y,test_size=.2,random_state=11)"
      ],
      "metadata": {
        "id": "NFuL10mYqX5B"
      },
      "execution_count": 26,
      "outputs": []
    },
    {
      "cell_type": "code",
      "source": [
        "from sklearn.preprocessing import StandardScaler"
      ],
      "metadata": {
        "id": "JcfExwoOqnjH"
      },
      "execution_count": 27,
      "outputs": []
    },
    {
      "cell_type": "code",
      "source": [
        "st=StandardScaler()"
      ],
      "metadata": {
        "id": "BwTSJit3xRq7"
      },
      "execution_count": 28,
      "outputs": []
    },
    {
      "cell_type": "code",
      "source": [
        "x_train=st.fit_transform(x_train)"
      ],
      "metadata": {
        "id": "LSnOvXFxxRna"
      },
      "execution_count": 29,
      "outputs": []
    },
    {
      "cell_type": "code",
      "source": [
        "x_test=st.fit_transform(x_test)"
      ],
      "metadata": {
        "id": "ct8VhkmNxf5m"
      },
      "execution_count": 30,
      "outputs": []
    },
    {
      "cell_type": "code",
      "source": [
        "import tensorflow"
      ],
      "metadata": {
        "id": "W-D-ufzzz0vH"
      },
      "execution_count": 31,
      "outputs": []
    },
    {
      "cell_type": "code",
      "source": [
        "from tensorflow import keras"
      ],
      "metadata": {
        "id": "w_xRMhMc0AJr"
      },
      "execution_count": 32,
      "outputs": []
    },
    {
      "cell_type": "code",
      "source": [
        "from keras import Sequential"
      ],
      "metadata": {
        "id": "G6LeDYBG0FAb"
      },
      "execution_count": 33,
      "outputs": []
    },
    {
      "cell_type": "code",
      "source": [
        "from keras.layers import Dense"
      ],
      "metadata": {
        "id": "ODtVCjUM0ItT"
      },
      "execution_count": 34,
      "outputs": []
    },
    {
      "cell_type": "code",
      "source": [
        "model = Sequential()\n",
        "model.add(Dense(12, input_dim=12,activation='relu'))\n",
        "model.add(Dense(6, input_dim=12,activation='relu'))\n",
        "model.add(Dense(3, input_dim=12,activation='relu'))\n",
        "model.add(Dense(1))"
      ],
      "metadata": {
        "id": "SBHz66gR5624"
      },
      "execution_count": 92,
      "outputs": []
    },
    {
      "cell_type": "code",
      "source": [
        "model.summary()"
      ],
      "metadata": {
        "colab": {
          "base_uri": "https://localhost:8080/"
        },
        "id": "I_IrDrJB68Xq",
        "outputId": "fc4408f3-4131-42f1-b413-d2b7ada35bd6"
      },
      "execution_count": 93,
      "outputs": [
        {
          "output_type": "stream",
          "name": "stdout",
          "text": [
            "Model: \"sequential_4\"\n",
            "_________________________________________________________________\n",
            " Layer (type)                Output Shape              Param #   \n",
            "=================================================================\n",
            " dense_12 (Dense)            (None, 12)                156       \n",
            "                                                                 \n",
            " dense_13 (Dense)            (None, 6)                 78        \n",
            "                                                                 \n",
            " dense_14 (Dense)            (None, 3)                 21        \n",
            "                                                                 \n",
            " dense_15 (Dense)            (None, 1)                 4         \n",
            "                                                                 \n",
            "=================================================================\n",
            "Total params: 259 (1.01 KB)\n",
            "Trainable params: 259 (1.01 KB)\n",
            "Non-trainable params: 0 (0.00 Byte)\n",
            "_________________________________________________________________\n"
          ]
        }
      ]
    },
    {
      "cell_type": "code",
      "source": [
        "\n",
        "model.compile(optimizer='adam', loss='mean_squared_error', metrics=['mean_absolute_error'])"
      ],
      "metadata": {
        "id": "dtFMHJX14k5J"
      },
      "execution_count": 94,
      "outputs": []
    },
    {
      "cell_type": "code",
      "source": [
        "model.fit(x_train,y_train,epochs=100,batch_size=1)"
      ],
      "metadata": {
        "colab": {
          "base_uri": "https://localhost:8080/"
        },
        "id": "tYqSkNP-8QXi",
        "outputId": "b0eec9e0-1332-4481-d4b0-271255dc5162"
      },
      "execution_count": 95,
      "outputs": [
        {
          "output_type": "stream",
          "name": "stdout",
          "text": [
            "Epoch 1/100\n",
            "436/436 [==============================] - 2s 2ms/step - loss: 26933714747392.0000 - mean_absolute_error: 4831312.0000\n",
            "Epoch 2/100\n",
            "436/436 [==============================] - 1s 2ms/step - loss: 26933693775872.0000 - mean_absolute_error: 4831308.0000\n",
            "Epoch 3/100\n",
            "436/436 [==============================] - 1s 2ms/step - loss: 26933710553088.0000 - mean_absolute_error: 4831308.0000\n",
            "Epoch 4/100\n",
            "436/436 [==============================] - 1s 2ms/step - loss: 26933695873024.0000 - mean_absolute_error: 4831311.0000\n",
            "Epoch 5/100\n",
            "436/436 [==============================] - 1s 2ms/step - loss: 26933700067328.0000 - mean_absolute_error: 4831309.5000\n",
            "Epoch 6/100\n",
            "436/436 [==============================] - 1s 2ms/step - loss: 26933679095808.0000 - mean_absolute_error: 4831311.5000\n",
            "Epoch 7/100\n",
            "436/436 [==============================] - 1s 2ms/step - loss: 26933691678720.0000 - mean_absolute_error: 4831308.0000\n",
            "Epoch 8/100\n",
            "436/436 [==============================] - 1s 2ms/step - loss: 26933660221440.0000 - mean_absolute_error: 4831309.5000\n",
            "Epoch 9/100\n",
            "436/436 [==============================] - 1s 2ms/step - loss: 26933664415744.0000 - mean_absolute_error: 4831311.5000\n",
            "Epoch 10/100\n",
            "436/436 [==============================] - 1s 2ms/step - loss: 26933656027136.0000 - mean_absolute_error: 4831308.5000\n",
            "Epoch 11/100\n",
            "436/436 [==============================] - 1s 2ms/step - loss: 26933651832832.0000 - mean_absolute_error: 4831309.0000\n",
            "Epoch 12/100\n",
            "436/436 [==============================] - 1s 2ms/step - loss: 26933651832832.0000 - mean_absolute_error: 4831311.5000\n",
            "Epoch 13/100\n",
            "436/436 [==============================] - 1s 3ms/step - loss: 26933643444224.0000 - mean_absolute_error: 4831308.5000\n",
            "Epoch 14/100\n",
            "436/436 [==============================] - 1s 3ms/step - loss: 26933624569856.0000 - mean_absolute_error: 4831309.0000\n",
            "Epoch 15/100\n",
            "436/436 [==============================] - 1s 2ms/step - loss: 26933639249920.0000 - mean_absolute_error: 4831310.5000\n",
            "Epoch 16/100\n",
            "436/436 [==============================] - 1s 2ms/step - loss: 26933635055616.0000 - mean_absolute_error: 4831309.0000\n",
            "Epoch 17/100\n",
            "436/436 [==============================] - 1s 2ms/step - loss: 26933639249920.0000 - mean_absolute_error: 4831308.5000\n",
            "Epoch 18/100\n",
            "436/436 [==============================] - 2s 4ms/step - loss: 26933635055616.0000 - mean_absolute_error: 4831308.0000\n",
            "Epoch 19/100\n",
            "436/436 [==============================] - 2s 4ms/step - loss: 26933616181248.0000 - mean_absolute_error: 4831307.0000\n",
            "Epoch 20/100\n",
            "436/436 [==============================] - 2s 4ms/step - loss: 26933624569856.0000 - mean_absolute_error: 4831307.0000\n",
            "Epoch 21/100\n",
            "436/436 [==============================] - 1s 2ms/step - loss: 26933635055616.0000 - mean_absolute_error: 4831304.5000\n",
            "Epoch 22/100\n",
            "436/436 [==============================] - 1s 2ms/step - loss: 26933618278400.0000 - mean_absolute_error: 4831304.0000\n",
            "Epoch 23/100\n",
            "436/436 [==============================] - 1s 2ms/step - loss: 26933616181248.0000 - mean_absolute_error: 4831304.5000\n",
            "Epoch 24/100\n",
            "436/436 [==============================] - 1s 2ms/step - loss: 26933601501184.0000 - mean_absolute_error: 4831304.0000\n",
            "Epoch 25/100\n",
            "436/436 [==============================] - 1s 3ms/step - loss: 26933593112576.0000 - mean_absolute_error: 4831303.5000\n",
            "Epoch 26/100\n",
            "436/436 [==============================] - 1s 3ms/step - loss: 26933614084096.0000 - mean_absolute_error: 4831305.0000\n",
            "Epoch 27/100\n",
            "436/436 [==============================] - 1s 2ms/step - loss: 26933593112576.0000 - mean_absolute_error: 4831303.5000\n",
            "Epoch 28/100\n",
            "436/436 [==============================] - 1s 2ms/step - loss: 26933601501184.0000 - mean_absolute_error: 4831306.0000\n",
            "Epoch 29/100\n",
            "436/436 [==============================] - 1s 2ms/step - loss: 26933597306880.0000 - mean_absolute_error: 4831303.5000\n",
            "Epoch 30/100\n",
            "436/436 [==============================] - 1s 2ms/step - loss: 26933593112576.0000 - mean_absolute_error: 4831303.5000\n",
            "Epoch 31/100\n",
            "436/436 [==============================] - 1s 2ms/step - loss: 26933582626816.0000 - mean_absolute_error: 4831304.5000\n",
            "Epoch 32/100\n",
            "436/436 [==============================] - 1s 2ms/step - loss: 26933580529664.0000 - mean_absolute_error: 4831303.0000\n",
            "Epoch 33/100\n",
            "436/436 [==============================] - 1s 2ms/step - loss: 26933593112576.0000 - mean_absolute_error: 4831303.5000\n",
            "Epoch 34/100\n",
            "436/436 [==============================] - 1s 2ms/step - loss: 26933574238208.0000 - mean_absolute_error: 4831303.0000\n",
            "Epoch 35/100\n",
            "436/436 [==============================] - 1s 2ms/step - loss: 26933567946752.0000 - mean_absolute_error: 4831304.0000\n",
            "Epoch 36/100\n",
            "436/436 [==============================] - 1s 2ms/step - loss: 26933580529664.0000 - mean_absolute_error: 4831304.0000\n",
            "Epoch 37/100\n",
            "436/436 [==============================] - 1s 2ms/step - loss: 26933567946752.0000 - mean_absolute_error: 4831303.5000\n",
            "Epoch 38/100\n",
            "436/436 [==============================] - 1s 2ms/step - loss: 26933565849600.0000 - mean_absolute_error: 4831303.5000\n",
            "Epoch 39/100\n",
            "436/436 [==============================] - 1s 2ms/step - loss: 26933561655296.0000 - mean_absolute_error: 4831303.0000\n",
            "Epoch 40/100\n",
            "436/436 [==============================] - 1s 2ms/step - loss: 26933561655296.0000 - mean_absolute_error: 4831297.0000\n",
            "Epoch 41/100\n",
            "436/436 [==============================] - 1s 3ms/step - loss: 26933557460992.0000 - mean_absolute_error: 4831292.5000\n",
            "Epoch 42/100\n",
            "436/436 [==============================] - 1s 3ms/step - loss: 26933557460992.0000 - mean_absolute_error: 4831295.5000\n",
            "Epoch 43/100\n",
            "436/436 [==============================] - 1s 2ms/step - loss: 26933544878080.0000 - mean_absolute_error: 4831294.5000\n",
            "Epoch 44/100\n",
            "436/436 [==============================] - 1s 2ms/step - loss: 26933538586624.0000 - mean_absolute_error: 4831293.5000\n",
            "Epoch 45/100\n",
            "436/436 [==============================] - 1s 2ms/step - loss: 26933540683776.0000 - mean_absolute_error: 4831293.0000\n",
            "Epoch 46/100\n",
            "436/436 [==============================] - 1s 2ms/step - loss: 26933532295168.0000 - mean_absolute_error: 4831293.0000\n",
            "Epoch 47/100\n",
            "436/436 [==============================] - 1s 2ms/step - loss: 26933530198016.0000 - mean_absolute_error: 4831292.5000\n",
            "Epoch 48/100\n",
            "436/436 [==============================] - 1s 2ms/step - loss: 26933530198016.0000 - mean_absolute_error: 4831294.0000\n",
            "Epoch 49/100\n",
            "436/436 [==============================] - 1s 2ms/step - loss: 26933530198016.0000 - mean_absolute_error: 4831293.5000\n",
            "Epoch 50/100\n",
            "436/436 [==============================] - 1s 2ms/step - loss: 26933530198016.0000 - mean_absolute_error: 4831293.5000\n",
            "Epoch 51/100\n",
            "436/436 [==============================] - 1s 2ms/step - loss: 26933519712256.0000 - mean_absolute_error: 4831292.5000\n",
            "Epoch 52/100\n",
            "436/436 [==============================] - 1s 2ms/step - loss: 26933530198016.0000 - mean_absolute_error: 4831292.0000\n",
            "Epoch 53/100\n",
            "436/436 [==============================] - 1s 2ms/step - loss: 26933511323648.0000 - mean_absolute_error: 4831295.5000\n",
            "Epoch 54/100\n",
            "436/436 [==============================] - 1s 2ms/step - loss: 26933517615104.0000 - mean_absolute_error: 4831293.5000\n",
            "Epoch 55/100\n",
            "436/436 [==============================] - 1s 2ms/step - loss: 26933509226496.0000 - mean_absolute_error: 4831294.0000\n",
            "Epoch 56/100\n",
            "436/436 [==============================] - 1s 2ms/step - loss: 26933488254976.0000 - mean_absolute_error: 4831293.0000\n",
            "Epoch 57/100\n",
            "436/436 [==============================] - 1s 3ms/step - loss: 26933500837888.0000 - mean_absolute_error: 4831294.0000\n",
            "Epoch 58/100\n",
            "436/436 [==============================] - 1s 3ms/step - loss: 26933496643584.0000 - mean_absolute_error: 4831293.5000\n",
            "Epoch 59/100\n",
            "436/436 [==============================] - 1s 2ms/step - loss: 26933481963520.0000 - mean_absolute_error: 4831291.0000\n",
            "Epoch 60/100\n",
            "436/436 [==============================] - 1s 2ms/step - loss: 26933496643584.0000 - mean_absolute_error: 4831290.0000\n",
            "Epoch 61/100\n",
            "436/436 [==============================] - 1s 2ms/step - loss: 26933484060672.0000 - mean_absolute_error: 4831289.0000\n",
            "Epoch 62/100\n",
            "436/436 [==============================] - 1s 2ms/step - loss: 26933479866368.0000 - mean_absolute_error: 4831288.5000\n",
            "Epoch 63/100\n",
            "436/436 [==============================] - 1s 2ms/step - loss: 26933460992000.0000 - mean_absolute_error: 4831288.5000\n",
            "Epoch 64/100\n",
            "436/436 [==============================] - 1s 2ms/step - loss: 26933481963520.0000 - mean_absolute_error: 4831289.0000\n",
            "Epoch 65/100\n",
            "436/436 [==============================] - 1s 2ms/step - loss: 26933448409088.0000 - mean_absolute_error: 4831288.0000\n",
            "Epoch 66/100\n",
            "436/436 [==============================] - 1s 2ms/step - loss: 26933460992000.0000 - mean_absolute_error: 4831289.0000\n",
            "Epoch 67/100\n",
            "436/436 [==============================] - 1s 2ms/step - loss: 26933452603392.0000 - mean_absolute_error: 4831288.5000\n",
            "Epoch 68/100\n",
            "436/436 [==============================] - 1s 2ms/step - loss: 26933437923328.0000 - mean_absolute_error: 4831288.0000\n",
            "Epoch 69/100\n",
            "436/436 [==============================] - 1s 2ms/step - loss: 26933437923328.0000 - mean_absolute_error: 4831288.0000\n",
            "Epoch 70/100\n",
            "436/436 [==============================] - 1s 2ms/step - loss: 26933456797696.0000 - mean_absolute_error: 4831287.0000\n",
            "Epoch 71/100\n",
            "436/436 [==============================] - 1s 2ms/step - loss: 26933454700544.0000 - mean_absolute_error: 4831287.5000\n",
            "Epoch 72/100\n",
            "436/436 [==============================] - 1s 3ms/step - loss: 26933448409088.0000 - mean_absolute_error: 4831287.0000\n",
            "Epoch 73/100\n",
            "436/436 [==============================] - 1s 3ms/step - loss: 26933440020480.0000 - mean_absolute_error: 4831288.0000\n",
            "Epoch 74/100\n",
            "436/436 [==============================] - 1s 3ms/step - loss: 26933423243264.0000 - mean_absolute_error: 4831288.5000\n",
            "Epoch 75/100\n",
            "436/436 [==============================] - 1s 2ms/step - loss: 26933419048960.0000 - mean_absolute_error: 4831288.0000\n",
            "Epoch 76/100\n",
            "436/436 [==============================] - 1s 2ms/step - loss: 26933437923328.0000 - mean_absolute_error: 4831287.0000\n",
            "Epoch 77/100\n",
            "436/436 [==============================] - 1s 2ms/step - loss: 26933414854656.0000 - mean_absolute_error: 4831287.0000\n",
            "Epoch 78/100\n",
            "436/436 [==============================] - 1s 2ms/step - loss: 26933406466048.0000 - mean_absolute_error: 4831287.0000\n",
            "Epoch 79/100\n",
            "436/436 [==============================] - 1s 2ms/step - loss: 26933404368896.0000 - mean_absolute_error: 4831283.0000\n",
            "Epoch 80/100\n",
            "436/436 [==============================] - 1s 2ms/step - loss: 26933406466048.0000 - mean_absolute_error: 4831278.5000\n",
            "Epoch 81/100\n",
            "436/436 [==============================] - 1s 2ms/step - loss: 26933400174592.0000 - mean_absolute_error: 4831276.5000\n",
            "Epoch 82/100\n",
            "436/436 [==============================] - 1s 2ms/step - loss: 26933400174592.0000 - mean_absolute_error: 4831276.5000\n",
            "Epoch 83/100\n",
            "436/436 [==============================] - 1s 2ms/step - loss: 26933375008768.0000 - mean_absolute_error: 4831278.0000\n",
            "Epoch 84/100\n",
            "436/436 [==============================] - 1s 2ms/step - loss: 26933372911616.0000 - mean_absolute_error: 4831274.5000\n",
            "Epoch 85/100\n",
            "436/436 [==============================] - 1s 2ms/step - loss: 26933372911616.0000 - mean_absolute_error: 4831276.0000\n",
            "Epoch 86/100\n",
            "436/436 [==============================] - 1s 2ms/step - loss: 26933368717312.0000 - mean_absolute_error: 4831277.0000\n",
            "Epoch 87/100\n",
            "436/436 [==============================] - 1s 2ms/step - loss: 26933349842944.0000 - mean_absolute_error: 4831276.0000\n",
            "Epoch 88/100\n",
            "436/436 [==============================] - 1s 3ms/step - loss: 26933375008768.0000 - mean_absolute_error: 4831277.0000\n",
            "Epoch 89/100\n",
            "436/436 [==============================] - 1s 3ms/step - loss: 26933360328704.0000 - mean_absolute_error: 4831276.0000\n",
            "Epoch 90/100\n",
            "436/436 [==============================] - 1s 2ms/step - loss: 26933343551488.0000 - mean_absolute_error: 4831275.5000\n",
            "Epoch 91/100\n",
            "436/436 [==============================] - 1s 2ms/step - loss: 26933339357184.0000 - mean_absolute_error: 4831275.5000\n",
            "Epoch 92/100\n",
            "436/436 [==============================] - 1s 2ms/step - loss: 26933328871424.0000 - mean_absolute_error: 4831275.0000\n",
            "Epoch 93/100\n",
            "436/436 [==============================] - 1s 2ms/step - loss: 26933314191360.0000 - mean_absolute_error: 4831275.0000\n",
            "Epoch 94/100\n",
            "436/436 [==============================] - 1s 2ms/step - loss: 26933316288512.0000 - mean_absolute_error: 4831276.0000\n",
            "Epoch 95/100\n",
            "436/436 [==============================] - 1s 2ms/step - loss: 26933318385664.0000 - mean_absolute_error: 4831275.5000\n",
            "Epoch 96/100\n",
            "436/436 [==============================] - 1s 2ms/step - loss: 26933320482816.0000 - mean_absolute_error: 4831274.5000\n",
            "Epoch 97/100\n",
            "436/436 [==============================] - 1s 2ms/step - loss: 26933314191360.0000 - mean_absolute_error: 4831276.5000\n",
            "Epoch 98/100\n",
            "436/436 [==============================] - 1s 2ms/step - loss: 26933305802752.0000 - mean_absolute_error: 4831275.5000\n",
            "Epoch 99/100\n",
            "436/436 [==============================] - 1s 2ms/step - loss: 26933330968576.0000 - mean_absolute_error: 4831275.5000\n",
            "Epoch 100/100\n",
            "436/436 [==============================] - 1s 2ms/step - loss: 26933314191360.0000 - mean_absolute_error: 4831271.5000\n"
          ]
        },
        {
          "output_type": "execute_result",
          "data": {
            "text/plain": [
              "<keras.src.callbacks.History at 0x7a311fdad630>"
            ]
          },
          "metadata": {},
          "execution_count": 95
        }
      ]
    },
    {
      "cell_type": "code",
      "source": [
        "loss, accuracy = model.evaluate(x_test, y_test, verbose=0)\n",
        "print(f'Test loss: {loss}')\n",
        "print(f'Test accuracy: {accuracy}')"
      ],
      "metadata": {
        "colab": {
          "base_uri": "https://localhost:8080/"
        },
        "id": "2eijszbayAok",
        "outputId": "51177958-f115-4769-d2c1-2c54b30cb0dc"
      },
      "execution_count": 96,
      "outputs": [
        {
          "output_type": "stream",
          "name": "stdout",
          "text": [
            "Test loss: 23333968019456.0\n",
            "Test accuracy: 4508345.0\n"
          ]
        }
      ]
    },
    {
      "cell_type": "code",
      "source": [
        "model.layers[0].get_weights()"
      ],
      "metadata": {
        "colab": {
          "base_uri": "https://localhost:8080/"
        },
        "id": "jkhynSAdySse",
        "outputId": "4d99b0da-42a6-4a47-f9c4-d3af7dbed22b"
      },
      "execution_count": 97,
      "outputs": [
        {
          "output_type": "execute_result",
          "data": {
            "text/plain": [
              "[array([[-0.13244766,  0.30308786, -0.2023443 ,  0.30498898, -0.22411177,\n",
              "         -0.48129138, -0.34280673,  0.06593971, -0.13528492, -0.21721931,\n",
              "         -0.31500095, -0.39719605],\n",
              "        [-0.36900908,  0.16038276, -0.40232974, -0.21367477,  0.44311297,\n",
              "         -0.33095238, -0.06811772, -0.2563054 , -0.13934016,  0.37740597,\n",
              "         -0.14228761,  0.20541903],\n",
              "        [ 0.23454952, -0.44076008,  0.03185998,  0.15873593,  0.12648334,\n",
              "         -0.31253865, -0.29198685,  0.3335225 , -0.39710507,  0.14172767,\n",
              "          0.02935975, -0.2991198 ],\n",
              "        [ 0.15935834,  0.39583945, -0.1016136 ,  0.3841952 ,  0.36780566,\n",
              "          0.1532155 , -0.02973176, -0.5587046 , -0.0589418 , -0.0965277 ,\n",
              "          0.16600418,  0.09490979],\n",
              "        [-0.06439272,  0.4357257 , -0.11640742, -0.214926  ,  0.2833332 ,\n",
              "          0.16381845, -0.03527188, -0.3110913 , -0.32797801,  0.18826869,\n",
              "          0.46237502, -0.09103446],\n",
              "        [-0.37946704, -0.23260814,  0.17208643, -0.33220184,  0.5247066 ,\n",
              "         -0.52167934,  0.3274136 ,  0.43050572,  0.3744912 , -0.22625752,\n",
              "         -0.06231495, -0.40680316],\n",
              "        [-0.25125486,  0.11778197, -0.35983747, -0.28587544, -0.0246188 ,\n",
              "         -0.16362588,  0.20624475,  0.04020655,  0.4184066 ,  0.4757167 ,\n",
              "          0.40434274,  0.2739536 ],\n",
              "        [-0.12432211,  0.16045123, -0.43759266,  0.15915127, -0.09682264,\n",
              "         -0.2956573 ,  0.15187256, -0.339539  , -0.19313312,  0.2244277 ,\n",
              "          0.33923063,  0.04853193],\n",
              "        [-0.22559741,  0.04257233, -0.57033956,  0.04784275,  0.38799435,\n",
              "          0.31414396,  0.4570666 , -0.20660868, -0.2606098 , -0.4239112 ,\n",
              "          0.41137558, -0.25567338],\n",
              "        [ 0.00855163,  0.28563488, -0.07522214, -0.41108894, -0.4065242 ,\n",
              "          0.35562697, -0.35731855,  0.25292295, -0.2918916 , -0.32452065,\n",
              "         -0.22119105,  0.05610285],\n",
              "        [ 0.18962704,  0.35288888, -0.08522864,  0.10918544,  0.08589429,\n",
              "         -0.3457071 ,  0.03839848,  0.39744085,  0.48121887,  0.42891994,\n",
              "          0.3879598 ,  0.3925795 ],\n",
              "        [-0.02485286,  0.37892437, -0.31627497, -0.47753075, -0.33407137,\n",
              "         -0.39547968,  0.11010659, -0.04868443,  0.28460667, -0.2797467 ,\n",
              "         -0.1948916 , -0.3129405 ]], dtype=float32),\n",
              " array([-0.06905676,  0.02916109,  0.07776646, -0.07520535,  0.06319437,\n",
              "         0.05128781, -0.09003112,  0.08083493, -0.09192748,  0.04144985,\n",
              "        -0.04783548, -0.0480701 ], dtype=float32)]"
            ]
          },
          "metadata": {},
          "execution_count": 97
        }
      ]
    },
    {
      "cell_type": "code",
      "source": [
        "model.layers[1].get_weights()"
      ],
      "metadata": {
        "colab": {
          "base_uri": "https://localhost:8080/"
        },
        "id": "aj9_2s2byl0Z",
        "outputId": "a3cb7e6c-3960-4733-f7d9-bc2952f23f4e"
      },
      "execution_count": 98,
      "outputs": [
        {
          "output_type": "execute_result",
          "data": {
            "text/plain": [
              "[array([[-0.16039285, -0.43704128,  0.15647973,  0.48680177,  0.5981599 ,\n",
              "          0.18654719],\n",
              "        [ 0.23796378,  0.12098896,  0.14358144, -0.48615533,  0.51002866,\n",
              "          0.44117588],\n",
              "        [ 0.52559686, -0.32253465,  0.19108792,  0.15557942,  0.54202956,\n",
              "         -0.03205667],\n",
              "        [-0.2470327 ,  0.30034846,  0.10961615,  0.07521606, -0.50030094,\n",
              "          0.31713483],\n",
              "        [ 0.45959386,  0.3747933 , -0.47921035, -0.56541747, -0.12268826,\n",
              "          0.05330986],\n",
              "        [ 0.6122072 ,  0.34868625, -0.21453518, -0.46664903,  0.58165246,\n",
              "         -0.14841148],\n",
              "        [-0.42314625, -0.02965434, -0.52253014,  0.31338444,  0.51507574,\n",
              "          0.25007224],\n",
              "        [ 0.42468107,  0.40104714, -0.14614585,  0.11704719, -0.26804838,\n",
              "          0.2969828 ],\n",
              "        [ 0.274857  , -0.3969684 , -0.45336205,  0.4661403 ,  0.46500945,\n",
              "         -0.2618994 ],\n",
              "        [ 0.548522  , -0.0150221 , -0.5298523 , -0.55073273, -0.399962  ,\n",
              "          0.11137483],\n",
              "        [ 0.03107627, -0.04464888, -0.0061661 ,  0.21663918,  0.19515587,\n",
              "         -0.02630445],\n",
              "        [ 0.37171724, -0.23880264,  0.438545  ,  0.26535696,  0.10995352,\n",
              "         -0.46381843]], dtype=float32),\n",
              " array([ 0.10676444, -0.04684817, -0.02376846, -0.10793698,  0.12348657,\n",
              "         0.09885275], dtype=float32)]"
            ]
          },
          "metadata": {},
          "execution_count": 98
        }
      ]
    },
    {
      "cell_type": "code",
      "source": [
        "p=model.predict(x_test)"
      ],
      "metadata": {
        "colab": {
          "base_uri": "https://localhost:8080/"
        },
        "id": "Znx0tJpYyoiC",
        "outputId": "447a5074-1080-4e56-da2a-f2ef02a31b9e"
      },
      "execution_count": 99,
      "outputs": [
        {
          "output_type": "stream",
          "name": "stdout",
          "text": [
            "4/4 [==============================] - 0s 3ms/step\n"
          ]
        }
      ]
    },
    {
      "cell_type": "code",
      "source": [
        "from sklearn.metrics import r2_score"
      ],
      "metadata": {
        "id": "tjb5MfqX7Qtw"
      },
      "execution_count": 100,
      "outputs": []
    },
    {
      "cell_type": "code",
      "source": [
        "r2_score(y_test,p)"
      ],
      "metadata": {
        "colab": {
          "base_uri": "https://localhost:8080/"
        },
        "id": "wXVEkH_Ay68n",
        "outputId": "0cf746fd-3b6a-4de6-af7e-58e3149f1104"
      },
      "execution_count": 101,
      "outputs": [
        {
          "output_type": "execute_result",
          "data": {
            "text/plain": [
              "-6.755253878279836"
            ]
          },
          "metadata": {},
          "execution_count": 101
        }
      ]
    },
    {
      "cell_type": "code",
      "source": [],
      "metadata": {
        "id": "txnhrKrizDX4"
      },
      "execution_count": null,
      "outputs": []
    }
  ]
}