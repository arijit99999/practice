{
  "nbformat": 4,
  "nbformat_minor": 0,
  "metadata": {
    "colab": {
      "provenance": [],
      "gpuType": "T4"
    },
    "kernelspec": {
      "name": "python3",
      "display_name": "Python 3"
    },
    "language_info": {
      "name": "python"
    },
    "accelerator": "GPU"
  },
  "cells": [
    {
      "cell_type": "code",
      "execution_count": 1,
      "metadata": {
        "id": "4gJigJZt1m41"
      },
      "outputs": [],
      "source": [
        "import pandas as pd"
      ]
    },
    {
      "cell_type": "code",
      "source": [
        "data=pd.read_csv('/content/UCI_Credit_Card.csv')"
      ],
      "metadata": {
        "id": "dUGWuXSr1rUl"
      },
      "execution_count": 2,
      "outputs": []
    },
    {
      "cell_type": "code",
      "source": [
        "data.head(2)"
      ],
      "metadata": {
        "colab": {
          "base_uri": "https://localhost:8080/",
          "height": 161
        },
        "id": "5q7vxdx116_b",
        "outputId": "1e81a339-c9f6-4e08-924c-821a9ab1e027"
      },
      "execution_count": 3,
      "outputs": [
        {
          "output_type": "execute_result",
          "data": {
            "text/plain": [
              "   ID  LIMIT_BAL  SEX  EDUCATION  MARRIAGE  AGE  PAY_0  PAY_2  PAY_3  PAY_4  \\\n",
              "0   1    20000.0    2          2         1   24      2      2     -1     -1   \n",
              "1   2   120000.0    2          2         2   26     -1      2      0      0   \n",
              "\n",
              "   ...  BILL_AMT4  BILL_AMT5  BILL_AMT6  PAY_AMT1  PAY_AMT2  PAY_AMT3  \\\n",
              "0  ...        0.0        0.0        0.0       0.0     689.0       0.0   \n",
              "1  ...     3272.0     3455.0     3261.0       0.0    1000.0    1000.0   \n",
              "\n",
              "   PAY_AMT4  PAY_AMT5  PAY_AMT6  default.payment.next.month  \n",
              "0       0.0       0.0       0.0                           1  \n",
              "1    1000.0       0.0    2000.0                           1  \n",
              "\n",
              "[2 rows x 25 columns]"
            ],
            "text/html": [
              "\n",
              "  <div id=\"df-4b387945-8250-46f9-ae16-f2460c6ef89c\" class=\"colab-df-container\">\n",
              "    <div>\n",
              "<style scoped>\n",
              "    .dataframe tbody tr th:only-of-type {\n",
              "        vertical-align: middle;\n",
              "    }\n",
              "\n",
              "    .dataframe tbody tr th {\n",
              "        vertical-align: top;\n",
              "    }\n",
              "\n",
              "    .dataframe thead th {\n",
              "        text-align: right;\n",
              "    }\n",
              "</style>\n",
              "<table border=\"1\" class=\"dataframe\">\n",
              "  <thead>\n",
              "    <tr style=\"text-align: right;\">\n",
              "      <th></th>\n",
              "      <th>ID</th>\n",
              "      <th>LIMIT_BAL</th>\n",
              "      <th>SEX</th>\n",
              "      <th>EDUCATION</th>\n",
              "      <th>MARRIAGE</th>\n",
              "      <th>AGE</th>\n",
              "      <th>PAY_0</th>\n",
              "      <th>PAY_2</th>\n",
              "      <th>PAY_3</th>\n",
              "      <th>PAY_4</th>\n",
              "      <th>...</th>\n",
              "      <th>BILL_AMT4</th>\n",
              "      <th>BILL_AMT5</th>\n",
              "      <th>BILL_AMT6</th>\n",
              "      <th>PAY_AMT1</th>\n",
              "      <th>PAY_AMT2</th>\n",
              "      <th>PAY_AMT3</th>\n",
              "      <th>PAY_AMT4</th>\n",
              "      <th>PAY_AMT5</th>\n",
              "      <th>PAY_AMT6</th>\n",
              "      <th>default.payment.next.month</th>\n",
              "    </tr>\n",
              "  </thead>\n",
              "  <tbody>\n",
              "    <tr>\n",
              "      <th>0</th>\n",
              "      <td>1</td>\n",
              "      <td>20000.0</td>\n",
              "      <td>2</td>\n",
              "      <td>2</td>\n",
              "      <td>1</td>\n",
              "      <td>24</td>\n",
              "      <td>2</td>\n",
              "      <td>2</td>\n",
              "      <td>-1</td>\n",
              "      <td>-1</td>\n",
              "      <td>...</td>\n",
              "      <td>0.0</td>\n",
              "      <td>0.0</td>\n",
              "      <td>0.0</td>\n",
              "      <td>0.0</td>\n",
              "      <td>689.0</td>\n",
              "      <td>0.0</td>\n",
              "      <td>0.0</td>\n",
              "      <td>0.0</td>\n",
              "      <td>0.0</td>\n",
              "      <td>1</td>\n",
              "    </tr>\n",
              "    <tr>\n",
              "      <th>1</th>\n",
              "      <td>2</td>\n",
              "      <td>120000.0</td>\n",
              "      <td>2</td>\n",
              "      <td>2</td>\n",
              "      <td>2</td>\n",
              "      <td>26</td>\n",
              "      <td>-1</td>\n",
              "      <td>2</td>\n",
              "      <td>0</td>\n",
              "      <td>0</td>\n",
              "      <td>...</td>\n",
              "      <td>3272.0</td>\n",
              "      <td>3455.0</td>\n",
              "      <td>3261.0</td>\n",
              "      <td>0.0</td>\n",
              "      <td>1000.0</td>\n",
              "      <td>1000.0</td>\n",
              "      <td>1000.0</td>\n",
              "      <td>0.0</td>\n",
              "      <td>2000.0</td>\n",
              "      <td>1</td>\n",
              "    </tr>\n",
              "  </tbody>\n",
              "</table>\n",
              "<p>2 rows × 25 columns</p>\n",
              "</div>\n",
              "    <div class=\"colab-df-buttons\">\n",
              "\n",
              "  <div class=\"colab-df-container\">\n",
              "    <button class=\"colab-df-convert\" onclick=\"convertToInteractive('df-4b387945-8250-46f9-ae16-f2460c6ef89c')\"\n",
              "            title=\"Convert this dataframe to an interactive table.\"\n",
              "            style=\"display:none;\">\n",
              "\n",
              "  <svg xmlns=\"http://www.w3.org/2000/svg\" height=\"24px\" viewBox=\"0 -960 960 960\">\n",
              "    <path d=\"M120-120v-720h720v720H120Zm60-500h600v-160H180v160Zm220 220h160v-160H400v160Zm0 220h160v-160H400v160ZM180-400h160v-160H180v160Zm440 0h160v-160H620v160ZM180-180h160v-160H180v160Zm440 0h160v-160H620v160Z\"/>\n",
              "  </svg>\n",
              "    </button>\n",
              "\n",
              "  <style>\n",
              "    .colab-df-container {\n",
              "      display:flex;\n",
              "      gap: 12px;\n",
              "    }\n",
              "\n",
              "    .colab-df-convert {\n",
              "      background-color: #E8F0FE;\n",
              "      border: none;\n",
              "      border-radius: 50%;\n",
              "      cursor: pointer;\n",
              "      display: none;\n",
              "      fill: #1967D2;\n",
              "      height: 32px;\n",
              "      padding: 0 0 0 0;\n",
              "      width: 32px;\n",
              "    }\n",
              "\n",
              "    .colab-df-convert:hover {\n",
              "      background-color: #E2EBFA;\n",
              "      box-shadow: 0px 1px 2px rgba(60, 64, 67, 0.3), 0px 1px 3px 1px rgba(60, 64, 67, 0.15);\n",
              "      fill: #174EA6;\n",
              "    }\n",
              "\n",
              "    .colab-df-buttons div {\n",
              "      margin-bottom: 4px;\n",
              "    }\n",
              "\n",
              "    [theme=dark] .colab-df-convert {\n",
              "      background-color: #3B4455;\n",
              "      fill: #D2E3FC;\n",
              "    }\n",
              "\n",
              "    [theme=dark] .colab-df-convert:hover {\n",
              "      background-color: #434B5C;\n",
              "      box-shadow: 0px 1px 3px 1px rgba(0, 0, 0, 0.15);\n",
              "      filter: drop-shadow(0px 1px 2px rgba(0, 0, 0, 0.3));\n",
              "      fill: #FFFFFF;\n",
              "    }\n",
              "  </style>\n",
              "\n",
              "    <script>\n",
              "      const buttonEl =\n",
              "        document.querySelector('#df-4b387945-8250-46f9-ae16-f2460c6ef89c button.colab-df-convert');\n",
              "      buttonEl.style.display =\n",
              "        google.colab.kernel.accessAllowed ? 'block' : 'none';\n",
              "\n",
              "      async function convertToInteractive(key) {\n",
              "        const element = document.querySelector('#df-4b387945-8250-46f9-ae16-f2460c6ef89c');\n",
              "        const dataTable =\n",
              "          await google.colab.kernel.invokeFunction('convertToInteractive',\n",
              "                                                    [key], {});\n",
              "        if (!dataTable) return;\n",
              "\n",
              "        const docLinkHtml = 'Like what you see? Visit the ' +\n",
              "          '<a target=\"_blank\" href=https://colab.research.google.com/notebooks/data_table.ipynb>data table notebook</a>'\n",
              "          + ' to learn more about interactive tables.';\n",
              "        element.innerHTML = '';\n",
              "        dataTable['output_type'] = 'display_data';\n",
              "        await google.colab.output.renderOutput(dataTable, element);\n",
              "        const docLink = document.createElement('div');\n",
              "        docLink.innerHTML = docLinkHtml;\n",
              "        element.appendChild(docLink);\n",
              "      }\n",
              "    </script>\n",
              "  </div>\n",
              "\n",
              "\n",
              "<div id=\"df-77718896-c0bd-41c4-adc4-3b78a4ed7ce8\">\n",
              "  <button class=\"colab-df-quickchart\" onclick=\"quickchart('df-77718896-c0bd-41c4-adc4-3b78a4ed7ce8')\"\n",
              "            title=\"Suggest charts\"\n",
              "            style=\"display:none;\">\n",
              "\n",
              "<svg xmlns=\"http://www.w3.org/2000/svg\" height=\"24px\"viewBox=\"0 0 24 24\"\n",
              "     width=\"24px\">\n",
              "    <g>\n",
              "        <path d=\"M19 3H5c-1.1 0-2 .9-2 2v14c0 1.1.9 2 2 2h14c1.1 0 2-.9 2-2V5c0-1.1-.9-2-2-2zM9 17H7v-7h2v7zm4 0h-2V7h2v10zm4 0h-2v-4h2v4z\"/>\n",
              "    </g>\n",
              "</svg>\n",
              "  </button>\n",
              "\n",
              "<style>\n",
              "  .colab-df-quickchart {\n",
              "      --bg-color: #E8F0FE;\n",
              "      --fill-color: #1967D2;\n",
              "      --hover-bg-color: #E2EBFA;\n",
              "      --hover-fill-color: #174EA6;\n",
              "      --disabled-fill-color: #AAA;\n",
              "      --disabled-bg-color: #DDD;\n",
              "  }\n",
              "\n",
              "  [theme=dark] .colab-df-quickchart {\n",
              "      --bg-color: #3B4455;\n",
              "      --fill-color: #D2E3FC;\n",
              "      --hover-bg-color: #434B5C;\n",
              "      --hover-fill-color: #FFFFFF;\n",
              "      --disabled-bg-color: #3B4455;\n",
              "      --disabled-fill-color: #666;\n",
              "  }\n",
              "\n",
              "  .colab-df-quickchart {\n",
              "    background-color: var(--bg-color);\n",
              "    border: none;\n",
              "    border-radius: 50%;\n",
              "    cursor: pointer;\n",
              "    display: none;\n",
              "    fill: var(--fill-color);\n",
              "    height: 32px;\n",
              "    padding: 0;\n",
              "    width: 32px;\n",
              "  }\n",
              "\n",
              "  .colab-df-quickchart:hover {\n",
              "    background-color: var(--hover-bg-color);\n",
              "    box-shadow: 0 1px 2px rgba(60, 64, 67, 0.3), 0 1px 3px 1px rgba(60, 64, 67, 0.15);\n",
              "    fill: var(--button-hover-fill-color);\n",
              "  }\n",
              "\n",
              "  .colab-df-quickchart-complete:disabled,\n",
              "  .colab-df-quickchart-complete:disabled:hover {\n",
              "    background-color: var(--disabled-bg-color);\n",
              "    fill: var(--disabled-fill-color);\n",
              "    box-shadow: none;\n",
              "  }\n",
              "\n",
              "  .colab-df-spinner {\n",
              "    border: 2px solid var(--fill-color);\n",
              "    border-color: transparent;\n",
              "    border-bottom-color: var(--fill-color);\n",
              "    animation:\n",
              "      spin 1s steps(1) infinite;\n",
              "  }\n",
              "\n",
              "  @keyframes spin {\n",
              "    0% {\n",
              "      border-color: transparent;\n",
              "      border-bottom-color: var(--fill-color);\n",
              "      border-left-color: var(--fill-color);\n",
              "    }\n",
              "    20% {\n",
              "      border-color: transparent;\n",
              "      border-left-color: var(--fill-color);\n",
              "      border-top-color: var(--fill-color);\n",
              "    }\n",
              "    30% {\n",
              "      border-color: transparent;\n",
              "      border-left-color: var(--fill-color);\n",
              "      border-top-color: var(--fill-color);\n",
              "      border-right-color: var(--fill-color);\n",
              "    }\n",
              "    40% {\n",
              "      border-color: transparent;\n",
              "      border-right-color: var(--fill-color);\n",
              "      border-top-color: var(--fill-color);\n",
              "    }\n",
              "    60% {\n",
              "      border-color: transparent;\n",
              "      border-right-color: var(--fill-color);\n",
              "    }\n",
              "    80% {\n",
              "      border-color: transparent;\n",
              "      border-right-color: var(--fill-color);\n",
              "      border-bottom-color: var(--fill-color);\n",
              "    }\n",
              "    90% {\n",
              "      border-color: transparent;\n",
              "      border-bottom-color: var(--fill-color);\n",
              "    }\n",
              "  }\n",
              "</style>\n",
              "\n",
              "  <script>\n",
              "    async function quickchart(key) {\n",
              "      const quickchartButtonEl =\n",
              "        document.querySelector('#' + key + ' button');\n",
              "      quickchartButtonEl.disabled = true;  // To prevent multiple clicks.\n",
              "      quickchartButtonEl.classList.add('colab-df-spinner');\n",
              "      try {\n",
              "        const charts = await google.colab.kernel.invokeFunction(\n",
              "            'suggestCharts', [key], {});\n",
              "      } catch (error) {\n",
              "        console.error('Error during call to suggestCharts:', error);\n",
              "      }\n",
              "      quickchartButtonEl.classList.remove('colab-df-spinner');\n",
              "      quickchartButtonEl.classList.add('colab-df-quickchart-complete');\n",
              "    }\n",
              "    (() => {\n",
              "      let quickchartButtonEl =\n",
              "        document.querySelector('#df-77718896-c0bd-41c4-adc4-3b78a4ed7ce8 button');\n",
              "      quickchartButtonEl.style.display =\n",
              "        google.colab.kernel.accessAllowed ? 'block' : 'none';\n",
              "    })();\n",
              "  </script>\n",
              "</div>\n",
              "\n",
              "    </div>\n",
              "  </div>\n"
            ],
            "application/vnd.google.colaboratory.intrinsic+json": {
              "type": "dataframe",
              "variable_name": "data"
            }
          },
          "metadata": {},
          "execution_count": 3
        }
      ]
    },
    {
      "cell_type": "code",
      "source": [
        "from sklearn.preprocessing import StandardScaler"
      ],
      "metadata": {
        "id": "u8DZ9ZMl19wU"
      },
      "execution_count": 4,
      "outputs": []
    },
    {
      "cell_type": "code",
      "source": [
        "x=data.iloc[:,:-1]"
      ],
      "metadata": {
        "id": "4zBokZlI2GwG"
      },
      "execution_count": 5,
      "outputs": []
    },
    {
      "cell_type": "code",
      "source": [
        "x.head(2)"
      ],
      "metadata": {
        "colab": {
          "base_uri": "https://localhost:8080/",
          "height": 161
        },
        "id": "DJ5ltQQ12ShH",
        "outputId": "858a0981-aadb-4593-b54b-2578a3371eea"
      },
      "execution_count": 6,
      "outputs": [
        {
          "output_type": "execute_result",
          "data": {
            "text/plain": [
              "   ID  LIMIT_BAL  SEX  EDUCATION  MARRIAGE  AGE  PAY_0  PAY_2  PAY_3  PAY_4  \\\n",
              "0   1    20000.0    2          2         1   24      2      2     -1     -1   \n",
              "1   2   120000.0    2          2         2   26     -1      2      0      0   \n",
              "\n",
              "   ...  BILL_AMT3  BILL_AMT4  BILL_AMT5  BILL_AMT6  PAY_AMT1  PAY_AMT2  \\\n",
              "0  ...      689.0        0.0        0.0        0.0       0.0     689.0   \n",
              "1  ...     2682.0     3272.0     3455.0     3261.0       0.0    1000.0   \n",
              "\n",
              "   PAY_AMT3  PAY_AMT4  PAY_AMT5  PAY_AMT6  \n",
              "0       0.0       0.0       0.0       0.0  \n",
              "1    1000.0    1000.0       0.0    2000.0  \n",
              "\n",
              "[2 rows x 24 columns]"
            ],
            "text/html": [
              "\n",
              "  <div id=\"df-7507a491-0225-4c99-afda-1515d173a298\" class=\"colab-df-container\">\n",
              "    <div>\n",
              "<style scoped>\n",
              "    .dataframe tbody tr th:only-of-type {\n",
              "        vertical-align: middle;\n",
              "    }\n",
              "\n",
              "    .dataframe tbody tr th {\n",
              "        vertical-align: top;\n",
              "    }\n",
              "\n",
              "    .dataframe thead th {\n",
              "        text-align: right;\n",
              "    }\n",
              "</style>\n",
              "<table border=\"1\" class=\"dataframe\">\n",
              "  <thead>\n",
              "    <tr style=\"text-align: right;\">\n",
              "      <th></th>\n",
              "      <th>ID</th>\n",
              "      <th>LIMIT_BAL</th>\n",
              "      <th>SEX</th>\n",
              "      <th>EDUCATION</th>\n",
              "      <th>MARRIAGE</th>\n",
              "      <th>AGE</th>\n",
              "      <th>PAY_0</th>\n",
              "      <th>PAY_2</th>\n",
              "      <th>PAY_3</th>\n",
              "      <th>PAY_4</th>\n",
              "      <th>...</th>\n",
              "      <th>BILL_AMT3</th>\n",
              "      <th>BILL_AMT4</th>\n",
              "      <th>BILL_AMT5</th>\n",
              "      <th>BILL_AMT6</th>\n",
              "      <th>PAY_AMT1</th>\n",
              "      <th>PAY_AMT2</th>\n",
              "      <th>PAY_AMT3</th>\n",
              "      <th>PAY_AMT4</th>\n",
              "      <th>PAY_AMT5</th>\n",
              "      <th>PAY_AMT6</th>\n",
              "    </tr>\n",
              "  </thead>\n",
              "  <tbody>\n",
              "    <tr>\n",
              "      <th>0</th>\n",
              "      <td>1</td>\n",
              "      <td>20000.0</td>\n",
              "      <td>2</td>\n",
              "      <td>2</td>\n",
              "      <td>1</td>\n",
              "      <td>24</td>\n",
              "      <td>2</td>\n",
              "      <td>2</td>\n",
              "      <td>-1</td>\n",
              "      <td>-1</td>\n",
              "      <td>...</td>\n",
              "      <td>689.0</td>\n",
              "      <td>0.0</td>\n",
              "      <td>0.0</td>\n",
              "      <td>0.0</td>\n",
              "      <td>0.0</td>\n",
              "      <td>689.0</td>\n",
              "      <td>0.0</td>\n",
              "      <td>0.0</td>\n",
              "      <td>0.0</td>\n",
              "      <td>0.0</td>\n",
              "    </tr>\n",
              "    <tr>\n",
              "      <th>1</th>\n",
              "      <td>2</td>\n",
              "      <td>120000.0</td>\n",
              "      <td>2</td>\n",
              "      <td>2</td>\n",
              "      <td>2</td>\n",
              "      <td>26</td>\n",
              "      <td>-1</td>\n",
              "      <td>2</td>\n",
              "      <td>0</td>\n",
              "      <td>0</td>\n",
              "      <td>...</td>\n",
              "      <td>2682.0</td>\n",
              "      <td>3272.0</td>\n",
              "      <td>3455.0</td>\n",
              "      <td>3261.0</td>\n",
              "      <td>0.0</td>\n",
              "      <td>1000.0</td>\n",
              "      <td>1000.0</td>\n",
              "      <td>1000.0</td>\n",
              "      <td>0.0</td>\n",
              "      <td>2000.0</td>\n",
              "    </tr>\n",
              "  </tbody>\n",
              "</table>\n",
              "<p>2 rows × 24 columns</p>\n",
              "</div>\n",
              "    <div class=\"colab-df-buttons\">\n",
              "\n",
              "  <div class=\"colab-df-container\">\n",
              "    <button class=\"colab-df-convert\" onclick=\"convertToInteractive('df-7507a491-0225-4c99-afda-1515d173a298')\"\n",
              "            title=\"Convert this dataframe to an interactive table.\"\n",
              "            style=\"display:none;\">\n",
              "\n",
              "  <svg xmlns=\"http://www.w3.org/2000/svg\" height=\"24px\" viewBox=\"0 -960 960 960\">\n",
              "    <path d=\"M120-120v-720h720v720H120Zm60-500h600v-160H180v160Zm220 220h160v-160H400v160Zm0 220h160v-160H400v160ZM180-400h160v-160H180v160Zm440 0h160v-160H620v160ZM180-180h160v-160H180v160Zm440 0h160v-160H620v160Z\"/>\n",
              "  </svg>\n",
              "    </button>\n",
              "\n",
              "  <style>\n",
              "    .colab-df-container {\n",
              "      display:flex;\n",
              "      gap: 12px;\n",
              "    }\n",
              "\n",
              "    .colab-df-convert {\n",
              "      background-color: #E8F0FE;\n",
              "      border: none;\n",
              "      border-radius: 50%;\n",
              "      cursor: pointer;\n",
              "      display: none;\n",
              "      fill: #1967D2;\n",
              "      height: 32px;\n",
              "      padding: 0 0 0 0;\n",
              "      width: 32px;\n",
              "    }\n",
              "\n",
              "    .colab-df-convert:hover {\n",
              "      background-color: #E2EBFA;\n",
              "      box-shadow: 0px 1px 2px rgba(60, 64, 67, 0.3), 0px 1px 3px 1px rgba(60, 64, 67, 0.15);\n",
              "      fill: #174EA6;\n",
              "    }\n",
              "\n",
              "    .colab-df-buttons div {\n",
              "      margin-bottom: 4px;\n",
              "    }\n",
              "\n",
              "    [theme=dark] .colab-df-convert {\n",
              "      background-color: #3B4455;\n",
              "      fill: #D2E3FC;\n",
              "    }\n",
              "\n",
              "    [theme=dark] .colab-df-convert:hover {\n",
              "      background-color: #434B5C;\n",
              "      box-shadow: 0px 1px 3px 1px rgba(0, 0, 0, 0.15);\n",
              "      filter: drop-shadow(0px 1px 2px rgba(0, 0, 0, 0.3));\n",
              "      fill: #FFFFFF;\n",
              "    }\n",
              "  </style>\n",
              "\n",
              "    <script>\n",
              "      const buttonEl =\n",
              "        document.querySelector('#df-7507a491-0225-4c99-afda-1515d173a298 button.colab-df-convert');\n",
              "      buttonEl.style.display =\n",
              "        google.colab.kernel.accessAllowed ? 'block' : 'none';\n",
              "\n",
              "      async function convertToInteractive(key) {\n",
              "        const element = document.querySelector('#df-7507a491-0225-4c99-afda-1515d173a298');\n",
              "        const dataTable =\n",
              "          await google.colab.kernel.invokeFunction('convertToInteractive',\n",
              "                                                    [key], {});\n",
              "        if (!dataTable) return;\n",
              "\n",
              "        const docLinkHtml = 'Like what you see? Visit the ' +\n",
              "          '<a target=\"_blank\" href=https://colab.research.google.com/notebooks/data_table.ipynb>data table notebook</a>'\n",
              "          + ' to learn more about interactive tables.';\n",
              "        element.innerHTML = '';\n",
              "        dataTable['output_type'] = 'display_data';\n",
              "        await google.colab.output.renderOutput(dataTable, element);\n",
              "        const docLink = document.createElement('div');\n",
              "        docLink.innerHTML = docLinkHtml;\n",
              "        element.appendChild(docLink);\n",
              "      }\n",
              "    </script>\n",
              "  </div>\n",
              "\n",
              "\n",
              "<div id=\"df-37a856ea-3104-413a-b8e1-f26fbd5423c8\">\n",
              "  <button class=\"colab-df-quickchart\" onclick=\"quickchart('df-37a856ea-3104-413a-b8e1-f26fbd5423c8')\"\n",
              "            title=\"Suggest charts\"\n",
              "            style=\"display:none;\">\n",
              "\n",
              "<svg xmlns=\"http://www.w3.org/2000/svg\" height=\"24px\"viewBox=\"0 0 24 24\"\n",
              "     width=\"24px\">\n",
              "    <g>\n",
              "        <path d=\"M19 3H5c-1.1 0-2 .9-2 2v14c0 1.1.9 2 2 2h14c1.1 0 2-.9 2-2V5c0-1.1-.9-2-2-2zM9 17H7v-7h2v7zm4 0h-2V7h2v10zm4 0h-2v-4h2v4z\"/>\n",
              "    </g>\n",
              "</svg>\n",
              "  </button>\n",
              "\n",
              "<style>\n",
              "  .colab-df-quickchart {\n",
              "      --bg-color: #E8F0FE;\n",
              "      --fill-color: #1967D2;\n",
              "      --hover-bg-color: #E2EBFA;\n",
              "      --hover-fill-color: #174EA6;\n",
              "      --disabled-fill-color: #AAA;\n",
              "      --disabled-bg-color: #DDD;\n",
              "  }\n",
              "\n",
              "  [theme=dark] .colab-df-quickchart {\n",
              "      --bg-color: #3B4455;\n",
              "      --fill-color: #D2E3FC;\n",
              "      --hover-bg-color: #434B5C;\n",
              "      --hover-fill-color: #FFFFFF;\n",
              "      --disabled-bg-color: #3B4455;\n",
              "      --disabled-fill-color: #666;\n",
              "  }\n",
              "\n",
              "  .colab-df-quickchart {\n",
              "    background-color: var(--bg-color);\n",
              "    border: none;\n",
              "    border-radius: 50%;\n",
              "    cursor: pointer;\n",
              "    display: none;\n",
              "    fill: var(--fill-color);\n",
              "    height: 32px;\n",
              "    padding: 0;\n",
              "    width: 32px;\n",
              "  }\n",
              "\n",
              "  .colab-df-quickchart:hover {\n",
              "    background-color: var(--hover-bg-color);\n",
              "    box-shadow: 0 1px 2px rgba(60, 64, 67, 0.3), 0 1px 3px 1px rgba(60, 64, 67, 0.15);\n",
              "    fill: var(--button-hover-fill-color);\n",
              "  }\n",
              "\n",
              "  .colab-df-quickchart-complete:disabled,\n",
              "  .colab-df-quickchart-complete:disabled:hover {\n",
              "    background-color: var(--disabled-bg-color);\n",
              "    fill: var(--disabled-fill-color);\n",
              "    box-shadow: none;\n",
              "  }\n",
              "\n",
              "  .colab-df-spinner {\n",
              "    border: 2px solid var(--fill-color);\n",
              "    border-color: transparent;\n",
              "    border-bottom-color: var(--fill-color);\n",
              "    animation:\n",
              "      spin 1s steps(1) infinite;\n",
              "  }\n",
              "\n",
              "  @keyframes spin {\n",
              "    0% {\n",
              "      border-color: transparent;\n",
              "      border-bottom-color: var(--fill-color);\n",
              "      border-left-color: var(--fill-color);\n",
              "    }\n",
              "    20% {\n",
              "      border-color: transparent;\n",
              "      border-left-color: var(--fill-color);\n",
              "      border-top-color: var(--fill-color);\n",
              "    }\n",
              "    30% {\n",
              "      border-color: transparent;\n",
              "      border-left-color: var(--fill-color);\n",
              "      border-top-color: var(--fill-color);\n",
              "      border-right-color: var(--fill-color);\n",
              "    }\n",
              "    40% {\n",
              "      border-color: transparent;\n",
              "      border-right-color: var(--fill-color);\n",
              "      border-top-color: var(--fill-color);\n",
              "    }\n",
              "    60% {\n",
              "      border-color: transparent;\n",
              "      border-right-color: var(--fill-color);\n",
              "    }\n",
              "    80% {\n",
              "      border-color: transparent;\n",
              "      border-right-color: var(--fill-color);\n",
              "      border-bottom-color: var(--fill-color);\n",
              "    }\n",
              "    90% {\n",
              "      border-color: transparent;\n",
              "      border-bottom-color: var(--fill-color);\n",
              "    }\n",
              "  }\n",
              "</style>\n",
              "\n",
              "  <script>\n",
              "    async function quickchart(key) {\n",
              "      const quickchartButtonEl =\n",
              "        document.querySelector('#' + key + ' button');\n",
              "      quickchartButtonEl.disabled = true;  // To prevent multiple clicks.\n",
              "      quickchartButtonEl.classList.add('colab-df-spinner');\n",
              "      try {\n",
              "        const charts = await google.colab.kernel.invokeFunction(\n",
              "            'suggestCharts', [key], {});\n",
              "      } catch (error) {\n",
              "        console.error('Error during call to suggestCharts:', error);\n",
              "      }\n",
              "      quickchartButtonEl.classList.remove('colab-df-spinner');\n",
              "      quickchartButtonEl.classList.add('colab-df-quickchart-complete');\n",
              "    }\n",
              "    (() => {\n",
              "      let quickchartButtonEl =\n",
              "        document.querySelector('#df-37a856ea-3104-413a-b8e1-f26fbd5423c8 button');\n",
              "      quickchartButtonEl.style.display =\n",
              "        google.colab.kernel.accessAllowed ? 'block' : 'none';\n",
              "    })();\n",
              "  </script>\n",
              "</div>\n",
              "\n",
              "    </div>\n",
              "  </div>\n"
            ],
            "application/vnd.google.colaboratory.intrinsic+json": {
              "type": "dataframe",
              "variable_name": "x"
            }
          },
          "metadata": {},
          "execution_count": 6
        }
      ]
    },
    {
      "cell_type": "code",
      "source": [
        "y=data.iloc[:,-1:]"
      ],
      "metadata": {
        "id": "xE3Ulceg2UJF"
      },
      "execution_count": 7,
      "outputs": []
    },
    {
      "cell_type": "code",
      "source": [
        "y.head(2)"
      ],
      "metadata": {
        "colab": {
          "base_uri": "https://localhost:8080/",
          "height": 112
        },
        "id": "6r4nFRpd2aj9",
        "outputId": "8955fbc6-11f0-4613-b7db-b0e3d1bfce47"
      },
      "execution_count": 8,
      "outputs": [
        {
          "output_type": "execute_result",
          "data": {
            "text/plain": [
              "   default.payment.next.month\n",
              "0                           1\n",
              "1                           1"
            ],
            "text/html": [
              "\n",
              "  <div id=\"df-99df9881-9e8c-429f-b9a5-3abfaace3f8f\" class=\"colab-df-container\">\n",
              "    <div>\n",
              "<style scoped>\n",
              "    .dataframe tbody tr th:only-of-type {\n",
              "        vertical-align: middle;\n",
              "    }\n",
              "\n",
              "    .dataframe tbody tr th {\n",
              "        vertical-align: top;\n",
              "    }\n",
              "\n",
              "    .dataframe thead th {\n",
              "        text-align: right;\n",
              "    }\n",
              "</style>\n",
              "<table border=\"1\" class=\"dataframe\">\n",
              "  <thead>\n",
              "    <tr style=\"text-align: right;\">\n",
              "      <th></th>\n",
              "      <th>default.payment.next.month</th>\n",
              "    </tr>\n",
              "  </thead>\n",
              "  <tbody>\n",
              "    <tr>\n",
              "      <th>0</th>\n",
              "      <td>1</td>\n",
              "    </tr>\n",
              "    <tr>\n",
              "      <th>1</th>\n",
              "      <td>1</td>\n",
              "    </tr>\n",
              "  </tbody>\n",
              "</table>\n",
              "</div>\n",
              "    <div class=\"colab-df-buttons\">\n",
              "\n",
              "  <div class=\"colab-df-container\">\n",
              "    <button class=\"colab-df-convert\" onclick=\"convertToInteractive('df-99df9881-9e8c-429f-b9a5-3abfaace3f8f')\"\n",
              "            title=\"Convert this dataframe to an interactive table.\"\n",
              "            style=\"display:none;\">\n",
              "\n",
              "  <svg xmlns=\"http://www.w3.org/2000/svg\" height=\"24px\" viewBox=\"0 -960 960 960\">\n",
              "    <path d=\"M120-120v-720h720v720H120Zm60-500h600v-160H180v160Zm220 220h160v-160H400v160Zm0 220h160v-160H400v160ZM180-400h160v-160H180v160Zm440 0h160v-160H620v160ZM180-180h160v-160H180v160Zm440 0h160v-160H620v160Z\"/>\n",
              "  </svg>\n",
              "    </button>\n",
              "\n",
              "  <style>\n",
              "    .colab-df-container {\n",
              "      display:flex;\n",
              "      gap: 12px;\n",
              "    }\n",
              "\n",
              "    .colab-df-convert {\n",
              "      background-color: #E8F0FE;\n",
              "      border: none;\n",
              "      border-radius: 50%;\n",
              "      cursor: pointer;\n",
              "      display: none;\n",
              "      fill: #1967D2;\n",
              "      height: 32px;\n",
              "      padding: 0 0 0 0;\n",
              "      width: 32px;\n",
              "    }\n",
              "\n",
              "    .colab-df-convert:hover {\n",
              "      background-color: #E2EBFA;\n",
              "      box-shadow: 0px 1px 2px rgba(60, 64, 67, 0.3), 0px 1px 3px 1px rgba(60, 64, 67, 0.15);\n",
              "      fill: #174EA6;\n",
              "    }\n",
              "\n",
              "    .colab-df-buttons div {\n",
              "      margin-bottom: 4px;\n",
              "    }\n",
              "\n",
              "    [theme=dark] .colab-df-convert {\n",
              "      background-color: #3B4455;\n",
              "      fill: #D2E3FC;\n",
              "    }\n",
              "\n",
              "    [theme=dark] .colab-df-convert:hover {\n",
              "      background-color: #434B5C;\n",
              "      box-shadow: 0px 1px 3px 1px rgba(0, 0, 0, 0.15);\n",
              "      filter: drop-shadow(0px 1px 2px rgba(0, 0, 0, 0.3));\n",
              "      fill: #FFFFFF;\n",
              "    }\n",
              "  </style>\n",
              "\n",
              "    <script>\n",
              "      const buttonEl =\n",
              "        document.querySelector('#df-99df9881-9e8c-429f-b9a5-3abfaace3f8f button.colab-df-convert');\n",
              "      buttonEl.style.display =\n",
              "        google.colab.kernel.accessAllowed ? 'block' : 'none';\n",
              "\n",
              "      async function convertToInteractive(key) {\n",
              "        const element = document.querySelector('#df-99df9881-9e8c-429f-b9a5-3abfaace3f8f');\n",
              "        const dataTable =\n",
              "          await google.colab.kernel.invokeFunction('convertToInteractive',\n",
              "                                                    [key], {});\n",
              "        if (!dataTable) return;\n",
              "\n",
              "        const docLinkHtml = 'Like what you see? Visit the ' +\n",
              "          '<a target=\"_blank\" href=https://colab.research.google.com/notebooks/data_table.ipynb>data table notebook</a>'\n",
              "          + ' to learn more about interactive tables.';\n",
              "        element.innerHTML = '';\n",
              "        dataTable['output_type'] = 'display_data';\n",
              "        await google.colab.output.renderOutput(dataTable, element);\n",
              "        const docLink = document.createElement('div');\n",
              "        docLink.innerHTML = docLinkHtml;\n",
              "        element.appendChild(docLink);\n",
              "      }\n",
              "    </script>\n",
              "  </div>\n",
              "\n",
              "\n",
              "<div id=\"df-65e2b58d-94b3-4725-8d55-096eeb810792\">\n",
              "  <button class=\"colab-df-quickchart\" onclick=\"quickchart('df-65e2b58d-94b3-4725-8d55-096eeb810792')\"\n",
              "            title=\"Suggest charts\"\n",
              "            style=\"display:none;\">\n",
              "\n",
              "<svg xmlns=\"http://www.w3.org/2000/svg\" height=\"24px\"viewBox=\"0 0 24 24\"\n",
              "     width=\"24px\">\n",
              "    <g>\n",
              "        <path d=\"M19 3H5c-1.1 0-2 .9-2 2v14c0 1.1.9 2 2 2h14c1.1 0 2-.9 2-2V5c0-1.1-.9-2-2-2zM9 17H7v-7h2v7zm4 0h-2V7h2v10zm4 0h-2v-4h2v4z\"/>\n",
              "    </g>\n",
              "</svg>\n",
              "  </button>\n",
              "\n",
              "<style>\n",
              "  .colab-df-quickchart {\n",
              "      --bg-color: #E8F0FE;\n",
              "      --fill-color: #1967D2;\n",
              "      --hover-bg-color: #E2EBFA;\n",
              "      --hover-fill-color: #174EA6;\n",
              "      --disabled-fill-color: #AAA;\n",
              "      --disabled-bg-color: #DDD;\n",
              "  }\n",
              "\n",
              "  [theme=dark] .colab-df-quickchart {\n",
              "      --bg-color: #3B4455;\n",
              "      --fill-color: #D2E3FC;\n",
              "      --hover-bg-color: #434B5C;\n",
              "      --hover-fill-color: #FFFFFF;\n",
              "      --disabled-bg-color: #3B4455;\n",
              "      --disabled-fill-color: #666;\n",
              "  }\n",
              "\n",
              "  .colab-df-quickchart {\n",
              "    background-color: var(--bg-color);\n",
              "    border: none;\n",
              "    border-radius: 50%;\n",
              "    cursor: pointer;\n",
              "    display: none;\n",
              "    fill: var(--fill-color);\n",
              "    height: 32px;\n",
              "    padding: 0;\n",
              "    width: 32px;\n",
              "  }\n",
              "\n",
              "  .colab-df-quickchart:hover {\n",
              "    background-color: var(--hover-bg-color);\n",
              "    box-shadow: 0 1px 2px rgba(60, 64, 67, 0.3), 0 1px 3px 1px rgba(60, 64, 67, 0.15);\n",
              "    fill: var(--button-hover-fill-color);\n",
              "  }\n",
              "\n",
              "  .colab-df-quickchart-complete:disabled,\n",
              "  .colab-df-quickchart-complete:disabled:hover {\n",
              "    background-color: var(--disabled-bg-color);\n",
              "    fill: var(--disabled-fill-color);\n",
              "    box-shadow: none;\n",
              "  }\n",
              "\n",
              "  .colab-df-spinner {\n",
              "    border: 2px solid var(--fill-color);\n",
              "    border-color: transparent;\n",
              "    border-bottom-color: var(--fill-color);\n",
              "    animation:\n",
              "      spin 1s steps(1) infinite;\n",
              "  }\n",
              "\n",
              "  @keyframes spin {\n",
              "    0% {\n",
              "      border-color: transparent;\n",
              "      border-bottom-color: var(--fill-color);\n",
              "      border-left-color: var(--fill-color);\n",
              "    }\n",
              "    20% {\n",
              "      border-color: transparent;\n",
              "      border-left-color: var(--fill-color);\n",
              "      border-top-color: var(--fill-color);\n",
              "    }\n",
              "    30% {\n",
              "      border-color: transparent;\n",
              "      border-left-color: var(--fill-color);\n",
              "      border-top-color: var(--fill-color);\n",
              "      border-right-color: var(--fill-color);\n",
              "    }\n",
              "    40% {\n",
              "      border-color: transparent;\n",
              "      border-right-color: var(--fill-color);\n",
              "      border-top-color: var(--fill-color);\n",
              "    }\n",
              "    60% {\n",
              "      border-color: transparent;\n",
              "      border-right-color: var(--fill-color);\n",
              "    }\n",
              "    80% {\n",
              "      border-color: transparent;\n",
              "      border-right-color: var(--fill-color);\n",
              "      border-bottom-color: var(--fill-color);\n",
              "    }\n",
              "    90% {\n",
              "      border-color: transparent;\n",
              "      border-bottom-color: var(--fill-color);\n",
              "    }\n",
              "  }\n",
              "</style>\n",
              "\n",
              "  <script>\n",
              "    async function quickchart(key) {\n",
              "      const quickchartButtonEl =\n",
              "        document.querySelector('#' + key + ' button');\n",
              "      quickchartButtonEl.disabled = true;  // To prevent multiple clicks.\n",
              "      quickchartButtonEl.classList.add('colab-df-spinner');\n",
              "      try {\n",
              "        const charts = await google.colab.kernel.invokeFunction(\n",
              "            'suggestCharts', [key], {});\n",
              "      } catch (error) {\n",
              "        console.error('Error during call to suggestCharts:', error);\n",
              "      }\n",
              "      quickchartButtonEl.classList.remove('colab-df-spinner');\n",
              "      quickchartButtonEl.classList.add('colab-df-quickchart-complete');\n",
              "    }\n",
              "    (() => {\n",
              "      let quickchartButtonEl =\n",
              "        document.querySelector('#df-65e2b58d-94b3-4725-8d55-096eeb810792 button');\n",
              "      quickchartButtonEl.style.display =\n",
              "        google.colab.kernel.accessAllowed ? 'block' : 'none';\n",
              "    })();\n",
              "  </script>\n",
              "</div>\n",
              "\n",
              "    </div>\n",
              "  </div>\n"
            ],
            "application/vnd.google.colaboratory.intrinsic+json": {
              "type": "dataframe",
              "variable_name": "y",
              "summary": "{\n  \"name\": \"y\",\n  \"rows\": 30000,\n  \"fields\": [\n    {\n      \"column\": \"default.payment.next.month\",\n      \"properties\": {\n        \"dtype\": \"number\",\n        \"std\": 0,\n        \"min\": 0,\n        \"max\": 1,\n        \"num_unique_values\": 2,\n        \"samples\": [\n          0,\n          1\n        ],\n        \"semantic_type\": \"\",\n        \"description\": \"\"\n      }\n    }\n  ]\n}"
            }
          },
          "metadata": {},
          "execution_count": 8
        }
      ]
    },
    {
      "cell_type": "code",
      "source": [
        "x.shape"
      ],
      "metadata": {
        "colab": {
          "base_uri": "https://localhost:8080/"
        },
        "id": "OfuM37VuIISE",
        "outputId": "8293b74d-3b8b-47e2-a396-7111cfada4d5"
      },
      "execution_count": 9,
      "outputs": [
        {
          "output_type": "execute_result",
          "data": {
            "text/plain": [
              "(30000, 24)"
            ]
          },
          "metadata": {},
          "execution_count": 9
        }
      ]
    },
    {
      "cell_type": "code",
      "source": [
        "from sklearn.model_selection import train_test_split"
      ],
      "metadata": {
        "id": "NkpdohkM2g_e"
      },
      "execution_count": 10,
      "outputs": []
    },
    {
      "cell_type": "code",
      "source": [
        "from sklearn.metrics import accuracy_score"
      ],
      "metadata": {
        "id": "ta-mSqH42pyp"
      },
      "execution_count": 11,
      "outputs": []
    },
    {
      "cell_type": "code",
      "source": [
        "x_train,x_test,y_train,y_test=train_test_split(x,y,test_size=.2,random_state=1221)"
      ],
      "metadata": {
        "id": "c1PxrgFk2y9c"
      },
      "execution_count": 12,
      "outputs": []
    },
    {
      "cell_type": "code",
      "source": [
        "s=StandardScaler()"
      ],
      "metadata": {
        "id": "acVwyCtn2-rv"
      },
      "execution_count": 13,
      "outputs": []
    },
    {
      "cell_type": "code",
      "source": [
        "x_sc=s.fit_transform(x)"
      ],
      "metadata": {
        "id": "3WyRBzk49axV"
      },
      "execution_count": 14,
      "outputs": []
    },
    {
      "cell_type": "code",
      "source": [
        "x_train_sc=s.fit_transform(x_train)"
      ],
      "metadata": {
        "id": "qmmG1d0m4F1X"
      },
      "execution_count": 15,
      "outputs": []
    },
    {
      "cell_type": "code",
      "source": [
        "x_test_sc=s.transform(x_test)"
      ],
      "metadata": {
        "id": "eShzVmNa4Kxv"
      },
      "execution_count": 16,
      "outputs": []
    },
    {
      "cell_type": "code",
      "source": [
        "import tensorflow"
      ],
      "metadata": {
        "id": "lBH6htrs5GOo"
      },
      "execution_count": 17,
      "outputs": []
    },
    {
      "cell_type": "code",
      "source": [
        "from tensorflow import keras"
      ],
      "metadata": {
        "id": "F3HNc1-LHGu1"
      },
      "execution_count": 18,
      "outputs": []
    },
    {
      "cell_type": "code",
      "source": [
        "from keras import Sequential"
      ],
      "metadata": {
        "id": "Sfk_lr2D3K7t"
      },
      "execution_count": 19,
      "outputs": []
    },
    {
      "cell_type": "code",
      "source": [
        "from keras.layers import Dense"
      ],
      "metadata": {
        "id": "gMVoal6v3mY-"
      },
      "execution_count": 20,
      "outputs": []
    },
    {
      "cell_type": "code",
      "source": [
        "model=Sequential()\n",
        "model.add(Dense(20,activation='relu',input_dim=24))\n",
        "model.add(Dense(10,activation='relu',input_dim=20))\n",
        "model.add(Dense(5,activation='relu',input_dim=10))\n",
        "model.add(Dense(3,activation='relu',input_dim=5))\n",
        "model.add(Dense(1,activation='sigmoid'))"
      ],
      "metadata": {
        "id": "ak18aflQHdX3"
      },
      "execution_count": 21,
      "outputs": []
    },
    {
      "cell_type": "code",
      "source": [
        "model.summary()"
      ],
      "metadata": {
        "colab": {
          "base_uri": "https://localhost:8080/"
        },
        "id": "-7HFbr_WIVIc",
        "outputId": "6019da9f-e8d8-481f-cbc0-2fae06e9816f"
      },
      "execution_count": 22,
      "outputs": [
        {
          "output_type": "stream",
          "name": "stdout",
          "text": [
            "Model: \"sequential\"\n",
            "_________________________________________________________________\n",
            " Layer (type)                Output Shape              Param #   \n",
            "=================================================================\n",
            " dense (Dense)               (None, 20)                500       \n",
            "                                                                 \n",
            " dense_1 (Dense)             (None, 10)                210       \n",
            "                                                                 \n",
            " dense_2 (Dense)             (None, 5)                 55        \n",
            "                                                                 \n",
            " dense_3 (Dense)             (None, 3)                 18        \n",
            "                                                                 \n",
            " dense_4 (Dense)             (None, 1)                 4         \n",
            "                                                                 \n",
            "=================================================================\n",
            "Total params: 787 (3.07 KB)\n",
            "Trainable params: 787 (3.07 KB)\n",
            "Non-trainable params: 0 (0.00 Byte)\n",
            "_________________________________________________________________\n"
          ]
        }
      ]
    },
    {
      "cell_type": "code",
      "source": [
        "model.compile(loss='binary_crossentropy',optimizer='Adam',metrics=[\"accuracy\"])"
      ],
      "metadata": {
        "id": "4rV9UnB8IgzH"
      },
      "execution_count": 23,
      "outputs": []
    },
    {
      "cell_type": "code",
      "source": [
        "history=model.fit(x_sc,y,epochs=10,batch_size=10,validation_split=0.2)"
      ],
      "metadata": {
        "colab": {
          "base_uri": "https://localhost:8080/"
        },
        "id": "XEPhgqZ7KXtj",
        "outputId": "dae4a56a-66b9-4d21-8e39-c4b249678169"
      },
      "execution_count": 24,
      "outputs": [
        {
          "output_type": "stream",
          "name": "stdout",
          "text": [
            "Epoch 1/10\n",
            "2400/2400 [==============================] - 7s 2ms/step - loss: 0.4771 - accuracy: 0.7857 - val_loss: 0.4392 - val_accuracy: 0.8280\n",
            "Epoch 2/10\n",
            "2400/2400 [==============================] - 8s 3ms/step - loss: 0.4530 - accuracy: 0.8127 - val_loss: 0.4275 - val_accuracy: 0.8303\n",
            "Epoch 3/10\n",
            "2400/2400 [==============================] - 6s 2ms/step - loss: 0.4459 - accuracy: 0.8145 - val_loss: 0.4191 - val_accuracy: 0.8355\n",
            "Epoch 4/10\n",
            "2400/2400 [==============================] - 8s 3ms/step - loss: 0.4417 - accuracy: 0.8163 - val_loss: 0.4201 - val_accuracy: 0.8320\n",
            "Epoch 5/10\n",
            "2400/2400 [==============================] - 6s 3ms/step - loss: 0.4384 - accuracy: 0.8159 - val_loss: 0.4148 - val_accuracy: 0.8330\n",
            "Epoch 6/10\n",
            "2400/2400 [==============================] - 8s 3ms/step - loss: 0.4361 - accuracy: 0.8176 - val_loss: 0.4145 - val_accuracy: 0.8340\n",
            "Epoch 7/10\n",
            "2400/2400 [==============================] - 6s 2ms/step - loss: 0.4346 - accuracy: 0.8170 - val_loss: 0.4139 - val_accuracy: 0.8320\n",
            "Epoch 8/10\n",
            "2400/2400 [==============================] - 7s 3ms/step - loss: 0.4336 - accuracy: 0.8178 - val_loss: 0.4125 - val_accuracy: 0.8322\n",
            "Epoch 9/10\n",
            "2400/2400 [==============================] - 6s 2ms/step - loss: 0.4322 - accuracy: 0.8171 - val_loss: 0.4185 - val_accuracy: 0.8323\n",
            "Epoch 10/10\n",
            "2400/2400 [==============================] - 8s 3ms/step - loss: 0.4314 - accuracy: 0.8187 - val_loss: 0.4183 - val_accuracy: 0.8300\n"
          ]
        }
      ]
    },
    {
      "cell_type": "code",
      "source": [
        "import matplotlib.pyplot as pl"
      ],
      "metadata": {
        "id": "STNPMoHoZn47"
      },
      "execution_count": 25,
      "outputs": []
    },
    {
      "cell_type": "code",
      "source": [
        "history.history.keys()"
      ],
      "metadata": {
        "colab": {
          "base_uri": "https://localhost:8080/"
        },
        "id": "o2YVugi2Znlr",
        "outputId": "1d83ac13-dd46-4fb2-d140-304bf7a32aba"
      },
      "execution_count": 26,
      "outputs": [
        {
          "output_type": "execute_result",
          "data": {
            "text/plain": [
              "dict_keys(['loss', 'accuracy', 'val_loss', 'val_accuracy'])"
            ]
          },
          "metadata": {},
          "execution_count": 26
        }
      ]
    },
    {
      "cell_type": "code",
      "source": [
        "pl.figure(figsize=(15,4))\n",
        "pl.plot(history.history['loss'],label='training loss')\n",
        "pl.plot(history.history['val_loss'],label='cross val loss')\n",
        "pl.legend()\n",
        "pl.show()"
      ],
      "metadata": {
        "colab": {
          "base_uri": "https://localhost:8080/",
          "height": 353
        },
        "id": "Emxx5V2baUWA",
        "outputId": "08bc02e1-3cf5-4962-f346-fb6b2f8a0245"
      },
      "execution_count": 27,
      "outputs": [
        {
          "output_type": "display_data",
          "data": {
            "text/plain": [
              "<Figure size 1500x400 with 1 Axes>"
            ],
            "image/png": "[encoded data removed]"
          },
          "metadata": {}
        }
      ]
    },
    {
      "cell_type": "code",
      "source": [
        "pl.figure(figsize=(15,4))\n",
        "pl.plot(history.history['accuracy'],label='accuracy')\n",
        "pl.plot(history.history['val_accuracy'],label='val_accuracy')\n",
        "pl.legend()\n",
        "pl.show()"
      ],
      "metadata": {
        "colab": {
          "base_uri": "https://localhost:8080/",
          "height": 349
        },
        "id": "SlVDwDVYa9aD",
        "outputId": "3b6b3d81-1c89-4a81-cf50-8f29cc8d44bf"
      },
      "execution_count": 28,
      "outputs": [
        {
          "output_type": "display_data",
          "data": {
            "text/plain": [
              "<Figure size 1500x400 with 1 Axes>"
            ],
            "image/png": "[encoded data removed]"
          },
          "metadata": {}
        }
      ]
    },
    {
      "cell_type": "code",
      "source": [
        "p=model.predict(x_test_sc)"
      ],
      "metadata": {
        "colab": {
          "base_uri": "https://localhost:8080/"
        },
        "id": "6dO5bkssKm72",
        "outputId": "d7adfabf-a180-4eaf-9b52-fd3a47406bd2"
      },
      "execution_count": 29,
      "outputs": [
        {
          "output_type": "stream",
          "name": "stdout",
          "text": [
            "188/188 [==============================] - 0s 2ms/step\n"
          ]
        }
      ]
    },
    {
      "cell_type": "code",
      "source": [
        "from sklearn.metrics import roc_auc_score,roc_curve"
      ],
      "metadata": {
        "id": "ktW3KqvPLG3s"
      },
      "execution_count": 30,
      "outputs": []
    },
    {
      "cell_type": "code",
      "source": [
        "fpr,tpr,thr=roc_curve(y_test,p)"
      ],
      "metadata": {
        "id": "VaTSeRXELGo2"
      },
      "execution_count": 31,
      "outputs": []
    },
    {
      "cell_type": "code",
      "source": [
        "import numpy as np\n",
        "accuracy=[]\n",
        "for i in thr:\n",
        "  y_prd=np.where(p>i,1,0)\n",
        "  x=accuracy_score(y_test,y_prd)\n",
        "  accuracy.append(x)\n",
        "  d1=pd.DataFrame(thr,columns=[\"thresold\"])\n",
        "d2=pd.DataFrame(accuracy,columns=[\"accuracy_score\"])\n",
        "d=pd.concat([d1,d2],axis=1)\n",
        "d.sort_values(by='accuracy_score',ascending=False).head(2)"
      ],
      "metadata": {
        "id": "U1N7Yz8tMDPJ",
        "colab": {
          "base_uri": "https://localhost:8080/",
          "height": 112
        },
        "outputId": "aae3f2f0-c17a-4292-87df-66f0a44a9054"
      },
      "execution_count": 32,
      "outputs": [
        {
          "output_type": "execute_result",
          "data": {
            "text/plain": [
              "     thresold  accuracy_score\n",
              "221  0.477451        0.815667\n",
              "220  0.479207        0.815500"
            ],
            "text/html": [
              "\n",
              "  <div id=\"df-8de62232-ce5e-4b47-9525-ae8e19d724c0\" class=\"colab-df-container\">\n",
              "    <div>\n",
              "<style scoped>\n",
              "    .dataframe tbody tr th:only-of-type {\n",
              "        vertical-align: middle;\n",
              "    }\n",
              "\n",
              "    .dataframe tbody tr th {\n",
              "        vertical-align: top;\n",
              "    }\n",
              "\n",
              "    .dataframe thead th {\n",
              "        text-align: right;\n",
              "    }\n",
              "</style>\n",
              "<table border=\"1\" class=\"dataframe\">\n",
              "  <thead>\n",
              "    <tr style=\"text-align: right;\">\n",
              "      <th></th>\n",
              "      <th>thresold</th>\n",
              "      <th>accuracy_score</th>\n",
              "    </tr>\n",
              "  </thead>\n",
              "  <tbody>\n",
              "    <tr>\n",
              "      <th>221</th>\n",
              "      <td>0.477451</td>\n",
              "      <td>0.815667</td>\n",
              "    </tr>\n",
              "    <tr>\n",
              "      <th>220</th>\n",
              "      <td>0.479207</td>\n",
              "      <td>0.815500</td>\n",
              "    </tr>\n",
              "  </tbody>\n",
              "</table>\n",
              "</div>\n",
              "    <div class=\"colab-df-buttons\">\n",
              "\n",
              "  <div class=\"colab-df-container\">\n",
              "    <button class=\"colab-df-convert\" onclick=\"convertToInteractive('df-8de62232-ce5e-4b47-9525-ae8e19d724c0')\"\n",
              "            title=\"Convert this dataframe to an interactive table.\"\n",
              "            style=\"display:none;\">\n",
              "\n",
              "  <svg xmlns=\"http://www.w3.org/2000/svg\" height=\"24px\" viewBox=\"0 -960 960 960\">\n",
              "    <path d=\"M120-120v-720h720v720H120Zm60-500h600v-160H180v160Zm220 220h160v-160H400v160Zm0 220h160v-160H400v160ZM180-400h160v-160H180v160Zm440 0h160v-160H620v160ZM180-180h160v-160H180v160Zm440 0h160v-160H620v160Z\"/>\n",
              "  </svg>\n",
              "    </button>\n",
              "\n",
              "  <style>\n",
              "    .colab-df-container {\n",
              "      display:flex;\n",
              "      gap: 12px;\n",
              "    }\n",
              "\n",
              "    .colab-df-convert {\n",
              "      background-color: #E8F0FE;\n",
              "      border: none;\n",
              "      border-radius: 50%;\n",
              "      cursor: pointer;\n",
              "      display: none;\n",
              "      fill: #1967D2;\n",
              "      height: 32px;\n",
              "      padding: 0 0 0 0;\n",
              "      width: 32px;\n",
              "    }\n",
              "\n",
              "    .colab-df-convert:hover {\n",
              "      background-color: #E2EBFA;\n",
              "      box-shadow: 0px 1px 2px rgba(60, 64, 67, 0.3), 0px 1px 3px 1px rgba(60, 64, 67, 0.15);\n",
              "      fill: #174EA6;\n",
              "    }\n",
              "\n",
              "    .colab-df-buttons div {\n",
              "      margin-bottom: 4px;\n",
              "    }\n",
              "\n",
              "    [theme=dark] .colab-df-convert {\n",
              "      background-color: #3B4455;\n",
              "      fill: #D2E3FC;\n",
              "    }\n",
              "\n",
              "    [theme=dark] .colab-df-convert:hover {\n",
              "      background-color: #434B5C;\n",
              "      box-shadow: 0px 1px 3px 1px rgba(0, 0, 0, 0.15);\n",
              "      filter: drop-shadow(0px 1px 2px rgba(0, 0, 0, 0.3));\n",
              "      fill: #FFFFFF;\n",
              "    }\n",
              "  </style>\n",
              "\n",
              "    <script>\n",
              "      const buttonEl =\n",
              "        document.querySelector('#df-8de62232-ce5e-4b47-9525-ae8e19d724c0 button.colab-df-convert');\n",
              "      buttonEl.style.display =\n",
              "        google.colab.kernel.accessAllowed ? 'block' : 'none';\n",
              "\n",
              "      async function convertToInteractive(key) {\n",
              "        const element = document.querySelector('#df-8de62232-ce5e-4b47-9525-ae8e19d724c0');\n",
              "        const dataTable =\n",
              "          await google.colab.kernel.invokeFunction('convertToInteractive',\n",
              "                                                    [key], {});\n",
              "        if (!dataTable) return;\n",
              "\n",
              "        const docLinkHtml = 'Like what you see? Visit the ' +\n",
              "          '<a target=\"_blank\" href=https://colab.research.google.com/notebooks/data_table.ipynb>data table notebook</a>'\n",
              "          + ' to learn more about interactive tables.';\n",
              "        element.innerHTML = '';\n",
              "        dataTable['output_type'] = 'display_data';\n",
              "        await google.colab.output.renderOutput(dataTable, element);\n",
              "        const docLink = document.createElement('div');\n",
              "        docLink.innerHTML = docLinkHtml;\n",
              "        element.appendChild(docLink);\n",
              "      }\n",
              "    </script>\n",
              "  </div>\n",
              "\n",
              "\n",
              "<div id=\"df-a2c04569-6d44-460a-b9d2-62925d71d5d9\">\n",
              "  <button class=\"colab-df-quickchart\" onclick=\"quickchart('df-a2c04569-6d44-460a-b9d2-62925d71d5d9')\"\n",
              "            title=\"Suggest charts\"\n",
              "            style=\"display:none;\">\n",
              "\n",
              "<svg xmlns=\"http://www.w3.org/2000/svg\" height=\"24px\"viewBox=\"0 0 24 24\"\n",
              "     width=\"24px\">\n",
              "    <g>\n",
              "        <path d=\"M19 3H5c-1.1 0-2 .9-2 2v14c0 1.1.9 2 2 2h14c1.1 0 2-.9 2-2V5c0-1.1-.9-2-2-2zM9 17H7v-7h2v7zm4 0h-2V7h2v10zm4 0h-2v-4h2v4z\"/>\n",
              "    </g>\n",
              "</svg>\n",
              "  </button>\n",
              "\n",
              "<style>\n",
              "  .colab-df-quickchart {\n",
              "      --bg-color: #E8F0FE;\n",
              "      --fill-color: #1967D2;\n",
              "      --hover-bg-color: #E2EBFA;\n",
              "      --hover-fill-color: #174EA6;\n",
              "      --disabled-fill-color: #AAA;\n",
              "      --disabled-bg-color: #DDD;\n",
              "  }\n",
              "\n",
              "  [theme=dark] .colab-df-quickchart {\n",
              "      --bg-color: #3B4455;\n",
              "      --fill-color: #D2E3FC;\n",
              "      --hover-bg-color: #434B5C;\n",
              "      --hover-fill-color: #FFFFFF;\n",
              "      --disabled-bg-color: #3B4455;\n",
              "      --disabled-fill-color: #666;\n",
              "  }\n",
              "\n",
              "  .colab-df-quickchart {\n",
              "    background-color: var(--bg-color);\n",
              "    border: none;\n",
              "    border-radius: 50%;\n",
              "    cursor: pointer;\n",
              "    display: none;\n",
              "    fill: var(--fill-color);\n",
              "    height: 32px;\n",
              "    padding: 0;\n",
              "    width: 32px;\n",
              "  }\n",
              "\n",
              "  .colab-df-quickchart:hover {\n",
              "    background-color: var(--hover-bg-color);\n",
              "    box-shadow: 0 1px 2px rgba(60, 64, 67, 0.3), 0 1px 3px 1px rgba(60, 64, 67, 0.15);\n",
              "    fill: var(--button-hover-fill-color);\n",
              "  }\n",
              "\n",
              "  .colab-df-quickchart-complete:disabled,\n",
              "  .colab-df-quickchart-complete:disabled:hover {\n",
              "    background-color: var(--disabled-bg-color);\n",
              "    fill: var(--disabled-fill-color);\n",
              "    box-shadow: none;\n",
              "  }\n",
              "\n",
              "  .colab-df-spinner {\n",
              "    border: 2px solid var(--fill-color);\n",
              "    border-color: transparent;\n",
              "    border-bottom-color: var(--fill-color);\n",
              "    animation:\n",
              "      spin 1s steps(1) infinite;\n",
              "  }\n",
              "\n",
              "  @keyframes spin {\n",
              "    0% {\n",
              "      border-color: transparent;\n",
              "      border-bottom-color: var(--fill-color);\n",
              "      border-left-color: var(--fill-color);\n",
              "    }\n",
              "    20% {\n",
              "      border-color: transparent;\n",
              "      border-left-color: var(--fill-color);\n",
              "      border-top-color: var(--fill-color);\n",
              "    }\n",
              "    30% {\n",
              "      border-color: transparent;\n",
              "      border-left-color: var(--fill-color);\n",
              "      border-top-color: var(--fill-color);\n",
              "      border-right-color: var(--fill-color);\n",
              "    }\n",
              "    40% {\n",
              "      border-color: transparent;\n",
              "      border-right-color: var(--fill-color);\n",
              "      border-top-color: var(--fill-color);\n",
              "    }\n",
              "    60% {\n",
              "      border-color: transparent;\n",
              "      border-right-color: var(--fill-color);\n",
              "    }\n",
              "    80% {\n",
              "      border-color: transparent;\n",
              "      border-right-color: var(--fill-color);\n",
              "      border-bottom-color: var(--fill-color);\n",
              "    }\n",
              "    90% {\n",
              "      border-color: transparent;\n",
              "      border-bottom-color: var(--fill-color);\n",
              "    }\n",
              "  }\n",
              "</style>\n",
              "\n",
              "  <script>\n",
              "    async function quickchart(key) {\n",
              "      const quickchartButtonEl =\n",
              "        document.querySelector('#' + key + ' button');\n",
              "      quickchartButtonEl.disabled = true;  // To prevent multiple clicks.\n",
              "      quickchartButtonEl.classList.add('colab-df-spinner');\n",
              "      try {\n",
              "        const charts = await google.colab.kernel.invokeFunction(\n",
              "            'suggestCharts', [key], {});\n",
              "      } catch (error) {\n",
              "        console.error('Error during call to suggestCharts:', error);\n",
              "      }\n",
              "      quickchartButtonEl.classList.remove('colab-df-spinner');\n",
              "      quickchartButtonEl.classList.add('colab-df-quickchart-complete');\n",
              "    }\n",
              "    (() => {\n",
              "      let quickchartButtonEl =\n",
              "        document.querySelector('#df-a2c04569-6d44-460a-b9d2-62925d71d5d9 button');\n",
              "      quickchartButtonEl.style.display =\n",
              "        google.colab.kernel.accessAllowed ? 'block' : 'none';\n",
              "    })();\n",
              "  </script>\n",
              "</div>\n",
              "\n",
              "    </div>\n",
              "  </div>\n"
            ],
            "application/vnd.google.colaboratory.intrinsic+json": {
              "type": "dataframe",
              "summary": "{\n  \"name\": \"d\",\n  \"rows\": 2,\n  \"fields\": [\n    {\n      \"column\": \"thresold\",\n      \"properties\": {\n        \"dtype\": \"float32\",\n        \"num_unique_values\": 2,\n        \"samples\": [\n          0.479206919670105,\n          0.47745075821876526\n        ],\n        \"semantic_type\": \"\",\n        \"description\": \"\"\n      }\n    },\n    {\n      \"column\": \"accuracy_score\",\n      \"properties\": {\n        \"dtype\": \"number\",\n        \"std\": 0.00011785113019774494,\n        \"min\": 0.8155,\n        \"max\": 0.8156666666666667,\n        \"num_unique_values\": 2,\n        \"samples\": [\n          0.8155,\n          0.8156666666666667\n        ],\n        \"semantic_type\": \"\",\n        \"description\": \"\"\n      }\n    }\n  ]\n}"
            }
          },
          "metadata": {},
          "execution_count": 32
        }
      ]
    },
    {
      "cell_type": "code",
      "source": [
        "m=d['thresold'][1]"
      ],
      "metadata": {
        "id": "D4wKlMQY8cbu"
      },
      "execution_count": 33,
      "outputs": []
    },
    {
      "cell_type": "code",
      "source": [
        "m"
      ],
      "metadata": {
        "colab": {
          "base_uri": "https://localhost:8080/"
        },
        "id": "6da4wn8q8rAu",
        "outputId": "07a4b6b4-1a5d-4cb3-d4c8-0e7600b500c0"
      },
      "execution_count": 34,
      "outputs": [
        {
          "output_type": "execute_result",
          "data": {
            "text/plain": [
              "0.6965924"
            ]
          },
          "metadata": {},
          "execution_count": 34
        }
      ]
    },
    {
      "cell_type": "code",
      "source": [
        "p=np.where(p>m,1,0)"
      ],
      "metadata": {
        "id": "nu9E1GDtM8Hu"
      },
      "execution_count": 35,
      "outputs": []
    },
    {
      "cell_type": "code",
      "source": [
        "accuracy_score(y_test,p)"
      ],
      "metadata": {
        "colab": {
          "base_uri": "https://localhost:8080/"
        },
        "id": "AQBxSc-5Kz1F",
        "outputId": "52e8fc94-bdb0-4d15-ad4a-96a3dd76687e"
      },
      "execution_count": 36,
      "outputs": [
        {
          "output_type": "execute_result",
          "data": {
            "text/plain": [
              "0.7753333333333333"
            ]
          },
          "metadata": {},
          "execution_count": 36
        }
      ]
    },
    {
      "cell_type": "code",
      "source": [
        "from keras.callbacks import EarlyStopping"
      ],
      "metadata": {
        "id": "NV_jQT99K8yr"
      },
      "execution_count": 37,
      "outputs": []
    },
    {
      "cell_type": "code",
      "source": [
        " z=EarlyStopping(monitor=\"val_loss\",\n",
        "    min_delta=0.001,\n",
        "    patience=5,\n",
        "    verbose=0,\n",
        "    mode=\"auto\",\n",
        "    baseline=None,\n",
        "    restore_best_weights=True,\n",
        "    start_from_epoch=0)"
      ],
      "metadata": {
        "id": "-056PEesWvGV"
      },
      "execution_count": 38,
      "outputs": []
    },
    {
      "cell_type": "code",
      "source": [
        "history=model.fit(x_sc,y,epochs=100,batch_size=100,validation_split=0.2,callbacks=z)"
      ],
      "metadata": {
        "colab": {
          "base_uri": "https://localhost:8080/"
        },
        "id": "WUuFUitwZCw9",
        "outputId": "62734a47-8a06-4954-f348-4d06b971a8a4"
      },
      "execution_count": 39,
      "outputs": [
        {
          "output_type": "stream",
          "name": "stdout",
          "text": [
            "Epoch 1/100\n",
            "240/240 [==============================] - 2s 4ms/step - loss: 0.4270 - accuracy: 0.8189 - val_loss: 0.4140 - val_accuracy: 0.8307\n",
            "Epoch 2/100\n",
            "240/240 [==============================] - 1s 3ms/step - loss: 0.4253 - accuracy: 0.8200 - val_loss: 0.4136 - val_accuracy: 0.8318\n",
            "Epoch 3/100\n",
            "240/240 [==============================] - 1s 3ms/step - loss: 0.4249 - accuracy: 0.8194 - val_loss: 0.4138 - val_accuracy: 0.8323\n",
            "Epoch 4/100\n",
            "240/240 [==============================] - 1s 3ms/step - loss: 0.4244 - accuracy: 0.8204 - val_loss: 0.4137 - val_accuracy: 0.8322\n",
            "Epoch 5/100\n",
            "240/240 [==============================] - 1s 3ms/step - loss: 0.4242 - accuracy: 0.8196 - val_loss: 0.4135 - val_accuracy: 0.8323\n",
            "Epoch 6/100\n",
            "240/240 [==============================] - 1s 2ms/step - loss: 0.4239 - accuracy: 0.8205 - val_loss: 0.4136 - val_accuracy: 0.8323\n"
          ]
        }
      ]
    },
    {
      "cell_type": "code",
      "source": [
        "pl.figure(figsize=(15,4))\n",
        "pl.plot(history.history['loss'],label='training loss')\n",
        "pl.plot(history.history['val_loss'],label='cross val loss')\n",
        "pl.legend()\n",
        "pl.show()"
      ],
      "metadata": {
        "colab": {
          "base_uri": "https://localhost:8080/",
          "height": 347
        },
        "id": "Ekw6RtaWZuxM",
        "outputId": "fd918df5-774c-4e86-e261-78b1812e0699"
      },
      "execution_count": 40,
      "outputs": [
        {
          "output_type": "display_data",
          "data": {
            "text/plain": [
              "<Figure size 1500x400 with 1 Axes>"
            ],
            "image/png": "[encoded data removed]"
          },
          "metadata": {}
        }
      ]
    },
    {
      "cell_type": "code",
      "source": [
        "pl.figure(figsize=(15,4))\n",
        "pl.plot(history.history['accuracy'],label='accuracy')\n",
        "pl.plot(history.history['val_accuracy'],label='val_accuracy')\n",
        "pl.legend()\n",
        "pl.show()"
      ],
      "metadata": {
        "colab": {
          "base_uri": "https://localhost:8080/",
          "height": 347
        },
        "id": "q-Vfa1vAZ79j",
        "outputId": "6e379922-5bb2-472a-eea8-38a15060413b"
      },
      "execution_count": 41,
      "outputs": [
        {
          "output_type": "display_data",
          "data": {
            "text/plain": [
              "<Figure size 1500x400 with 1 Axes>"
            ],
            "image/png": "[encoded data removed]"
          },
          "metadata": {}
        }
      ]
    },
    {
      "source": [
        "from keras.layers import Dropout"
      ],
      "cell_type": "code",
      "metadata": {
        "id": "jems_8Inaepf"
      },
      "execution_count": 42,
      "outputs": []
    },
    {
      "cell_type": "code",
      "source": [
        "model.add(Dense(20,activation='relu',input_dim=24))\n",
        "model.add(Dropout(.4))\n",
        "model.add(Dense(10,activation='relu',input_dim=20))\n",
        "model.add(Dropout(.3))\n",
        "model.add(Dense(5,activation='relu',input_dim=10))\n",
        "model.add(Dropout(.2))\n",
        "model.add(Dense(3,activation='relu',input_dim=5))\n",
        "model.add(Dense(1,activation='sigmoid'))"
      ],
      "metadata": {
        "id": "GkrZEit3aixQ"
      },
      "execution_count": 43,
      "outputs": []
    },
    {
      "cell_type": "code",
      "source": [
        "model.compile(loss='binary_crossentropy',optimizer='Adam',metrics=[\"accuracy\"])"
      ],
      "metadata": {
        "id": "bGc1-FWNairp"
      },
      "execution_count": 44,
      "outputs": []
    },
    {
      "cell_type": "code",
      "source": [
        "history=model.fit(x_sc,y,epochs=100,batch_size=100,validation_split=0.2,callbacks=z)"
      ],
      "metadata": {
        "colab": {
          "base_uri": "https://localhost:8080/"
        },
        "id": "GjStWcdDainf",
        "outputId": "5d84502f-85ee-4d93-da06-9f4d83336ca4"
      },
      "execution_count": 45,
      "outputs": [
        {
          "output_type": "stream",
          "name": "stdout",
          "text": [
            "Epoch 1/100\n",
            "240/240 [==============================] - 4s 7ms/step - loss: 0.5790 - accuracy: 0.7759 - val_loss: 0.5205 - val_accuracy: 0.7890\n",
            "Epoch 2/100\n",
            "240/240 [==============================] - 2s 8ms/step - loss: 0.5439 - accuracy: 0.7763 - val_loss: 0.5193 - val_accuracy: 0.7890\n",
            "Epoch 3/100\n",
            "240/240 [==============================] - 1s 4ms/step - loss: 0.5355 - accuracy: 0.7763 - val_loss: 0.5164 - val_accuracy: 0.7890\n",
            "Epoch 4/100\n",
            "240/240 [==============================] - 1s 5ms/step - loss: 0.5349 - accuracy: 0.7763 - val_loss: 0.5169 - val_accuracy: 0.7890\n",
            "Epoch 5/100\n",
            "240/240 [==============================] - 1s 5ms/step - loss: 0.5341 - accuracy: 0.7763 - val_loss: 0.5170 - val_accuracy: 0.7890\n",
            "Epoch 6/100\n",
            "240/240 [==============================] - 1s 3ms/step - loss: 0.5332 - accuracy: 0.7763 - val_loss: 0.5157 - val_accuracy: 0.7890\n",
            "Epoch 7/100\n",
            "240/240 [==============================] - 1s 4ms/step - loss: 0.5328 - accuracy: 0.7763 - val_loss: 0.5162 - val_accuracy: 0.7890\n",
            "Epoch 8/100\n",
            "240/240 [==============================] - 1s 4ms/step - loss: 0.5329 - accuracy: 0.7763 - val_loss: 0.5162 - val_accuracy: 0.7890\n"
          ]
        }
      ]
    },
    {
      "cell_type": "code",
      "source": [
        "pl.figure(figsize=(15,4))\n",
        "pl.plot(history.history['accuracy'],label='accuracy')\n",
        "pl.plot(history.history['val_accuracy'],label='val_accuracy')\n",
        "pl.legend()\n",
        "pl.show()"
      ],
      "metadata": {
        "colab": {
          "base_uri": "https://localhost:8080/",
          "height": 347
        },
        "id": "81-_cgZ8ailT",
        "outputId": "fd81d9c2-954c-4c40-8fc2-1530273a1a24"
      },
      "execution_count": 46,
      "outputs": [
        {
          "output_type": "display_data",
          "data": {
            "text/plain": [
              "<Figure size 1500x400 with 1 Axes>"
            ],
            "image/png": "[encoded data removed]"
          },
          "metadata": {}
        }
      ]
    },
    {
      "cell_type": "code",
      "source": [
        "from keras.regularizers import l2"
      ],
      "metadata": {
        "id": "_zHf3vXMaii_"
      },
      "execution_count": 47,
      "outputs": []
    },
    {
      "cell_type": "code",
      "source": [
        "model.add(Dense(20,activation='relu',input_dim=24,kernel_regularizer=l2(.01)))\n",
        "model.add(Dropout(.4))\n",
        "model.add(Dense(10,activation='relu',input_dim=20,kernel_regularizer=l2(.01)))\n",
        "model.add(Dropout(.3))\n",
        "model.add(Dense(5,activation='relu',input_dim=10,kernel_regularizer=l2(.01)))\n",
        "model.add(Dropout(.2))\n",
        "model.add(Dense(3,activation='relu',input_dim=5,kernel_regularizer=l2(.01)))\n",
        "model.add(Dense(1,activation='sigmoid'))"
      ],
      "metadata": {
        "id": "dw6oAOYzaigS"
      },
      "execution_count": 48,
      "outputs": []
    },
    {
      "cell_type": "code",
      "source": [
        "model.compile(loss='binary_crossentropy',optimizer='Adam',metrics=[\"accuracy\"])\n",
        "history=model.fit(x_sc,y,epochs=100,batch_size=100,validation_split=0.2,callbacks=z)"
      ],
      "metadata": {
        "colab": {
          "base_uri": "https://localhost:8080/"
        },
        "id": "E4hGOtIeaid9",
        "outputId": "ae0bbfca-4dec-4f24-c7fe-fe03e10b8b39"
      },
      "execution_count": 49,
      "outputs": [
        {
          "output_type": "stream",
          "name": "stdout",
          "text": [
            "Epoch 1/100\n",
            "240/240 [==============================] - 6s 10ms/step - loss: 0.7133 - accuracy: 0.7763 - val_loss: 0.5937 - val_accuracy: 0.7890\n",
            "Epoch 2/100\n",
            "240/240 [==============================] - 1s 5ms/step - loss: 0.5796 - accuracy: 0.7763 - val_loss: 0.5405 - val_accuracy: 0.7890\n",
            "Epoch 3/100\n",
            "240/240 [==============================] - 1s 5ms/step - loss: 0.5493 - accuracy: 0.7763 - val_loss: 0.5255 - val_accuracy: 0.7890\n",
            "Epoch 4/100\n",
            "240/240 [==============================] - 1s 5ms/step - loss: 0.5394 - accuracy: 0.7763 - val_loss: 0.5206 - val_accuracy: 0.7890\n",
            "Epoch 5/100\n",
            "240/240 [==============================] - 1s 5ms/step - loss: 0.5356 - accuracy: 0.7763 - val_loss: 0.5189 - val_accuracy: 0.7890\n",
            "Epoch 6/100\n",
            "240/240 [==============================] - 1s 5ms/step - loss: 0.5339 - accuracy: 0.7763 - val_loss: 0.5172 - val_accuracy: 0.7890\n",
            "Epoch 7/100\n",
            "240/240 [==============================] - 1s 4ms/step - loss: 0.5327 - accuracy: 0.7763 - val_loss: 0.5171 - val_accuracy: 0.7890\n",
            "Epoch 8/100\n",
            "240/240 [==============================] - 1s 4ms/step - loss: 0.5322 - accuracy: 0.7763 - val_loss: 0.5171 - val_accuracy: 0.7890\n",
            "Epoch 9/100\n",
            "240/240 [==============================] - 1s 4ms/step - loss: 0.5322 - accuracy: 0.7763 - val_loss: 0.5162 - val_accuracy: 0.7890\n",
            "Epoch 10/100\n",
            "240/240 [==============================] - 1s 5ms/step - loss: 0.5319 - accuracy: 0.7763 - val_loss: 0.5163 - val_accuracy: 0.7890\n",
            "Epoch 11/100\n",
            "240/240 [==============================] - 2s 9ms/step - loss: 0.5317 - accuracy: 0.7763 - val_loss: 0.5157 - val_accuracy: 0.7890\n",
            "Epoch 12/100\n",
            "240/240 [==============================] - 1s 6ms/step - loss: 0.5318 - accuracy: 0.7763 - val_loss: 0.5160 - val_accuracy: 0.7890\n",
            "Epoch 13/100\n",
            "240/240 [==============================] - 1s 4ms/step - loss: 0.5318 - accuracy: 0.7763 - val_loss: 0.5162 - val_accuracy: 0.7890\n",
            "Epoch 14/100\n",
            "240/240 [==============================] - 1s 4ms/step - loss: 0.5317 - accuracy: 0.7763 - val_loss: 0.5158 - val_accuracy: 0.7890\n"
          ]
        }
      ]
    },
    {
      "cell_type": "code",
      "source": [
        "pl.figure(figsize=(15,4))\n",
        "pl.plot(history.history['accuracy'],label='accuracy')\n",
        "pl.plot(history.history['val_accuracy'],label='val_accuracy')\n",
        "pl.legend()\n",
        "pl.show()"
      ],
      "metadata": {
        "colab": {
          "base_uri": "https://localhost:8080/",
          "height": 347
        },
        "id": "aTaYMKYTaibu",
        "outputId": "351bc1a3-6451-4cfe-e156-a1a1d5fbea5f"
      },
      "execution_count": 50,
      "outputs": [
        {
          "output_type": "display_data",
          "data": {
            "text/plain": [
              "<Figure size 1500x400 with 1 Axes>"
            ],
            "image/png": "[encoded data removed]"
          },
          "metadata": {}
        }
      ]
    },
    {
      "cell_type": "code",
      "source": [
        "model.add(Dense(20,activation='relu',input_dim=24,kernel_regularizer=l2(.001),\n",
        "                kernel_initializer='glorot_normal'))\n",
        "model.add(Dropout(.4))\n",
        "model.add(Dense(10,activation='relu',input_dim=20,kernel_regularizer=l2(.001)))\n",
        "model.add(Dropout(.3))\n",
        "model.add(Dense(5,activation='relu',input_dim=10,kernel_regularizer=l2(.001)))\n",
        "model.add(Dropout(.2))\n",
        "model.add(Dense(3,activation='relu',input_dim=5))\n",
        "model.add(Dense(1,activation='sigmoid'))"
      ],
      "metadata": {
        "id": "alG8MCciaiZG"
      },
      "execution_count": 51,
      "outputs": []
    },
    {
      "cell_type": "code",
      "source": [
        "model.compile(loss='binary_crossentropy',optimizer='Adam',metrics=[\"accuracy\"])\n",
        "history=model.fit(x_sc,y,epochs=100,batch_size=100,validation_split=0.2,callbacks=z)"
      ],
      "metadata": {
        "colab": {
          "base_uri": "https://localhost:8080/"
        },
        "id": "_eCeNAkRaiWp",
        "outputId": "a90ad8ee-720f-46dd-c81c-1b42e1639100"
      },
      "execution_count": 52,
      "outputs": [
        {
          "output_type": "stream",
          "name": "stdout",
          "text": [
            "Epoch 1/100\n",
            "240/240 [==============================] - 6s 7ms/step - loss: 0.5949 - accuracy: 0.7761 - val_loss: 0.5289 - val_accuracy: 0.7890\n",
            "Epoch 2/100\n",
            "240/240 [==============================] - 1s 6ms/step - loss: 0.5505 - accuracy: 0.7763 - val_loss: 0.5236 - val_accuracy: 0.7890\n",
            "Epoch 3/100\n",
            "240/240 [==============================] - 2s 9ms/step - loss: 0.5425 - accuracy: 0.7763 - val_loss: 0.5208 - val_accuracy: 0.7890\n",
            "Epoch 4/100\n",
            "240/240 [==============================] - 1s 5ms/step - loss: 0.5391 - accuracy: 0.7763 - val_loss: 0.5198 - val_accuracy: 0.7890\n",
            "Epoch 5/100\n",
            "240/240 [==============================] - 1s 6ms/step - loss: 0.5372 - accuracy: 0.7763 - val_loss: 0.5180 - val_accuracy: 0.7890\n",
            "Epoch 6/100\n",
            "240/240 [==============================] - 1s 5ms/step - loss: 0.5357 - accuracy: 0.7763 - val_loss: 0.5177 - val_accuracy: 0.7890\n",
            "Epoch 7/100\n",
            "240/240 [==============================] - 1s 5ms/step - loss: 0.5340 - accuracy: 0.7763 - val_loss: 0.5173 - val_accuracy: 0.7890\n",
            "Epoch 8/100\n",
            "240/240 [==============================] - 1s 5ms/step - loss: 0.5334 - accuracy: 0.7763 - val_loss: 0.5167 - val_accuracy: 0.7890\n",
            "Epoch 9/100\n",
            "240/240 [==============================] - 1s 5ms/step - loss: 0.5333 - accuracy: 0.7763 - val_loss: 0.5174 - val_accuracy: 0.7890\n",
            "Epoch 10/100\n",
            "240/240 [==============================] - 1s 5ms/step - loss: 0.5332 - accuracy: 0.7763 - val_loss: 0.5172 - val_accuracy: 0.7890\n",
            "Epoch 11/100\n",
            "240/240 [==============================] - 1s 5ms/step - loss: 0.5328 - accuracy: 0.7763 - val_loss: 0.5173 - val_accuracy: 0.7890\n",
            "Epoch 12/100\n",
            "240/240 [==============================] - 2s 9ms/step - loss: 0.5327 - accuracy: 0.7763 - val_loss: 0.5168 - val_accuracy: 0.7890\n",
            "Epoch 13/100\n",
            "240/240 [==============================] - 2s 7ms/step - loss: 0.5324 - accuracy: 0.7763 - val_loss: 0.5161 - val_accuracy: 0.7890\n"
          ]
        }
      ]
    },
    {
      "cell_type": "code",
      "source": [
        "pl.figure(figsize=(15,4))\n",
        "pl.plot(history.history['accuracy'],label='accuracy')\n",
        "pl.plot(history.history['val_accuracy'],label='val_accuracy')\n",
        "pl.legend()\n",
        "pl.show()"
      ],
      "metadata": {
        "colab": {
          "base_uri": "https://localhost:8080/",
          "height": 347
        },
        "id": "d9NcRsuCaiUb",
        "outputId": "146ba926-c63f-41e1-a411-dffcd7a7c654"
      },
      "execution_count": 53,
      "outputs": [
        {
          "output_type": "display_data",
          "data": {
            "text/plain": [
              "<Figure size 1500x400 with 1 Axes>"
            ],
            "image/png": "[encoded data removed]"
          },
          "metadata": {}
        }
      ]
    },
    {
      "cell_type": "code",
      "source": [
        "model.add(Dense(20,activation='relu',input_dim=24,kernel_regularizer=l2(.01),\n",
        "                kernel_initializer='glorot_uniform'))\n",
        "model.add(Dropout(.4))\n",
        "model.add(Dense(10,activation='relu',input_dim=20,kernel_regularizer=l2(.01)))\n",
        "model.add(Dropout(.3))\n",
        "model.add(Dense(5,activation='relu',input_dim=10,kernel_regularizer=l2(.01)))\n",
        "model.add(Dropout(.2))\n",
        "model.add(Dense(3,activation='relu',input_dim=5,kernel_regularizer=l2(.01)))\n",
        "model.add(Dense(1,activation='sigmoid'))\n",
        "model.compile(loss='binary_crossentropy',optimizer='Adam',metrics=[\"accuracy\"])\n",
        "history=model.fit(x_sc,y,epochs=100,batch_size=100,validation_split=0.2,callbacks=z)"
      ],
      "metadata": {
        "colab": {
          "base_uri": "https://localhost:8080/"
        },
        "id": "j3VFb2s1aiSK",
        "outputId": "03698d87-aad7-47b8-dc9c-49903acd4520"
      },
      "execution_count": 54,
      "outputs": [
        {
          "output_type": "stream",
          "name": "stdout",
          "text": [
            "Epoch 1/100\n",
            "240/240 [==============================] - 8s 10ms/step - loss: 0.7517 - accuracy: 0.7753 - val_loss: 0.6067 - val_accuracy: 0.7890\n",
            "Epoch 2/100\n",
            "240/240 [==============================] - 2s 7ms/step - loss: 0.5918 - accuracy: 0.7763 - val_loss: 0.5458 - val_accuracy: 0.7890\n",
            "Epoch 3/100\n",
            "240/240 [==============================] - 2s 10ms/step - loss: 0.5544 - accuracy: 0.7763 - val_loss: 0.5299 - val_accuracy: 0.7890\n",
            "Epoch 4/100\n",
            "240/240 [==============================] - 2s 7ms/step - loss: 0.5418 - accuracy: 0.7763 - val_loss: 0.5218 - val_accuracy: 0.7890\n",
            "Epoch 5/100\n",
            "240/240 [==============================] - 1s 6ms/step - loss: 0.5372 - accuracy: 0.7763 - val_loss: 0.5192 - val_accuracy: 0.7890\n",
            "Epoch 6/100\n",
            "240/240 [==============================] - 1s 6ms/step - loss: 0.5344 - accuracy: 0.7763 - val_loss: 0.5174 - val_accuracy: 0.7890\n",
            "Epoch 7/100\n",
            "240/240 [==============================] - 2s 6ms/step - loss: 0.5327 - accuracy: 0.7763 - val_loss: 0.5168 - val_accuracy: 0.7890\n",
            "Epoch 8/100\n",
            "240/240 [==============================] - 1s 5ms/step - loss: 0.5325 - accuracy: 0.7763 - val_loss: 0.5164 - val_accuracy: 0.7890\n",
            "Epoch 9/100\n",
            "240/240 [==============================] - 1s 6ms/step - loss: 0.5320 - accuracy: 0.7763 - val_loss: 0.5163 - val_accuracy: 0.7890\n",
            "Epoch 10/100\n",
            "240/240 [==============================] - 1s 6ms/step - loss: 0.5317 - accuracy: 0.7763 - val_loss: 0.5158 - val_accuracy: 0.7890\n",
            "Epoch 11/100\n",
            "240/240 [==============================] - 2s 9ms/step - loss: 0.5318 - accuracy: 0.7763 - val_loss: 0.5157 - val_accuracy: 0.7890\n",
            "Epoch 12/100\n",
            "240/240 [==============================] - 2s 10ms/step - loss: 0.5317 - accuracy: 0.7763 - val_loss: 0.5162 - val_accuracy: 0.7890\n",
            "Epoch 13/100\n",
            "240/240 [==============================] - 1s 5ms/step - loss: 0.5317 - accuracy: 0.7763 - val_loss: 0.5158 - val_accuracy: 0.7890\n"
          ]
        }
      ]
    },
    {
      "cell_type": "code",
      "source": [
        "from keras.layers import BatchNormalization"
      ],
      "metadata": {
        "id": "nYduVPwV0fMd"
      },
      "execution_count": 55,
      "outputs": []
    },
    {
      "cell_type": "code",
      "source": [
        "model.add(Dense(20,activation='relu',input_dim=24))\n",
        "model.add(BatchNormalization())\n",
        "\n",
        "model.add(Dense(10,activation='relu',input_dim=20))\n",
        "model.add(BatchNormalization())\n",
        "model.add(Dropout(.2))\n",
        "\n",
        "model.add(Dense(5,activation='relu',input_dim=10))\n",
        "model.add(BatchNormalization())\n",
        "\n",
        "model.add(Dense(3,activation='relu',input_dim=5))\n",
        "model.add(BatchNormalization())\n",
        "model.add(Dense(1,activation='sigmoid'))"
      ],
      "metadata": {
        "id": "dqXGKrpbaiPu"
      },
      "execution_count": 56,
      "outputs": []
    },
    {
      "cell_type": "code",
      "source": [
        "model.compile(loss='binary_crossentropy',optimizer='Adam',metrics=[\"accuracy\"])\n",
        "history=model.fit(x_sc,y,epochs=100,batch_size=100,validation_split=0.2,callbacks=z)"
      ],
      "metadata": {
        "colab": {
          "base_uri": "https://localhost:8080/"
        },
        "id": "Y7PU4d0kaiNL",
        "outputId": "aba15f02-1404-4e5e-9caa-18246d6bec26"
      },
      "execution_count": 57,
      "outputs": [
        {
          "output_type": "stream",
          "name": "stdout",
          "text": [
            "Epoch 1/100\n",
            "240/240 [==============================] - 12s 17ms/step - loss: 0.6965 - accuracy: 0.6502 - val_loss: 0.5654 - val_accuracy: 0.7890\n",
            "Epoch 2/100\n",
            "240/240 [==============================] - 2s 8ms/step - loss: 0.5608 - accuracy: 0.7629 - val_loss: 0.5229 - val_accuracy: 0.7890\n",
            "Epoch 3/100\n",
            "240/240 [==============================] - 2s 9ms/step - loss: 0.5367 - accuracy: 0.7761 - val_loss: 0.5163 - val_accuracy: 0.7890\n",
            "Epoch 4/100\n",
            "240/240 [==============================] - 2s 8ms/step - loss: 0.5334 - accuracy: 0.7763 - val_loss: 0.5162 - val_accuracy: 0.7890\n",
            "Epoch 5/100\n",
            "240/240 [==============================] - 2s 7ms/step - loss: 0.5335 - accuracy: 0.7763 - val_loss: 0.6920 - val_accuracy: 0.7890\n",
            "Epoch 6/100\n",
            "240/240 [==============================] - 2s 9ms/step - loss: 0.5324 - accuracy: 0.7763 - val_loss: 0.5159 - val_accuracy: 0.7890\n",
            "Epoch 7/100\n",
            "240/240 [==============================] - 3s 12ms/step - loss: 0.5332 - accuracy: 0.7763 - val_loss: 0.5232 - val_accuracy: 0.7890\n",
            "Epoch 8/100\n",
            "240/240 [==============================] - 2s 9ms/step - loss: 0.5326 - accuracy: 0.7763 - val_loss: 0.8228 - val_accuracy: 0.2110\n"
          ]
        }
      ]
    },
    {
      "cell_type": "code",
      "source": [
        "pl.figure(figsize=(15,4))\n",
        "pl.plot(history.history['accuracy'],label='accuracy')\n",
        "pl.plot(history.history['val_accuracy'],label='val_accuracy')\n",
        "pl.legend()\n",
        "pl.show()"
      ],
      "metadata": {
        "colab": {
          "base_uri": "https://localhost:8080/",
          "height": 351
        },
        "id": "2K7BzIi9aiKp",
        "outputId": "db341d5d-ff30-4867-9cc8-8043ee497c1d"
      },
      "execution_count": 58,
      "outputs": [
        {
          "output_type": "display_data",
          "data": {
            "text/plain": [
              "<Figure size 1500x400 with 1 Axes>"
            ],
            "image/png": "[encoded data removed]"
          },
          "metadata": {}
        }
      ]
    },
    {
      "cell_type": "code",
      "source": [
        "#hyper paramter tuning"
      ],
      "metadata": {
        "id": "_N_U8lq3aiIG"
      },
      "execution_count": 59,
      "outputs": []
    },
    {
      "cell_type": "code",
      "source": [
        "!pip install optuna"
      ],
      "metadata": {
        "colab": {
          "base_uri": "https://localhost:8080/"
        },
        "id": "OyK9XOXDaiFi",
        "outputId": "8531344b-59ab-4c09-96cd-0c4cc9d7f9e5"
      },
      "execution_count": 60,
      "outputs": [
        {
          "output_type": "stream",
          "name": "stdout",
          "text": [
            "Collecting optuna\n",
            "  Downloading optuna-3.6.1-py3-none-any.whl (380 kB)\n",
            "\u001b[2K     \u001b[90m━━━━━━━━━━━━━━━━━━━━━━━━━━━━━━━━━━━━━━━━\u001b[0m \u001b[32m380.1/380.1 kB\u001b[0m \u001b[31m8.0 MB/s\u001b[0m eta \u001b[36m0:00:00\u001b[0m\n",
            "\u001b[?25hCollecting alembic>=1.5.0 (from optuna)\n",
            "  Downloading alembic-1.13.2-py3-none-any.whl (232 kB)\n",
            "\u001b[2K     \u001b[90m━━━━━━━━━━━━━━━━━━━━━━━━━━━━━━━━━━━━━━━━\u001b[0m \u001b[32m233.0/233.0 kB\u001b[0m \u001b[31m22.9 MB/s\u001b[0m eta \u001b[36m0:00:00\u001b[0m\n",
            "\u001b[?25hCollecting colorlog (from optuna)\n",
            "  Downloading colorlog-6.8.2-py3-none-any.whl (11 kB)\n",
            "Requirement already satisfied: numpy in /usr/local/lib/python3.10/dist-packages (from optuna) (1.25.2)\n",
            "Requirement already satisfied: packaging>=20.0 in /usr/local/lib/python3.10/dist-packages (from optuna) (24.1)\n",
            "Requirement already satisfied: sqlalchemy>=1.3.0 in /usr/local/lib/python3.10/dist-packages (from optuna) (2.0.31)\n",
            "Requirement already satisfied: tqdm in /usr/local/lib/python3.10/dist-packages (from optuna) (4.66.4)\n",
            "Requirement already satisfied: PyYAML in /usr/local/lib/python3.10/dist-packages (from optuna) (6.0.1)\n",
            "Collecting Mako (from alembic>=1.5.0->optuna)\n",
            "  Downloading Mako-1.3.5-py3-none-any.whl (78 kB)\n",
            "\u001b[2K     \u001b[90m━━━━━━━━━━━━━━━━━━━━━━━━━━━━━━━━━━━━━━━━\u001b[0m \u001b[32m78.6/78.6 kB\u001b[0m \u001b[31m7.1 MB/s\u001b[0m eta \u001b[36m0:00:00\u001b[0m\n",
            "\u001b[?25hRequirement already satisfied: typing-extensions>=4 in /usr/local/lib/python3.10/dist-packages (from alembic>=1.5.0->optuna) (4.12.2)\n",
            "Requirement already satisfied: greenlet!=0.4.17 in /usr/local/lib/python3.10/dist-packages (from sqlalchemy>=1.3.0->optuna) (3.0.3)\n",
            "Requirement already satisfied: MarkupSafe>=0.9.2 in /usr/local/lib/python3.10/dist-packages (from Mako->alembic>=1.5.0->optuna) (2.1.5)\n",
            "Installing collected packages: Mako, colorlog, alembic, optuna\n",
            "Successfully installed Mako-1.3.5 alembic-1.13.2 colorlog-6.8.2 optuna-3.6.1\n"
          ]
        }
      ]
    },
    {
      "cell_type": "code",
      "source": [
        "import optuna"
      ],
      "metadata": {
        "id": "vqZyNGQTahQC"
      },
      "execution_count": 61,
      "outputs": []
    },
    {
      "cell_type": "code",
      "source": [
        "import optuna\n",
        "from keras.models import Sequential\n",
        "from keras.layers import Dense, Dropout, BatchNormalization\n",
        "from keras.optimizers import Adam, RMSprop, SGD\n",
        "from keras.callbacks import EarlyStopping\n",
        "from keras.regularizers import l2\n",
        "from keras.initializers import he_normal, glorot_normal, lecun_normal"
      ],
      "metadata": {
        "id": "nWmpcA3q9e5R"
      },
      "execution_count": 62,
      "outputs": []
    },
    {
      "cell_type": "code",
      "source": [
        "from keras.activations import swish,elu,selu"
      ],
      "metadata": {
        "id": "IpDTRUsmQ5MH"
      },
      "execution_count": 63,
      "outputs": []
    },
    {
      "cell_type": "code",
      "source": [
        "from keras.layers import PReLU"
      ],
      "metadata": {
        "id": "HSvPipiGVRJT"
      },
      "execution_count": 64,
      "outputs": []
    },
    {
      "cell_type": "code",
      "source": [
        "from keras.layers import LeakyReLU"
      ],
      "metadata": {
        "id": "vNxfS316VUCa"
      },
      "execution_count": 65,
      "outputs": []
    },
    {
      "cell_type": "code",
      "source": [
        "from tensorflow.nn import softmax"
      ],
      "metadata": {
        "id": "QL2EodMZVpsj"
      },
      "execution_count": 66,
      "outputs": []
    },
    {
      "cell_type": "code",
      "source": [
        "from tensorflow.keras.initializers import he_normal, glorot_uniform,he_uniform,glorot_normal,lecun_normal,lecun_uniform"
      ],
      "metadata": {
        "id": "TDtTM8UN4cpg"
      },
      "execution_count": 67,
      "outputs": []
    },
    {
      "cell_type": "code",
      "source": [
        "from tensorflow.keras.optimizers import Nadam #combination of adam and sgd"
      ],
      "metadata": {
        "id": "HdDYKCyZFiLM"
      },
      "execution_count": 68,
      "outputs": []
    },
    {
      "cell_type": "code",
      "source": [
        "from keras.regularizers import l2,l1,l1_l2"
      ],
      "metadata": {
        "id": "xPgmY8FpSj9A"
      },
      "execution_count": 69,
      "outputs": []
    },
    {
      "cell_type": "code",
      "source": [
        "def create_model(trial):\n",
        "    model = Sequential()\n",
        "    n_layers = trial.suggest_int('n_layers', 1,5)\n",
        "    for i in range(n_layers):\n",
        "        node=trial.suggest_int(f'node number in layer {i}',16, 128)\n",
        "        initializer=trial.suggest_categorical(f'initialization in layer {i} :',['he_normal',\n",
        "                'glorot_uniform','he_uniform','glorot_normal','lecun_normal','lecun_uniform'])\n",
        "        activation=trial.suggest_categorical(f'activation in layer {i}', ['relu', 'tanh', 'sigmoid',\n",
        "                                              'softmax','swish','elu','selu','PReLU','LeakyReLU'])\n",
        "        regularization=trial.suggest_categorical('regularization',['l2','l1','l1_l2'])\n",
        "        reg_rate = trial.suggest_float(f'reg rate in layer {i}', 0.0001, 0.5,log=True)\n",
        "        if regularization=='l2':\n",
        "          m=l2(reg_rate)\n",
        "        elif regularization=='l1':\n",
        "          m=l1(reg_rate)\n",
        "        else:\n",
        "          m=l1_l2(reg_rate)\n",
        "        if i==0:\n",
        "         model.add(Dense(node,activation=activation,kernel_initializer=initializer,kernel_regularizer=m,\n",
        "                         input_dim=24))\n",
        "        else:\n",
        "          model.add(Dense(node,kernel_initializer=initializer,activation=activation,kernel_regularizer=m))\n",
        "        v=trial.suggest_categorical(f'batch_norm in layer {i}', [True, False])\n",
        "        if v==True:\n",
        "            model.add(BatchNormalization())\n",
        "        dropout_rate = trial.suggest_float(f'dropout in layer {i}', 0.0, 0.5)\n",
        "        if dropout_rate > 0:\n",
        "            model.add(Dropout(dropout_rate))\n",
        "    model.add(Dense(1, activation='sigmoid'))\n",
        "    optimizer_options = {'adam': Adam,\n",
        "        'rmsprop': RMSprop,\n",
        "        'sgd': SGD,\n",
        "        'Nadam':Nadam }\n",
        "    optimizer_name = trial.suggest_categorical('optimizer', ['adam', 'rmsprop', 'sgd','Nadam'])\n",
        "    learning_rate = trial.suggest_float('learning_rate', .00001,.1, log=True)\n",
        "    optimizer = optimizer_options[optimizer_name](learning_rate=learning_rate)\n",
        "    model.compile(optimizer=optimizer, loss='binary_crossentropy', metrics=['accuracy'])\n",
        "    return model"
      ],
      "metadata": {
        "id": "DM-1MVc5pOyU"
      },
      "execution_count": 70,
      "outputs": []
    },
    {
      "cell_type": "code",
      "source": [
        "def objective(trial):\n",
        "    model = create_model(trial)\n",
        "    batch_size = trial.suggest_int('batch_size',16, 128)\n",
        "    e = trial.suggest_int('epochs',10,250)\n",
        "    history = model.fit(x_train_sc, y_train, validation_data=(x_test_sc,y_test),\n",
        "                        epochs=e, batch_size=batch_size,callbacks=z)\n",
        "\n",
        "    # Evaluate the model\n",
        "    y_pred = model.predict(x_test_sc)\n",
        "    fpr,tpr,thr=roc_curve(y_test,y_pred)\n",
        "    accuracy=[]\n",
        "    for i in thr:\n",
        "     y_prd=np.where(p>i,1,0)\n",
        "     x=accuracy_score(y_test,y_prd)\n",
        "     accuracy.append(x)\n",
        "     d1=pd.DataFrame(thr,columns=[\"thresold\"])\n",
        "     d2=pd.DataFrame(accuracy,columns=[\"accuracy_score\"])\n",
        "     d=pd.concat([d1,d2],axis=1)\n",
        "     d.sort_values(by='accuracy_score',ascending=False).head(2)\n",
        "     m=d['thresold'][1]\n",
        "     y_pred=np.where(p>m,1,0)\n",
        "     accuracy = accuracy_score(y_test,y_pred)\n",
        "     return accuracy"
      ],
      "metadata": {
        "id": "F8jTPa03pOv3"
      },
      "execution_count": 71,
      "outputs": []
    },
    {
      "cell_type": "code",
      "source": [
        "study = optuna.create_study(direction='maximize')"
      ],
      "metadata": {
        "id": "M_nU81a3pOtl",
        "colab": {
          "base_uri": "https://localhost:8080/"
        },
        "outputId": "65d41b7d-ba14-4163-8930-6953e53ddea2"
      },
      "execution_count": 72,
      "outputs": [
        {
          "output_type": "stream",
          "name": "stderr",
          "text": [
            "[I 2024-07-15 21:53:10,182] A new study created in memory with name: no-name-ab875ebf-419d-46f3-ba65-31b8edcd9069\n"
          ]
        }
      ]
    },
    {
      "cell_type": "code",
      "source": [
        "study.optimize(objective, n_trials=3)"
      ],
      "metadata": {
        "id": "PM817qefpOrF",
        "colab": {
          "base_uri": "https://localhost:8080/"
        },
        "outputId": "82078636-4481-4990-8424-5bdf11f7b96f"
      },
      "execution_count": 73,
      "outputs": [
        {
          "output_type": "stream",
          "name": "stdout",
          "text": [
            "Epoch 1/148\n",
            "572/572 [==============================] - 8s 11ms/step - loss: 12.0185 - accuracy: 0.7788 - val_loss: 7.4544 - val_accuracy: 0.7753\n",
            "Epoch 2/148\n",
            "572/572 [==============================] - 7s 12ms/step - loss: 7.4920 - accuracy: 0.7797 - val_loss: 7.4667 - val_accuracy: 0.7753\n",
            "Epoch 3/148\n",
            "572/572 [==============================] - 7s 12ms/step - loss: 7.4919 - accuracy: 0.7797 - val_loss: 7.4759 - val_accuracy: 0.7753\n",
            "Epoch 4/148\n",
            "572/572 [==============================] - 7s 12ms/step - loss: 7.4918 - accuracy: 0.7797 - val_loss: 7.4800 - val_accuracy: 0.7753\n",
            "Epoch 5/148\n",
            "572/572 [==============================] - 5s 9ms/step - loss: 7.4910 - accuracy: 0.7797 - val_loss: 7.4876 - val_accuracy: 0.7753\n",
            "Epoch 6/148\n",
            "572/572 [==============================] - 6s 11ms/step - loss: 7.4922 - accuracy: 0.7797 - val_loss: 7.4885 - val_accuracy: 0.7753\n",
            "188/188 [==============================] - 1s 2ms/step\n"
          ]
        },
        {
          "output_type": "stream",
          "name": "stderr",
          "text": [
            "[I 2024-07-15 21:53:53,379] Trial 0 finished with value: 0.7753333333333333 and parameters: {'n_layers': 5, 'node number in layer 0': 93, 'initialization in layer 0 :': 'glorot_uniform', 'activation in layer 0': 'LeakyReLU', 'regularization': 'l1_l2', 'reg rate in layer 0': 0.00013335266560689373, 'batch_norm in layer 0': False, 'dropout in layer 0': 0.38280585835168557, 'node number in layer 1': 120, 'initialization in layer 1 :': 'glorot_uniform', 'activation in layer 1': 'sigmoid', 'reg rate in layer 1': 0.18461655280245245, 'batch_norm in layer 1': False, 'dropout in layer 1': 0.123727170479284, 'node number in layer 2': 126, 'initialization in layer 2 :': 'he_uniform', 'activation in layer 2': 'relu', 'reg rate in layer 2': 0.003612348934836399, 'batch_norm in layer 2': True, 'dropout in layer 2': 0.04109136157076915, 'node number in layer 3': 122, 'initialization in layer 3 :': 'glorot_uniform', 'activation in layer 3': 'PReLU', 'reg rate in layer 3': 0.08728122761786171, 'batch_norm in layer 3': False, 'dropout in layer 3': 0.025556369557083514, 'node number in layer 4': 88, 'initialization in layer 4 :': 'he_uniform', 'activation in layer 4': 'elu', 'reg rate in layer 4': 0.0018211535199762793, 'batch_norm in layer 4': False, 'dropout in layer 4': 0.3509770162816593, 'optimizer': 'rmsprop', 'learning_rate': 0.00400502116104494, 'batch_size': 42, 'epochs': 148}. Best is trial 0 with value: 0.7753333333333333.\n"
          ]
        },
        {
          "output_type": "stream",
          "name": "stdout",
          "text": [
            "Epoch 1/89\n",
            "250/250 [==============================] - 2s 5ms/step - loss: 38.4143 - accuracy: 0.6276 - val_loss: 38.2587 - val_accuracy: 0.7647\n",
            "Epoch 2/89\n",
            "250/250 [==============================] - 1s 4ms/step - loss: 38.1730 - accuracy: 0.6600 - val_loss: 38.0171 - val_accuracy: 0.7692\n",
            "Epoch 3/89\n",
            "250/250 [==============================] - 1s 3ms/step - loss: 37.9329 - accuracy: 0.6918 - val_loss: 37.7840 - val_accuracy: 0.7725\n",
            "Epoch 4/89\n",
            "250/250 [==============================] - 1s 3ms/step - loss: 37.7020 - accuracy: 0.7130 - val_loss: 37.5557 - val_accuracy: 0.7740\n",
            "Epoch 5/89\n",
            "250/250 [==============================] - 1s 4ms/step - loss: 37.4751 - accuracy: 0.7260 - val_loss: 37.3306 - val_accuracy: 0.7742\n",
            "Epoch 6/89\n",
            "250/250 [==============================] - 1s 3ms/step - loss: 37.2435 - accuracy: 0.7403 - val_loss: 37.1083 - val_accuracy: 0.7747\n",
            "Epoch 7/89\n",
            "250/250 [==============================] - 1s 3ms/step - loss: 37.0228 - accuracy: 0.7477 - val_loss: 36.8874 - val_accuracy: 0.7747\n",
            "Epoch 8/89\n",
            "250/250 [==============================] - 1s 3ms/step - loss: 36.8065 - accuracy: 0.7495 - val_loss: 36.6693 - val_accuracy: 0.7748\n",
            "Epoch 9/89\n",
            "250/250 [==============================] - 1s 3ms/step - loss: 36.5842 - accuracy: 0.7578 - val_loss: 36.4529 - val_accuracy: 0.7748\n",
            "Epoch 10/89\n",
            "250/250 [==============================] - 1s 4ms/step - loss: 36.3665 - accuracy: 0.7615 - val_loss: 36.2379 - val_accuracy: 0.7750\n",
            "Epoch 11/89\n",
            "250/250 [==============================] - 1s 5ms/step - loss: 36.1535 - accuracy: 0.7647 - val_loss: 36.0244 - val_accuracy: 0.7750\n",
            "Epoch 12/89\n",
            "250/250 [==============================] - 1s 6ms/step - loss: 35.9385 - accuracy: 0.7667 - val_loss: 35.8121 - val_accuracy: 0.7752\n",
            "Epoch 13/89\n",
            "250/250 [==============================] - 1s 4ms/step - loss: 35.7266 - accuracy: 0.7692 - val_loss: 35.6009 - val_accuracy: 0.7752\n",
            "Epoch 14/89\n",
            "250/250 [==============================] - 1s 3ms/step - loss: 35.5130 - accuracy: 0.7709 - val_loss: 35.3910 - val_accuracy: 0.7753\n",
            "Epoch 15/89\n",
            "250/250 [==============================] - 1s 3ms/step - loss: 35.3071 - accuracy: 0.7705 - val_loss: 35.1820 - val_accuracy: 0.7753\n",
            "Epoch 16/89\n",
            "250/250 [==============================] - 1s 3ms/step - loss: 35.0943 - accuracy: 0.7718 - val_loss: 34.9744 - val_accuracy: 0.7752\n",
            "Epoch 17/89\n",
            "250/250 [==============================] - 1s 3ms/step - loss: 34.8886 - accuracy: 0.7716 - val_loss: 34.7678 - val_accuracy: 0.7752\n",
            "Epoch 18/89\n",
            "250/250 [==============================] - 1s 3ms/step - loss: 34.6832 - accuracy: 0.7732 - val_loss: 34.5626 - val_accuracy: 0.7752\n",
            "Epoch 19/89\n",
            "250/250 [==============================] - 1s 3ms/step - loss: 34.4758 - accuracy: 0.7742 - val_loss: 34.3584 - val_accuracy: 0.7753\n",
            "Epoch 20/89\n",
            "250/250 [==============================] - 1s 3ms/step - loss: 34.2735 - accuracy: 0.7730 - val_loss: 34.1551 - val_accuracy: 0.7753\n",
            "Epoch 21/89\n",
            "250/250 [==============================] - 1s 3ms/step - loss: 34.0688 - accuracy: 0.7760 - val_loss: 33.9529 - val_accuracy: 0.7753\n",
            "Epoch 22/89\n",
            "250/250 [==============================] - 1s 3ms/step - loss: 33.8670 - accuracy: 0.7742 - val_loss: 33.7516 - val_accuracy: 0.7753\n",
            "Epoch 23/89\n",
            "250/250 [==============================] - 1s 3ms/step - loss: 33.6678 - accuracy: 0.7753 - val_loss: 33.5511 - val_accuracy: 0.7753\n",
            "Epoch 24/89\n",
            "250/250 [==============================] - 1s 3ms/step - loss: 33.4667 - accuracy: 0.7744 - val_loss: 33.3518 - val_accuracy: 0.7753\n",
            "Epoch 25/89\n",
            "250/250 [==============================] - 1s 3ms/step - loss: 33.2693 - accuracy: 0.7744 - val_loss: 33.1530 - val_accuracy: 0.7753\n",
            "Epoch 26/89\n",
            "250/250 [==============================] - 1s 6ms/step - loss: 33.0692 - accuracy: 0.7742 - val_loss: 32.9558 - val_accuracy: 0.7753\n",
            "Epoch 27/89\n",
            "250/250 [==============================] - 1s 5ms/step - loss: 32.8732 - accuracy: 0.7764 - val_loss: 32.7590 - val_accuracy: 0.7753\n",
            "Epoch 28/89\n",
            "250/250 [==============================] - 1s 4ms/step - loss: 32.6739 - accuracy: 0.7773 - val_loss: 32.5633 - val_accuracy: 0.7753\n",
            "Epoch 29/89\n",
            "250/250 [==============================] - 1s 3ms/step - loss: 32.4799 - accuracy: 0.7766 - val_loss: 32.3684 - val_accuracy: 0.7753\n",
            "Epoch 30/89\n",
            "250/250 [==============================] - 1s 3ms/step - loss: 32.2843 - accuracy: 0.7759 - val_loss: 32.1744 - val_accuracy: 0.7753\n",
            "Epoch 31/89\n",
            "250/250 [==============================] - 1s 3ms/step - loss: 32.0924 - accuracy: 0.7768 - val_loss: 31.9807 - val_accuracy: 0.7753\n",
            "Epoch 32/89\n",
            "250/250 [==============================] - 1s 3ms/step - loss: 31.8969 - accuracy: 0.7772 - val_loss: 31.7879 - val_accuracy: 0.7753\n",
            "Epoch 33/89\n",
            "250/250 [==============================] - 1s 3ms/step - loss: 31.7049 - accuracy: 0.7765 - val_loss: 31.5960 - val_accuracy: 0.7753\n",
            "Epoch 34/89\n",
            "250/250 [==============================] - 1s 3ms/step - loss: 31.5127 - accuracy: 0.7775 - val_loss: 31.4052 - val_accuracy: 0.7753\n",
            "Epoch 35/89\n",
            "250/250 [==============================] - 1s 3ms/step - loss: 31.3245 - accuracy: 0.7770 - val_loss: 31.2151 - val_accuracy: 0.7753\n",
            "Epoch 36/89\n",
            "250/250 [==============================] - 1s 3ms/step - loss: 31.1326 - accuracy: 0.7778 - val_loss: 31.0260 - val_accuracy: 0.7753\n",
            "Epoch 37/89\n",
            "250/250 [==============================] - 1s 3ms/step - loss: 30.9460 - accuracy: 0.7766 - val_loss: 30.8384 - val_accuracy: 0.7753\n",
            "Epoch 38/89\n",
            "250/250 [==============================] - 1s 3ms/step - loss: 30.7575 - accuracy: 0.7771 - val_loss: 30.6514 - val_accuracy: 0.7753\n",
            "Epoch 39/89\n",
            "250/250 [==============================] - 1s 3ms/step - loss: 30.5728 - accuracy: 0.7779 - val_loss: 30.4654 - val_accuracy: 0.7753\n",
            "Epoch 40/89\n",
            "250/250 [==============================] - 1s 4ms/step - loss: 30.3875 - accuracy: 0.7777 - val_loss: 30.2805 - val_accuracy: 0.7753\n",
            "Epoch 41/89\n",
            "250/250 [==============================] - 1s 5ms/step - loss: 30.1989 - accuracy: 0.7772 - val_loss: 30.0961 - val_accuracy: 0.7753\n",
            "Epoch 42/89\n",
            "250/250 [==============================] - 2s 6ms/step - loss: 30.0171 - accuracy: 0.7780 - val_loss: 29.9127 - val_accuracy: 0.7753\n",
            "Epoch 43/89\n",
            "250/250 [==============================] - 1s 4ms/step - loss: 29.8350 - accuracy: 0.7772 - val_loss: 29.7303 - val_accuracy: 0.7753\n",
            "Epoch 44/89\n",
            "250/250 [==============================] - 1s 3ms/step - loss: 29.6522 - accuracy: 0.7770 - val_loss: 29.5490 - val_accuracy: 0.7753\n",
            "Epoch 45/89\n",
            "250/250 [==============================] - 1s 3ms/step - loss: 29.4711 - accuracy: 0.7771 - val_loss: 29.3688 - val_accuracy: 0.7753\n",
            "Epoch 46/89\n",
            "250/250 [==============================] - 1s 3ms/step - loss: 29.2929 - accuracy: 0.7774 - val_loss: 29.1895 - val_accuracy: 0.7753\n",
            "Epoch 47/89\n",
            "250/250 [==============================] - 1s 3ms/step - loss: 29.1125 - accuracy: 0.7778 - val_loss: 29.0113 - val_accuracy: 0.7753\n",
            "Epoch 48/89\n",
            "250/250 [==============================] - 1s 3ms/step - loss: 28.9358 - accuracy: 0.7772 - val_loss: 28.8336 - val_accuracy: 0.7753\n",
            "Epoch 49/89\n",
            "250/250 [==============================] - 1s 3ms/step - loss: 28.7574 - accuracy: 0.7772 - val_loss: 28.6569 - val_accuracy: 0.7753\n",
            "Epoch 50/89\n",
            "250/250 [==============================] - 1s 3ms/step - loss: 28.5799 - accuracy: 0.7774 - val_loss: 28.4811 - val_accuracy: 0.7753\n",
            "Epoch 51/89\n",
            "250/250 [==============================] - 1s 3ms/step - loss: 28.4058 - accuracy: 0.7773 - val_loss: 28.3063 - val_accuracy: 0.7753\n",
            "Epoch 52/89\n",
            "250/250 [==============================] - 1s 3ms/step - loss: 28.2307 - accuracy: 0.7785 - val_loss: 28.1325 - val_accuracy: 0.7753\n",
            "Epoch 53/89\n",
            "250/250 [==============================] - 1s 3ms/step - loss: 28.0614 - accuracy: 0.7772 - val_loss: 27.9596 - val_accuracy: 0.7753\n",
            "Epoch 54/89\n",
            "250/250 [==============================] - 1s 3ms/step - loss: 27.8869 - accuracy: 0.7782 - val_loss: 27.7875 - val_accuracy: 0.7753\n",
            "Epoch 55/89\n",
            "250/250 [==============================] - 1s 3ms/step - loss: 27.7136 - accuracy: 0.7774 - val_loss: 27.6160 - val_accuracy: 0.7753\n",
            "Epoch 56/89\n",
            "250/250 [==============================] - 1s 6ms/step - loss: 27.5437 - accuracy: 0.7781 - val_loss: 27.4454 - val_accuracy: 0.7753\n",
            "Epoch 57/89\n",
            "250/250 [==============================] - 1s 5ms/step - loss: 27.3713 - accuracy: 0.7778 - val_loss: 27.2753 - val_accuracy: 0.7753\n",
            "Epoch 58/89\n",
            "250/250 [==============================] - 1s 4ms/step - loss: 27.2025 - accuracy: 0.7783 - val_loss: 27.1062 - val_accuracy: 0.7753\n",
            "Epoch 59/89\n",
            "250/250 [==============================] - 1s 3ms/step - loss: 27.0351 - accuracy: 0.7780 - val_loss: 26.9381 - val_accuracy: 0.7753\n",
            "Epoch 60/89\n",
            "250/250 [==============================] - 1s 3ms/step - loss: 26.8655 - accuracy: 0.7780 - val_loss: 26.7707 - val_accuracy: 0.7753\n",
            "Epoch 61/89\n",
            "250/250 [==============================] - 1s 3ms/step - loss: 26.7006 - accuracy: 0.7780 - val_loss: 26.6040 - val_accuracy: 0.7753\n",
            "Epoch 62/89\n",
            "250/250 [==============================] - 1s 4ms/step - loss: 26.5338 - accuracy: 0.7786 - val_loss: 26.4380 - val_accuracy: 0.7753\n",
            "Epoch 63/89\n",
            "250/250 [==============================] - 1s 3ms/step - loss: 26.3689 - accuracy: 0.7778 - val_loss: 26.2728 - val_accuracy: 0.7753\n",
            "Epoch 64/89\n",
            "250/250 [==============================] - 1s 3ms/step - loss: 26.2028 - accuracy: 0.7779 - val_loss: 26.1089 - val_accuracy: 0.7753\n",
            "Epoch 65/89\n",
            "250/250 [==============================] - 1s 3ms/step - loss: 26.0409 - accuracy: 0.7778 - val_loss: 25.9459 - val_accuracy: 0.7753\n",
            "Epoch 66/89\n",
            "250/250 [==============================] - 1s 3ms/step - loss: 25.8759 - accuracy: 0.7785 - val_loss: 25.7840 - val_accuracy: 0.7753\n",
            "Epoch 67/89\n",
            "250/250 [==============================] - 1s 3ms/step - loss: 25.7145 - accuracy: 0.7784 - val_loss: 25.6227 - val_accuracy: 0.7753\n",
            "Epoch 68/89\n",
            "250/250 [==============================] - 1s 3ms/step - loss: 25.5551 - accuracy: 0.7778 - val_loss: 25.4622 - val_accuracy: 0.7753\n",
            "Epoch 69/89\n",
            "250/250 [==============================] - 1s 3ms/step - loss: 25.3947 - accuracy: 0.7779 - val_loss: 25.3027 - val_accuracy: 0.7753\n",
            "Epoch 70/89\n",
            "250/250 [==============================] - 1s 5ms/step - loss: 25.2350 - accuracy: 0.7780 - val_loss: 25.1440 - val_accuracy: 0.7753\n",
            "Epoch 71/89\n",
            "250/250 [==============================] - 2s 7ms/step - loss: 25.0766 - accuracy: 0.7779 - val_loss: 24.9859 - val_accuracy: 0.7753\n",
            "Epoch 72/89\n",
            "250/250 [==============================] - 1s 4ms/step - loss: 24.9214 - accuracy: 0.7783 - val_loss: 24.8288 - val_accuracy: 0.7753\n",
            "Epoch 73/89\n",
            "250/250 [==============================] - 1s 4ms/step - loss: 24.7603 - accuracy: 0.7782 - val_loss: 24.6729 - val_accuracy: 0.7753\n",
            "Epoch 74/89\n",
            "250/250 [==============================] - 1s 4ms/step - loss: 24.6056 - accuracy: 0.7784 - val_loss: 24.5177 - val_accuracy: 0.7753\n",
            "Epoch 75/89\n",
            "250/250 [==============================] - 1s 3ms/step - loss: 24.4534 - accuracy: 0.7784 - val_loss: 24.3634 - val_accuracy: 0.7753\n",
            "Epoch 76/89\n",
            "250/250 [==============================] - 1s 4ms/step - loss: 24.2991 - accuracy: 0.7781 - val_loss: 24.2100 - val_accuracy: 0.7753\n",
            "Epoch 77/89\n",
            "250/250 [==============================] - 1s 4ms/step - loss: 24.1441 - accuracy: 0.7787 - val_loss: 24.0572 - val_accuracy: 0.7753\n",
            "Epoch 78/89\n",
            "250/250 [==============================] - 1s 3ms/step - loss: 23.9910 - accuracy: 0.7788 - val_loss: 23.9050 - val_accuracy: 0.7753\n",
            "Epoch 79/89\n",
            "250/250 [==============================] - 1s 3ms/step - loss: 23.8429 - accuracy: 0.7781 - val_loss: 23.7540 - val_accuracy: 0.7753\n",
            "Epoch 80/89\n",
            "250/250 [==============================] - 1s 3ms/step - loss: 23.6923 - accuracy: 0.7783 - val_loss: 23.6042 - val_accuracy: 0.7753\n",
            "Epoch 81/89\n",
            "250/250 [==============================] - 1s 3ms/step - loss: 23.5407 - accuracy: 0.7788 - val_loss: 23.4553 - val_accuracy: 0.7753\n",
            "Epoch 82/89\n",
            "250/250 [==============================] - 1s 3ms/step - loss: 23.3942 - accuracy: 0.7781 - val_loss: 23.3075 - val_accuracy: 0.7753\n",
            "Epoch 83/89\n",
            "250/250 [==============================] - 1s 3ms/step - loss: 23.2471 - accuracy: 0.7779 - val_loss: 23.1606 - val_accuracy: 0.7753\n",
            "Epoch 84/89\n",
            "250/250 [==============================] - 1s 3ms/step - loss: 23.0988 - accuracy: 0.7781 - val_loss: 23.0145 - val_accuracy: 0.7753\n",
            "Epoch 85/89\n",
            "250/250 [==============================] - 1s 6ms/step - loss: 22.9532 - accuracy: 0.7785 - val_loss: 22.8694 - val_accuracy: 0.7753\n",
            "Epoch 86/89\n",
            "250/250 [==============================] - 1s 5ms/step - loss: 22.8088 - accuracy: 0.7779 - val_loss: 22.7254 - val_accuracy: 0.7753\n",
            "Epoch 87/89\n",
            "250/250 [==============================] - 1s 4ms/step - loss: 22.6665 - accuracy: 0.7780 - val_loss: 22.5828 - val_accuracy: 0.7753\n",
            "Epoch 88/89\n",
            "250/250 [==============================] - 1s 4ms/step - loss: 22.5244 - accuracy: 0.7784 - val_loss: 22.4407 - val_accuracy: 0.7753\n",
            "Epoch 89/89\n",
            "250/250 [==============================] - 1s 3ms/step - loss: 22.3814 - accuracy: 0.7788 - val_loss: 22.2998 - val_accuracy: 0.7753\n",
            "188/188 [==============================] - 0s 1ms/step\n"
          ]
        },
        {
          "output_type": "stream",
          "name": "stderr",
          "text": [
            "[I 2024-07-15 21:55:15,508] Trial 1 finished with value: 0.7753333333333333 and parameters: {'n_layers': 3, 'node number in layer 0': 116, 'initialization in layer 0 :': 'he_normal', 'activation in layer 0': 'relu', 'regularization': 'l1_l2', 'reg rate in layer 0': 0.026465374054720936, 'batch_norm in layer 0': False, 'dropout in layer 0': 0.4764588173564365, 'node number in layer 1': 19, 'initialization in layer 1 :': 'lecun_normal', 'activation in layer 1': 'relu', 'reg rate in layer 1': 0.028015662564647215, 'batch_norm in layer 1': True, 'dropout in layer 1': 0.36766498469387726, 'node number in layer 2': 120, 'initialization in layer 2 :': 'glorot_uniform', 'activation in layer 2': 'sigmoid', 'reg rate in layer 2': 0.05483677202575504, 'batch_norm in layer 2': False, 'dropout in layer 2': 0.28490784578839456, 'optimizer': 'sgd', 'learning_rate': 7.369333297083373e-05, 'batch_size': 96, 'epochs': 89}. Best is trial 0 with value: 0.7753333333333333.\n"
          ]
        },
        {
          "output_type": "stream",
          "name": "stdout",
          "text": [
            "Epoch 1/205\n",
            "534/534 [==============================] - 2s 3ms/step - loss: 2.7867 - accuracy: 0.7603 - val_loss: 0.4957 - val_accuracy: 0.7887\n",
            "Epoch 2/205\n",
            "534/534 [==============================] - 1s 3ms/step - loss: 0.4916 - accuracy: 0.7936 - val_loss: 0.4943 - val_accuracy: 0.7975\n",
            "Epoch 3/205\n",
            "534/534 [==============================] - 1s 2ms/step - loss: 0.4878 - accuracy: 0.7982 - val_loss: 0.4857 - val_accuracy: 0.7925\n",
            "Epoch 4/205\n",
            "534/534 [==============================] - 1s 3ms/step - loss: 0.4836 - accuracy: 0.8016 - val_loss: 0.4878 - val_accuracy: 0.7935\n",
            "Epoch 5/205\n",
            "534/534 [==============================] - 3s 5ms/step - loss: 0.4819 - accuracy: 0.8032 - val_loss: 0.4846 - val_accuracy: 0.7968\n",
            "Epoch 6/205\n",
            "534/534 [==============================] - 2s 3ms/step - loss: 0.4798 - accuracy: 0.8035 - val_loss: 0.4783 - val_accuracy: 0.7983\n",
            "Epoch 7/205\n",
            "534/534 [==============================] - 1s 2ms/step - loss: 0.4792 - accuracy: 0.8037 - val_loss: 0.4778 - val_accuracy: 0.8052\n",
            "Epoch 8/205\n",
            "534/534 [==============================] - 1s 2ms/step - loss: 0.4768 - accuracy: 0.8058 - val_loss: 0.4764 - val_accuracy: 0.8028\n",
            "Epoch 9/205\n",
            "534/534 [==============================] - 1s 2ms/step - loss: 0.4773 - accuracy: 0.8055 - val_loss: 0.4760 - val_accuracy: 0.8025\n",
            "Epoch 10/205\n",
            "534/534 [==============================] - 1s 2ms/step - loss: 0.4753 - accuracy: 0.8061 - val_loss: 0.4731 - val_accuracy: 0.8045\n",
            "Epoch 11/205\n",
            "534/534 [==============================] - 1s 2ms/step - loss: 0.4772 - accuracy: 0.8049 - val_loss: 0.4758 - val_accuracy: 0.8007\n",
            "Epoch 12/205\n",
            "534/534 [==============================] - 1s 2ms/step - loss: 0.4756 - accuracy: 0.8076 - val_loss: 0.4717 - val_accuracy: 0.8040\n",
            "Epoch 13/205\n",
            "534/534 [==============================] - 1s 2ms/step - loss: 0.4745 - accuracy: 0.8064 - val_loss: 0.4778 - val_accuracy: 0.8040\n",
            "Epoch 14/205\n",
            "534/534 [==============================] - 1s 3ms/step - loss: 0.4744 - accuracy: 0.8064 - val_loss: 0.4737 - val_accuracy: 0.8048\n",
            "Epoch 15/205\n",
            "534/534 [==============================] - 2s 4ms/step - loss: 0.4735 - accuracy: 0.8082 - val_loss: 0.4722 - val_accuracy: 0.8042\n",
            "Epoch 16/205\n",
            "534/534 [==============================] - 2s 3ms/step - loss: 0.4734 - accuracy: 0.8087 - val_loss: 0.4742 - val_accuracy: 0.8065\n",
            "Epoch 17/205\n",
            "534/534 [==============================] - 1s 3ms/step - loss: 0.4741 - accuracy: 0.8085 - val_loss: 0.4766 - val_accuracy: 0.7938\n",
            "188/188 [==============================] - 0s 1ms/step\n"
          ]
        },
        {
          "output_type": "stream",
          "name": "stderr",
          "text": [
            "[I 2024-07-15 21:55:42,293] Trial 2 finished with value: 0.7753333333333333 and parameters: {'n_layers': 1, 'node number in layer 0': 68, 'initialization in layer 0 :': 'glorot_normal', 'activation in layer 0': 'PReLU', 'regularization': 'l2', 'reg rate in layer 0': 0.3637653652607425, 'batch_norm in layer 0': False, 'dropout in layer 0': 0.47805828804724115, 'optimizer': 'rmsprop', 'learning_rate': 0.0006849100602729354, 'batch_size': 45, 'epochs': 205}. Best is trial 0 with value: 0.7753333333333333.\n"
          ]
        }
      ]
    },
    {
      "cell_type": "code",
      "source": [
        "b=study.best_trial"
      ],
      "metadata": {
        "id": "PqRbjAc4pOoo"
      },
      "execution_count": 112,
      "outputs": []
    },
    {
      "cell_type": "code",
      "source": [
        "b"
      ],
      "metadata": {
        "colab": {
          "base_uri": "https://localhost:8080/"
        },
        "id": "OeHRR-Ngdlnc",
        "outputId": "6e19228d-2ec8-412f-ced8-f73e66b7edb1"
      },
      "execution_count": 113,
      "outputs": [
        {
          "output_type": "execute_result",
          "data": {
            "text/plain": [
              "FrozenTrial(number=0, state=TrialState.COMPLETE, values=[0.7753333333333333], datetime_start=datetime.datetime(2024, 7, 15, 21, 53, 10, 195509), datetime_complete=datetime.datetime(2024, 7, 15, 21, 53, 53, 378151), params={'n_layers': 5, 'node number in layer 0': 93, 'initialization in layer 0 :': 'glorot_uniform', 'activation in layer 0': 'LeakyReLU', 'regularization': 'l1_l2', 'reg rate in layer 0': 0.00013335266560689373, 'batch_norm in layer 0': False, 'dropout in layer 0': 0.38280585835168557, 'node number in layer 1': 120, 'initialization in layer 1 :': 'glorot_uniform', 'activation in layer 1': 'sigmoid', 'reg rate in layer 1': 0.18461655280245245, 'batch_norm in layer 1': False, 'dropout in layer 1': 0.123727170479284, 'node number in layer 2': 126, 'initialization in layer 2 :': 'he_uniform', 'activation in layer 2': 'relu', 'reg rate in layer 2': 0.003612348934836399, 'batch_norm in layer 2': True, 'dropout in layer 2': 0.04109136157076915, 'node number in layer 3': 122, 'initialization in layer 3 :': 'glorot_uniform', 'activation in layer 3': 'PReLU', 'reg rate in layer 3': 0.08728122761786171, 'batch_norm in layer 3': False, 'dropout in layer 3': 0.025556369557083514, 'node number in layer 4': 88, 'initialization in layer 4 :': 'he_uniform', 'activation in layer 4': 'elu', 'reg rate in layer 4': 0.0018211535199762793, 'batch_norm in layer 4': False, 'dropout in layer 4': 0.3509770162816593, 'optimizer': 'rmsprop', 'learning_rate': 0.00400502116104494, 'batch_size': 42, 'epochs': 148}, user_attrs={}, system_attrs={}, intermediate_values={}, distributions={'n_layers': IntDistribution(high=5, log=False, low=1, step=1), 'node number in layer 0': IntDistribution(high=128, log=False, low=16, step=1), 'initialization in layer 0 :': CategoricalDistribution(choices=('he_normal', 'glorot_uniform', 'he_uniform', 'glorot_normal', 'lecun_normal', 'lecun_uniform')), 'activation in layer 0': CategoricalDistribution(choices=('relu', 'tanh', 'sigmoid', 'softmax', 'swish', 'elu', 'selu', 'PReLU', 'LeakyReLU')), 'regularization': CategoricalDistribution(choices=('l2', 'l1', 'l1_l2')), 'reg rate in layer 0': FloatDistribution(high=0.5, log=True, low=0.0001, step=None), 'batch_norm in layer 0': CategoricalDistribution(choices=(True, False)), 'dropout in layer 0': FloatDistribution(high=0.5, log=False, low=0.0, step=None), 'node number in layer 1': IntDistribution(high=128, log=False, low=16, step=1), 'initialization in layer 1 :': CategoricalDistribution(choices=('he_normal', 'glorot_uniform', 'he_uniform', 'glorot_normal', 'lecun_normal', 'lecun_uniform')), 'activation in layer 1': CategoricalDistribution(choices=('relu', 'tanh', 'sigmoid', 'softmax', 'swish', 'elu', 'selu', 'PReLU', 'LeakyReLU')), 'reg rate in layer 1': FloatDistribution(high=0.5, log=True, low=0.0001, step=None), 'batch_norm in layer 1': CategoricalDistribution(choices=(True, False)), 'dropout in layer 1': FloatDistribution(high=0.5, log=False, low=0.0, step=None), 'node number in layer 2': IntDistribution(high=128, log=False, low=16, step=1), 'initialization in layer 2 :': CategoricalDistribution(choices=('he_normal', 'glorot_uniform', 'he_uniform', 'glorot_normal', 'lecun_normal', 'lecun_uniform')), 'activation in layer 2': CategoricalDistribution(choices=('relu', 'tanh', 'sigmoid', 'softmax', 'swish', 'elu', 'selu', 'PReLU', 'LeakyReLU')), 'reg rate in layer 2': FloatDistribution(high=0.5, log=True, low=0.0001, step=None), 'batch_norm in layer 2': CategoricalDistribution(choices=(True, False)), 'dropout in layer 2': FloatDistribution(high=0.5, log=False, low=0.0, step=None), 'node number in layer 3': IntDistribution(high=128, log=False, low=16, step=1), 'initialization in layer 3 :': CategoricalDistribution(choices=('he_normal', 'glorot_uniform', 'he_uniform', 'glorot_normal', 'lecun_normal', 'lecun_uniform')), 'activation in layer 3': CategoricalDistribution(choices=('relu', 'tanh', 'sigmoid', 'softmax', 'swish', 'elu', 'selu', 'PReLU', 'LeakyReLU')), 'reg rate in layer 3': FloatDistribution(high=0.5, log=True, low=0.0001, step=None), 'batch_norm in layer 3': CategoricalDistribution(choices=(True, False)), 'dropout in layer 3': FloatDistribution(high=0.5, log=False, low=0.0, step=None), 'node number in layer 4': IntDistribution(high=128, log=False, low=16, step=1), 'initialization in layer 4 :': CategoricalDistribution(choices=('he_normal', 'glorot_uniform', 'he_uniform', 'glorot_normal', 'lecun_normal', 'lecun_uniform')), 'activation in layer 4': CategoricalDistribution(choices=('relu', 'tanh', 'sigmoid', 'softmax', 'swish', 'elu', 'selu', 'PReLU', 'LeakyReLU')), 'reg rate in layer 4': FloatDistribution(high=0.5, log=True, low=0.0001, step=None), 'batch_norm in layer 4': CategoricalDistribution(choices=(True, False)), 'dropout in layer 4': FloatDistribution(high=0.5, log=False, low=0.0, step=None), 'optimizer': CategoricalDistribution(choices=('adam', 'rmsprop', 'sgd', 'Nadam')), 'learning_rate': FloatDistribution(high=0.1, log=True, low=1e-05, step=None), 'batch_size': IntDistribution(high=128, log=False, low=16, step=1), 'epochs': IntDistribution(high=250, log=False, low=10, step=1)}, trial_id=0, value=None)"
            ]
          },
          "metadata": {},
          "execution_count": 113
        }
      ]
    },
    {
      "cell_type": "code",
      "source": [
        "def create_model(b):\n",
        "    model = Sequential()\n",
        "    n_layers = b.suggest_int('n_layers', 1,5)\n",
        "    for i in range(n_layers):\n",
        "        node=b.suggest_int(f'node number in layer {i}',16, 128)\n",
        "        initializer=b.suggest_categorical(f'initialization in layer {i} :',['he_normal',\n",
        "                'glorot_uniform','he_uniform','glorot_normal','lecun_normal','lecun_uniform'])\n",
        "        activation=b.suggest_categorical(f'activation in layer {i}', ['relu', 'tanh', 'sigmoid',\n",
        "                                              'softmax','swish','elu','selu','PReLU','LeakyReLU'])\n",
        "        regularization=b.suggest_categorical('regularization',['l2','l1','l1_l2'])\n",
        "        reg_rate =b.suggest_float(f'reg rate in layer {i}', 0.0001, 0.5,log=True)\n",
        "        if regularization=='l2':\n",
        "          m=l2(reg_rate)\n",
        "        elif regularization=='l1':\n",
        "          m=l1(reg_rate)\n",
        "        else:\n",
        "          m=l1_l2(reg_rate)\n",
        "        if i==0:\n",
        "         model.add(Dense(node,activation=activation,kernel_initializer=initializer,kernel_regularizer=m,\n",
        "                         input_dim=24))\n",
        "        else:\n",
        "          model.add(Dense(node,kernel_initializer=initializer,activation=activation,kernel_regularizer=m))\n",
        "        v=b.suggest_categorical(f'batch_norm in layer {i}', [True, False])\n",
        "        if v==True:\n",
        "            model.add(BatchNormalization())\n",
        "        dropout_rate =b.suggest_float(f'dropout in layer {i}', 0.0, 0.5)\n",
        "        if dropout_rate > 0:\n",
        "            model.add(Dropout(dropout_rate))\n",
        "    model.add(Dense(1, activation='sigmoid'))\n",
        "    optimizer_options = {'adam': Adam,\n",
        "        'rmsprop': RMSprop,\n",
        "        'sgd': SGD,\n",
        "        'Nadam':Nadam }\n",
        "    optimizer_name =b.suggest_categorical('optimizer', ['adam', 'rmsprop', 'sgd','Nadam'])\n",
        "    learning_rate =b.suggest_float('learning_rate', .00001,.1, log=True)\n",
        "    optimizer = optimizer_options[optimizer_name](learning_rate=learning_rate)\n",
        "    model.compile(optimizer=optimizer, loss='binary_crossentropy', metrics=['accuracy'])\n",
        "    return model"
      ],
      "metadata": {
        "id": "ZTAs9jlPdJ3n"
      },
      "execution_count": 114,
      "outputs": []
    },
    {
      "cell_type": "code",
      "source": [
        "best_model = create_model(b)"
      ],
      "metadata": {
        "id": "eiI1Z-qIgpEb"
      },
      "execution_count": 116,
      "outputs": []
    },
    {
      "cell_type": "code",
      "source": [
        "best_model.fit(x_train_sc, y_train, epochs=b.params['epochs'],\n",
        "               validation_data=(x_test_sc, y_test),\n",
        "               batch_size=b.params['batch_size'], callbacks=z)"
      ],
      "metadata": {
        "colab": {
          "base_uri": "https://localhost:8080/"
        },
        "id": "y3fXo2J-g3MZ",
        "outputId": "cfdb6d2f-ec8e-439f-9ebf-7ea3e447b686"
      },
      "execution_count": 117,
      "outputs": [
        {
          "output_type": "stream",
          "name": "stdout",
          "text": [
            "Epoch 1/148\n",
            "572/572 [==============================] - 6s 6ms/step - loss: 11.9574 - accuracy: 0.7791 - val_loss: 7.4509 - val_accuracy: 0.7753\n",
            "Epoch 2/148\n",
            "572/572 [==============================] - 3s 5ms/step - loss: 7.4925 - accuracy: 0.7797 - val_loss: 7.4620 - val_accuracy: 0.7753\n",
            "Epoch 3/148\n",
            "572/572 [==============================] - 4s 7ms/step - loss: 7.4925 - accuracy: 0.7797 - val_loss: 7.4706 - val_accuracy: 0.7753\n",
            "Epoch 4/148\n",
            "572/572 [==============================] - 3s 5ms/step - loss: 7.4919 - accuracy: 0.7797 - val_loss: 7.4779 - val_accuracy: 0.7753\n",
            "Epoch 5/148\n",
            "572/572 [==============================] - 3s 5ms/step - loss: 7.4917 - accuracy: 0.7797 - val_loss: 7.4808 - val_accuracy: 0.7753\n",
            "Epoch 6/148\n",
            "572/572 [==============================] - 3s 5ms/step - loss: 7.4916 - accuracy: 0.7797 - val_loss: 7.4843 - val_accuracy: 0.7753\n"
          ]
        },
        {
          "output_type": "execute_result",
          "data": {
            "text/plain": [
              "<keras.src.callbacks.History at 0x7e7a81a3e020>"
            ]
          },
          "metadata": {},
          "execution_count": 117
        }
      ]
    },
    {
      "cell_type": "code",
      "source": [
        "best_model.summary()"
      ],
      "metadata": {
        "colab": {
          "base_uri": "https://localhost:8080/"
        },
        "id": "p8zn-fx-hQcb",
        "outputId": "2b027f54-4c1c-44a2-c85b-e64c1f24cb7e"
      },
      "execution_count": 118,
      "outputs": [
        {
          "output_type": "stream",
          "name": "stdout",
          "text": [
            "Model: \"sequential_6\"\n",
            "_________________________________________________________________\n",
            " Layer (type)                Output Shape              Param #   \n",
            "=================================================================\n",
            " dense_42 (Dense)            (None, 93)                2325      \n",
            "                                                                 \n",
            " dropout_22 (Dropout)        (None, 93)                0         \n",
            "                                                                 \n",
            " dense_43 (Dense)            (None, 120)               11280     \n",
            "                                                                 \n",
            " dropout_23 (Dropout)        (None, 120)               0         \n",
            "                                                                 \n",
            " dense_44 (Dense)            (None, 126)               15246     \n",
            "                                                                 \n",
            " batch_normalization_6 (Bat  (None, 126)               504       \n",
            " chNormalization)                                                \n",
            "                                                                 \n",
            " dropout_24 (Dropout)        (None, 126)               0         \n",
            "                                                                 \n",
            " dense_45 (Dense)            (None, 122)               15616     \n",
            "                                                                 \n",
            " dropout_25 (Dropout)        (None, 122)               0         \n",
            "                                                                 \n",
            " dense_46 (Dense)            (None, 88)                10824     \n",
            "                                                                 \n",
            " dropout_26 (Dropout)        (None, 88)                0         \n",
            "                                                                 \n",
            " dense_47 (Dense)            (None, 1)                 89        \n",
            "                                                                 \n",
            "=================================================================\n",
            "Total params: 55884 (218.30 KB)\n",
            "Trainable params: 55632 (217.31 KB)\n",
            "Non-trainable params: 252 (1008.00 Byte)\n",
            "_________________________________________________________________\n"
          ]
        }
      ]
    },
    {
      "cell_type": "code",
      "source": [
        "best_model.evaluate(x_test_sc,y_test)"
      ],
      "metadata": {
        "colab": {
          "base_uri": "https://localhost:8080/"
        },
        "id": "tu2r3vFNhiZI",
        "outputId": "fdd5f0b7-39cf-4d25-f74a-0fe8666aa0e1"
      },
      "execution_count": 119,
      "outputs": [
        {
          "output_type": "stream",
          "name": "stdout",
          "text": [
            "188/188 [==============================] - 1s 5ms/step - loss: 7.4509 - accuracy: 0.7753\n"
          ]
        },
        {
          "output_type": "execute_result",
          "data": {
            "text/plain": [
              "[7.450925827026367, 0.7753333449363708]"
            ]
          },
          "metadata": {},
          "execution_count": 119
        }
      ]
    },
    {
      "cell_type": "code",
      "source": [],
      "metadata": {
        "id": "WxaKlQxzh1B-"
      },
      "execution_count": null,
      "outputs": []
    }
  ]
}